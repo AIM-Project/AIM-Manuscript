{
 "cells": [
  {
   "cell_type": "markdown",
   "metadata": {},
   "source": [
    "This file contains the code used for implementing the classifer in paper Acute Leukemia Classification using Bayesian Networks. There are several assumptions made during the reproducing implementation as the paper omits lots of realization details. The paper uses the same preprocessing method as in paper 1 and also use SNR as the feature selection criterion. In addition to SNR score, the paper also adopts kmeans during feature selection.\n",
    "\n",
    "**Data Set**: \n",
    "    - Train Data: 38 bone marrow samples(27ALL, 11AML).\n",
    "    - Test Data: 34 samples(24 bone marrow, 10 peripheral blood samples, 20ALL, 14AML).\n",
    "    \n",
    "**Main Purpose**: SNR/KMeans,SNR + Bayesian Network"
   ]
  },
  {
   "cell_type": "markdown",
   "metadata": {},
   "source": [
    "## Reproduce using R"
   ]
  },
  {
   "cell_type": "markdown",
   "metadata": {},
   "source": [
    "### Step 1 Load  data\n",
    "\n",
    "The paper states nothing about data preprocessing. However, the scale of each predictor is important when calculating SNR. Hence, we just assume the preprocessing is the same as in the Golub. paper. Also, the SNR mentioned in the paper is essentially the same as the PS in the Golub paper."
   ]
  },
  {
   "cell_type": "code",
   "execution_count": 1,
   "metadata": {
    "collapsed": false
   },
   "outputs": [
    {
     "data": {
      "text/html": [
       "<table>\n",
       "<tbody>\n",
       "\t<tr><th scope=row>Train</th><td>38  </td><td>7129</td></tr>\n",
       "\t<tr><th scope=row>Test</th><td>34  </td><td>7129</td></tr>\n",
       "</tbody>\n",
       "</table>\n"
      ],
      "text/latex": [
       "\\begin{tabular}{r|ll}\n",
       "\tTrain & 38   & 7129\\\\\n",
       "\tTest & 34   & 7129\\\\\n",
       "\\end{tabular}\n"
      ],
      "text/markdown": [
       "\n",
       "| Train | 38   | 7129 | \n",
       "| Test | 34   | 7129 | \n",
       "\n",
       "\n"
      ],
      "text/plain": [
       "      [,1] [,2]\n",
       "Train 38   7129\n",
       "Test  34   7129"
      ]
     },
     "metadata": {},
     "output_type": "display_data"
    },
    {
     "data": {
      "text/html": [
       "<table>\n",
       "<thead><tr><th></th><th scope=col>Train</th><th scope=col>Test</th></tr></thead>\n",
       "<tbody>\n",
       "\t<tr><th scope=row>ALL</th><td>27</td><td>20</td></tr>\n",
       "\t<tr><th scope=row>AML</th><td>11</td><td>14</td></tr>\n",
       "</tbody>\n",
       "</table>\n"
      ],
      "text/latex": [
       "\\begin{tabular}{r|ll}\n",
       "  & Train & Test\\\\\n",
       "\\hline\n",
       "\tALL & 27 & 20\\\\\n",
       "\tAML & 11 & 14\\\\\n",
       "\\end{tabular}\n"
      ],
      "text/markdown": [
       "\n",
       "| <!--/--> | Train | Test | \n",
       "|---|---|\n",
       "| ALL | 27 | 20 | \n",
       "| AML | 11 | 14 | \n",
       "\n",
       "\n"
      ],
      "text/plain": [
       "    Train Test\n",
       "ALL 27    20  \n",
       "AML 11    14  "
      ]
     },
     "metadata": {},
     "output_type": "display_data"
    },
    {
     "data": {
      "text/html": [
       "<table>\n",
       "<tbody>\n",
       "\t<tr><th scope=row>Train</th><td>38  </td><td>3051</td></tr>\n",
       "\t<tr><th scope=row>Test</th><td>34  </td><td>3051</td></tr>\n",
       "</tbody>\n",
       "</table>\n"
      ],
      "text/latex": [
       "\\begin{tabular}{r|ll}\n",
       "\tTrain & 38   & 3051\\\\\n",
       "\tTest & 34   & 3051\\\\\n",
       "\\end{tabular}\n"
      ],
      "text/markdown": [
       "\n",
       "| Train | 38   | 3051 | \n",
       "| Test | 34   | 3051 | \n",
       "\n",
       "\n"
      ],
      "text/plain": [
       "      [,1] [,2]\n",
       "Train 38   3051\n",
       "Test  34   3051"
      ]
     },
     "metadata": {},
     "output_type": "display_data"
    },
    {
     "data": {
      "text/html": [
       "<table>\n",
       "<thead><tr><th></th><th scope=col>Train</th><th scope=col>Test</th></tr></thead>\n",
       "<tbody>\n",
       "\t<tr><th scope=row>ALL</th><td>27</td><td>20</td></tr>\n",
       "\t<tr><th scope=row>AML</th><td>11</td><td>14</td></tr>\n",
       "</tbody>\n",
       "</table>\n"
      ],
      "text/latex": [
       "\\begin{tabular}{r|ll}\n",
       "  & Train & Test\\\\\n",
       "\\hline\n",
       "\tALL & 27 & 20\\\\\n",
       "\tAML & 11 & 14\\\\\n",
       "\\end{tabular}\n"
      ],
      "text/markdown": [
       "\n",
       "| <!--/--> | Train | Test | \n",
       "|---|---|\n",
       "| ALL | 27 | 20 | \n",
       "| AML | 11 | 14 | \n",
       "\n",
       "\n"
      ],
      "text/plain": [
       "    Train Test\n",
       "ALL 27    20  \n",
       "AML 11    14  "
      ]
     },
     "metadata": {},
     "output_type": "display_data"
    }
   ],
   "source": [
    "## Most code is commented in this cell since it is unnecessary and time-consuming to run it everytime.\n",
    "# options(repos='http://cran.rstudio.com/') \n",
    "# source(\"http://bioconductor.org/biocLite.R\")\n",
    "# biocLite(\"golubEsets\")\n",
    "suppressMessages(library(golubEsets))\n",
    "suppressMessages(library(bnlearn))\n",
    "#Training data predictor and response\n",
    "data(Golub_Train)\n",
    "golub_train_p = t(exprs(Golub_Train))\n",
    "golub_train_r =pData(Golub_Train)[, \"ALL.AML\"]\n",
    "#Testing data predictor\n",
    "data(Golub_Test)\n",
    "golub_test_p = t(exprs(Golub_Test))\n",
    "golub_test_r = pData(Golub_Test)[, \"ALL.AML\"]\n",
    "#Show summary\n",
    "rbind(Train = dim(golub_train_p), Test = dim(golub_test_p))\n",
    "cbind(Train = table(golub_train_r),Test = table(golub_test_r))\n",
    "# Thresholding\n",
    "golub_train_pp = golub_train_p\n",
    "golub_train_pp[golub_train_pp<100] = 100\n",
    "golub_train_pp[golub_train_pp>16000] = 16000\n",
    "\n",
    "# Filtering\n",
    "golub_filter = function(x, r = 5, d=500){\n",
    "    minval = min(x)\n",
    "    maxval = max(x)\n",
    "    (maxval/minval>r)&&(maxval-minval>d)\n",
    "}\n",
    "index = apply(golub_train_pp, 2, golub_filter)\n",
    "golub_index = (1:7129)[index]\n",
    "golub_train_pp = golub_train_pp[, golub_index]\n",
    "\n",
    "golub_test_pp = golub_test_p\n",
    "golub_test_pp[golub_test_pp<100] = 100\n",
    "golub_test_pp[golub_test_pp>16000] = 16000\n",
    "golub_test_pp = golub_test_pp[, golub_index]\n",
    "\n",
    "# Log Transformation\n",
    "golub_train_p_trans = log10(golub_train_pp)\n",
    "golub_test_p_trans = log10(golub_test_pp)\n",
    "\n",
    "# Normalization\n",
    "train_m = colMeans(golub_train_p_trans)\n",
    "train_sd = apply(golub_train_p_trans, 2, sd)\n",
    "golub_train_p_trans = t((t(golub_train_p_trans)-train_m)/train_sd)\n",
    "golub_test_p_trans  = t((t(golub_test_p_trans)-train_m)/train_sd)\n",
    "rbind(Train = dim(golub_train_p_trans), Test = dim(golub_test_p_trans))\n",
    "cbind(Train = table(golub_train_r),Test = table(golub_test_r))\n",
    "set.seed(201703)"
   ]
  },
  {
   "cell_type": "markdown",
   "metadata": {},
   "source": [
    "### Step 2 Feature selection \n",
    "\n",
    "As the details about this is not found in the paper, we make an assumption and use the genes selected using train data also as predictors selected for the test data. Also, for kmeans clustering feature selection, we select the top1 genes from each cluster using absolute SNR. Below are the helper functions for feature selection."
   ]
  },
  {
   "cell_type": "code",
   "execution_count": 2,
   "metadata": {
    "collapsed": true
   },
   "outputs": [],
   "source": [
    "#SNR:signal-to-noise ratio\n",
    "get_SNR = function(train_d, train_r){\n",
    "    tr_m_aml =  colMeans(train_d[train_r == \"AML\",])\n",
    "    tr_sd_aml = apply(train_d[train_r == \"AML\",], 2, sd)\n",
    "    tr_m_all = colMeans(train_d[train_r == \"ALL\",])\n",
    "    tr_sd_all = apply(train_d[train_r == \"ALL\",], 2, sd)\n",
    "    p = (tr_m_aml-tr_m_all)/(tr_sd_aml+tr_sd_all)\n",
    "    return(p)\n",
    "}"
   ]
  },
  {
   "cell_type": "code",
   "execution_count": 3,
   "metadata": {
    "collapsed": true
   },
   "outputs": [],
   "source": [
    "# Kmeans clustering and then SNR ranking selection\n",
    "get_kmeans = function(k, train_d, train_r){\n",
    "    cl = kmeans(t(train_d), k, iter.max=50)$cluster\n",
    "    result = numeric(k)\n",
    "    for(i in 1:k){\n",
    "        id = (cl == i)\n",
    "        oid = (1:ncol(train_d))[id]\n",
    "        iSNR = get_SNR(t(t(train_d)[id,]),train_r)\n",
    "        temp = which.max(abs(iSNR))\n",
    "        result[i] = oid[temp]\n",
    "    }\n",
    "    return(result)\n",
    "}"
   ]
  },
  {
   "cell_type": "code",
   "execution_count": 4,
   "metadata": {
    "collapsed": true
   },
   "outputs": [],
   "source": [
    "# direct SNR ranking selection\n",
    "get_direct = function(k, train_d, train_r){\n",
    "    SNR = get_SNR(train_d, train_r)\n",
    "    result = c(head(order(SNR, decreasing = F), k-k%/%2), head(order(SNR, decreasing = T), k%/%2))\n",
    "    return(result)\n",
    "}"
   ]
  },
  {
   "cell_type": "markdown",
   "metadata": {},
   "source": [
    "### Step 3 Bayesion Network Classfier\n",
    "\n",
    "For each feature selection methods, we check both 50 and 90 genes selection below.\n",
    "\n",
    "#### 50 genes classification"
   ]
  },
  {
   "cell_type": "code",
   "execution_count": 5,
   "metadata": {
    "collapsed": false
   },
   "outputs": [],
   "source": [
    "#get the data after gene selection for each method\n",
    "k = c(5,10,20,30,50,70,90)\n",
    "kmeans_id_50 = get_kmeans(k[5], golub_train_p_trans, golub_train_r)\n",
    "train_kmeans_50 = data.frame(golub_train_p_trans[,kmeans_id_50], class = golub_train_r)\n",
    "test_kmeans_50 = data.frame(golub_test_p_trans[,kmeans_id_50])\n",
    "direct_id_50 = get_direct(k[5], golub_train_p_trans, golub_train_r)\n",
    "train_direct_50 = data.frame(golub_train_p_trans[, direct_id_50], class = golub_train_r)\n",
    "test_direct_50 = data.frame(golub_test_p_trans[, direct_id_50])\n",
    "train_kmeans = golub_train_p_trans[,kmeans_id_50]\n",
    "test_kmeans = golub_test_p_trans[,kmeans_id_50]\n",
    "save(train_kmeans,golub_train_r, test_kmeans,golub_test_r, file = \"paper29.rda\")"
   ]
  },
  {
   "cell_type": "code",
   "execution_count": 6,
   "metadata": {
    "collapsed": false
   },
   "outputs": [
    {
     "data": {
      "text/plain": [
       "             True\n",
       "Predict_train ALL AML\n",
       "          ALL  27   0\n",
       "          AML   0  11"
      ]
     },
     "metadata": {},
     "output_type": "display_data"
    },
    {
     "data": {
      "text/plain": [
       "            True\n",
       "Predict_test ALL AML\n",
       "         ALL  19  11\n",
       "         AML   1   3"
      ]
     },
     "metadata": {},
     "output_type": "display_data"
    }
   ],
   "source": [
    "# kmeans method\n",
    "km_50 = empty.graph(c(\"class\", colnames(data.frame(golub_train_p_trans[,kmeans_id_50]))))\n",
    "#km_set = cbind( from = colnames(data.frame(golub_train_p_trans[,kmeans_id])), to = rep(\"class\", k[5]))\n",
    "arcs(km_50) = matrix(c(rep(\"class\", k[5]), \n",
    "                    colnames(data.frame(golub_train_p_trans[,kmeans_id_50]))), \n",
    "                  ncol = 2, byrow = F, dimnames = list(c(), c(\"from\", \"to\")))\n",
    "#plot(km)\n",
    "km_fitted_50 = bn.fit(km_50, train_kmeans_50)\n",
    "km_predict_train_50 = predict(km_fitted_50, node = \"class\", method=\"bayes-lw\", train_kmeans_50)\n",
    "km_predict_test_50 = predict(km_fitted_50, node = \"class\", method=\"bayes-lw\", test_kmeans_50)\n",
    "table(Predict_train = km_predict_train_50, True = train_kmeans_50$class)\n",
    "table(Predict_test = km_predict_test_50, True = golub_test_r)"
   ]
  },
  {
   "cell_type": "code",
   "execution_count": 7,
   "metadata": {
    "collapsed": false
   },
   "outputs": [
    {
     "data": {
      "text/plain": [
       "             True\n",
       "Predict_train ALL AML\n",
       "          ALL  27   0\n",
       "          AML   0  11"
      ]
     },
     "metadata": {},
     "output_type": "display_data"
    },
    {
     "data": {
      "text/plain": [
       "            True\n",
       "Predict_test ALL AML\n",
       "         ALL  19   8\n",
       "         AML   1   6"
      ]
     },
     "metadata": {},
     "output_type": "display_data"
    }
   ],
   "source": [
    "# direct method\n",
    "dr_50 = empty.graph(c(\"class\", colnames(data.frame(golub_train_p_trans[, direct_id_50]))))\n",
    "arcs(dr_50) = matrix(c(rep(\"class\", k[5]), colnames(data.frame(golub_train_p_trans[,direct_id_50]))), \n",
    "                  ncol = 2, byrow = F, dimnames = list(c(), c(\"from\", \"to\")))\n",
    "dr_fitted_50 = bn.fit(dr_50, train_direct_50)\n",
    "dr_predict_train_50 = predict(dr_fitted_50, \"class\", method = \"bayes-lw\", train_direct_50)\n",
    "dr_predict_test_50 = predict(dr_fitted_50, \"class\", method = \"bayes-lw\", test_direct_50)\n",
    "table(Predict_train = dr_predict_train_50, True = train_direct_50$class)\n",
    "table(Predict_test = dr_predict_test_50, True = golub_test_r)"
   ]
  },
  {
   "cell_type": "markdown",
   "metadata": {},
   "source": [
    "#### 90 genes classification"
   ]
  },
  {
   "cell_type": "code",
   "execution_count": 8,
   "metadata": {
    "collapsed": false
   },
   "outputs": [],
   "source": [
    "kmeans_id_90 = get_kmeans(k[7], golub_train_p_trans, golub_train_r)\n",
    "train_kmeans_90 = data.frame(golub_train_p_trans[,kmeans_id_90], class = golub_train_r)\n",
    "test_kmeans_90 = data.frame(golub_test_p_trans[,kmeans_id_90])\n",
    "direct_id_90 = get_direct(k[7], golub_train_p_trans, golub_train_r)\n",
    "train_direct_90 = data.frame(golub_train_p_trans[, direct_id_90], class = golub_train_r)\n",
    "test_direct_90 = data.frame(golub_test_p_trans[, direct_id_90])"
   ]
  },
  {
   "cell_type": "code",
   "execution_count": 9,
   "metadata": {
    "collapsed": false
   },
   "outputs": [
    {
     "data": {
      "text/plain": [
       "             True\n",
       "Predict_train ALL AML\n",
       "          ALL  27   0\n",
       "          AML   0  11"
      ]
     },
     "metadata": {},
     "output_type": "display_data"
    },
    {
     "data": {
      "text/plain": [
       "            True\n",
       "Predict_test ALL AML\n",
       "         ALL  19   5\n",
       "         AML   1   9"
      ]
     },
     "metadata": {},
     "output_type": "display_data"
    },
    {
     "data": {
      "text/plain": [
       "             True\n",
       "Predict_train ALL AML\n",
       "          ALL  27   0\n",
       "          AML   0  11"
      ]
     },
     "metadata": {},
     "output_type": "display_data"
    },
    {
     "data": {
      "text/plain": [
       "            True\n",
       "Predict_test ALL AML\n",
       "         ALL  19   8\n",
       "         AML   1   6"
      ]
     },
     "metadata": {},
     "output_type": "display_data"
    }
   ],
   "source": [
    "# kmeans method\n",
    "km_90 = empty.graph(c(\"class\", colnames(data.frame(golub_train_p_trans[,kmeans_id_90]))))\n",
    "#km_set = cbind( from = colnames(data.frame(golub_train_p_trans[,kmeans_id])), to = rep(\"class\", k[5]))\n",
    "arcs(km_90) = matrix(c(rep(\"class\", k[7]), \n",
    "                    colnames(data.frame(golub_train_p_trans[,kmeans_id_90]))), \n",
    "                  ncol = 2, byrow = F, dimnames = list(c(), c(\"from\", \"to\")))\n",
    "#plot(km)\n",
    "km_fitted_90 = bn.fit(km_90, train_kmeans_90)\n",
    "km_predict_train_90 = predict(km_fitted_90, node = \"class\", method=\"bayes-lw\", train_kmeans_90)\n",
    "km_predict_test_90 = predict(km_fitted_90, node = \"class\", method=\"bayes-lw\", test_kmeans_90)\n",
    "table(Predict_train = km_predict_train_90, True = train_kmeans_90$class)\n",
    "table(Predict_test = km_predict_test_90, True = golub_test_r)\n",
    "\n",
    "# direct method\n",
    "dr_90 = empty.graph(c(\"class\", colnames(data.frame(golub_train_p_trans[, direct_id_90]))))\n",
    "arcs(dr_90) = matrix(c(rep(\"class\", k[7]), colnames(data.frame(golub_train_p_trans[,direct_id_90]))), \n",
    "                  ncol = 2, byrow = F, dimnames = list(c(), c(\"from\", \"to\")))\n",
    "dr_fitted_90 = bn.fit(dr_90, train_direct_90)\n",
    "dr_predict_train_90 = predict(dr_fitted_90, \"class\", method = \"bayes-lw\", train_direct_90)\n",
    "dr_predict_test_90 = predict(dr_fitted_90, \"class\", method = \"bayes-lw\", test_direct_90)\n",
    "table(Predict_train = dr_predict_train_90, True = train_direct_90$class)\n",
    "table(Predict_test = dr_predict_test_90, True = golub_test_r)"
   ]
  },
  {
   "cell_type": "markdown",
   "metadata": {},
   "source": [
    "## Summary of Reproduce result\n",
    "\n",
    "The 50-gene and 90-gene classification results in the paper is show below. However, we didn't get as high accuracy as in the paper. \n",
    "\n",
    "- Our results(Test results)\n",
    "\n",
    "|# of features|With Kmeans|Withouth Kmeans|\n",
    "|-------------|-----------|---------------|\n",
    "|50|22/34|25/34|\n",
    "|90|28/34|25/34|\n",
    "\n",
    "- Paper Results(Test results)\n",
    "\n",
    "|# of features|With Kmeans| Without Kmeans|\n",
    "|-------------|-----------|---------------|\n",
    "|50|31/34|29/34|\n",
    "|90|32/34|32/34|\n",
    "\n",
    "As we can see above, our results are quite different from the paper's results. One of the reasons is that the paper omits too many details about their implementation or settings. Although it includes general introduction to kmeans and bayesian network, it still cannot enable us to reproduce their results. Things it should state includes but not limitted to preprocessing steps, number of genes selected from each cluster, bayesian network settings etc."
   ]
  }
 ],
 "metadata": {
  "kernelspec": {
   "display_name": "R",
   "language": "R",
   "name": "ir"
  },
  "language_info": {
   "codemirror_mode": "r",
   "file_extension": ".r",
   "mimetype": "text/x-r-source",
   "name": "R",
   "pygments_lexer": "r",
   "version": "3.3.2"
  }
 },
 "nbformat": 4,
 "nbformat_minor": 0
}
