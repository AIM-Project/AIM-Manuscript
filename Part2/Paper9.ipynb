{
 "cells": [
  {
   "cell_type": "markdown",
   "metadata": {},
   "source": [
    "This file contains the code used for implementing the classifer in paper Comparison of Discrimination Methods for the Classification of Tumors Using Gene Expression data. This notebook could be pretty slow as a lot of function implemented are not time efficient enough in R (will try to optimize it if possible in the future).\n",
    "\n",
    "**Data Set**: Merge the train and test data in the original paper and split the merged data to form train and test during learning.\n",
    "    - Merge Data: 72 samples(47 ALL, 25 AML, 62 bone marrow, 10 peripheral blood samples)\n",
    "    - Predictors: 7129 gene expression levels represent 6817 genes.\n",
    "    \n",
    "**Main Purpose**: FLDA, DLDA, DQDA, Decision Tree, Adaboost, Bagging(CPD), NN."
   ]
  },
  {
   "cell_type": "markdown",
   "metadata": {},
   "source": [
    "## Reproduce using R"
   ]
  },
  {
   "cell_type": "markdown",
   "metadata": {},
   "source": [
    "### Step 1 Load and preprocess data."
   ]
  },
  {
   "cell_type": "code",
   "execution_count": 1,
   "metadata": {
    "collapsed": false
   },
   "outputs": [
    {
     "data": {
      "text/html": [
       "<ol class=list-inline>\n",
       "\t<li>72</li>\n",
       "\t<li>7129</li>\n",
       "</ol>\n"
      ],
      "text/latex": [
       "\\begin{enumerate*}\n",
       "\\item 72\n",
       "\\item 7129\n",
       "\\end{enumerate*}\n"
      ],
      "text/markdown": [
       "1. 72\n",
       "2. 7129\n",
       "\n",
       "\n"
      ],
      "text/plain": [
       "[1]   72 7129"
      ]
     },
     "metadata": {},
     "output_type": "display_data"
    },
    {
     "data": {
      "text/plain": [
       "golub_merge_r\n",
       "ALL AML \n",
       " 47  25 "
      ]
     },
     "metadata": {},
     "output_type": "display_data"
    },
    {
     "data": {
      "text/html": [
       "<ol class=list-inline>\n",
       "\t<li>72</li>\n",
       "\t<li>3571</li>\n",
       "</ol>\n"
      ],
      "text/latex": [
       "\\begin{enumerate*}\n",
       "\\item 72\n",
       "\\item 3571\n",
       "\\end{enumerate*}\n"
      ],
      "text/markdown": [
       "1. 72\n",
       "2. 3571\n",
       "\n",
       "\n"
      ],
      "text/plain": [
       "[1]   72 3571"
      ]
     },
     "metadata": {},
     "output_type": "display_data"
    },
    {
     "data": {
      "text/plain": [
       "golub_merge_r\n",
       "ALL AML \n",
       " 47  25 "
      ]
     },
     "metadata": {},
     "output_type": "display_data"
    }
   ],
   "source": [
    "# The implementation below is very similar to the one in paper1 notehbook and details chould be checked there.\n",
    "\n",
    "## The code below is commented out since it is unnecessary and time-consuming to run it everytime. Run it if needed.\n",
    "#options(repos='http://cran.rstudio.com/') \n",
    "#source(\"http://bioconductor.org/biocLite.R\")\n",
    "#biocLite(\"golubEsets\")\n",
    "#install.packages(\"tree\")\n",
    "#install.packages(\"fastAdaboost\")\n",
    "#install.packages(\"sparsediscrim\", dependencies = T)\n",
    "suppressMessages(library(sparsediscrim))\n",
    "suppressMessages(library(tree))\n",
    "suppressMessages(library(golubEsets))\n",
    "suppressMessages(library(fastAdaboost))\n",
    "\n",
    "# load data from golubEsets\n",
    "data(Golub_Merge)\n",
    "golub_merge_p = t(exprs(Golub_Merge))\n",
    "golub_merge_r =pData(Golub_Merge)[, \"ALL.AML\"]\n",
    "golub_merge_l = ifelse(golub_merge_r == \"AML\", 1, 0)\n",
    "\n",
    "#show summary\n",
    "dim(golub_merge_p) \n",
    "table(golub_merge_r)\n",
    "\n",
    "# Thresholding\n",
    "golub_merge_pp = golub_merge_p\n",
    "golub_merge_pp[golub_merge_pp<100] = 100\n",
    "golub_merge_pp[golub_merge_pp>16000] = 16000\n",
    "\n",
    "# Filtering\n",
    "golub_filter = function(x, r = 5, d=500){\n",
    "    minval = min(x)\n",
    "    maxval = max(x)\n",
    "    (maxval/minval>r)&&(maxval-minval>d)\n",
    "}\n",
    "merge_index = apply(golub_merge_pp, 2, golub_filter)\n",
    "golub_merge_index = (1:7129)[merge_index]\n",
    "golub_merge_pp = golub_merge_pp[, golub_merge_index]\n",
    "\n",
    "# Base 10 logarithmic transformation\n",
    "golub_merge_p_trans = log10(golub_merge_pp)\n",
    "\n",
    "#show summary again\n",
    "dim(golub_merge_p_trans)\n",
    "table(golub_merge_r)\n",
    "\n",
    "total3571_predictor = golub_merge_p_trans\n",
    "total3571_response = golub_merge_r\n",
    "save(total3571_predictor, total3571_response, file = \"golub3571.rda\")\n",
    "# Further standardization to mean 0 variance 1.\n",
    "scale_golub_merge = scale(golub_merge_p_trans)\n",
    "set.seed(201703)"
   ]
  },
  {
   "cell_type": "markdown",
   "metadata": {},
   "source": [
    "As we see in the result above, the dataset is indeed reduce to $72 \\times 3571$ and this is also the origin of the $72 \\times 3571$ dataset available online."
   ]
  },
  {
   "cell_type": "markdown",
   "metadata": {},
   "source": [
    "### Step 2 Build Classification\n",
    "\n",
    "_**Step 2(a)**_: General settings as specified in the paper and helper functions for BW(Feature selection) and train-test split."
   ]
  },
  {
   "cell_type": "code",
   "execution_count": 2,
   "metadata": {
    "collapsed": true
   },
   "outputs": [],
   "source": [
    "# Settings as specified in the paper\n",
    "p = 40 # number of genes for FLDA\n",
    "B = 50 # Aggregation predictors\n",
    "N = 200 # repeat classification N times\n",
    "d = c(0.05, 0.1,0.25, 0.5, 0.75, 1) # CPD parameter"
   ]
  },
  {
   "cell_type": "code",
   "execution_count": 3,
   "metadata": {
    "collapsed": false
   },
   "outputs": [],
   "source": [
    "# Split train test as specified in the paper\n",
    "mysplit = function(n){\n",
    "    sample(1:n, floor(n/3))\n",
    "}\n",
    "# implement function for calculating BW as stated in the paper(the ratio of between-group to within group sums of squares)\n",
    "BW = function(predictor, response){\n",
    "    overall = colMeans(predictor)\n",
    "    ALL_mean = apply(predictor, 2, function(x) mean(x[response == \"ALL\"]))\n",
    "    AML_mean = apply(predictor, 2, function(x) mean(x[response == \"AML\"]))\n",
    "    numerator = sum(response == \"ALL\")*(ALL_mean-overall)^2+sum(response == \"AML\")*(AML_mean-overall)^2\n",
    "    denumerator = colSums((t(t(predictor[response == \"ALL\", ])-ALL_mean))^2)+colSums((t(t(predictor[response == \"AML\", ])-AML_mean))^2)\n",
    "    numerator/denumerator\n",
    "}\n",
    "                     \n",
    "# randomly feature select once for comparison for furthur study\n",
    "id = mysplit(nrow(scale_golub_merge))\n",
    "train_p = scale_golub_merge[-id,]\n",
    "train_r = golub_merge_r[-id]\n",
    "test_p = scale_golub_merge[id,]\n",
    "test_r = golub_merge_r[id]\n",
    "temp_bw = order(BW(train_p, train_r), decreasing = T)[1:50]\n",
    "train_BW_predictor = train_p[,temp_bw]\n",
    "test_BW_predictor = test_p[,temp_bw]\n",
    "save(train_BW_predictor, train_r, test_BW_predictor, test_r, file = \"paper9.rda\")"
   ]
  },
  {
   "cell_type": "markdown",
   "metadata": {},
   "source": [
    "- **Nearest Neighbor**\n",
    "\n",
    "As the distance measure defined in the paper are not general distance measure used by R knn function. We reimplement KNN in R and this cell could be a little bit slow. "
   ]
  },
  {
   "cell_type": "code",
   "execution_count": 4,
   "metadata": {
    "collapsed": false
   },
   "outputs": [],
   "source": [
    "k = seq(1, 21, 2)\n",
    "# Distance measure used in the paper\n",
    "Distance = function(predictor, test){\n",
    "    1- apply(predictor, 1, cor, test)\n",
    "}\n",
    "# NN classification process\n",
    "nn = function(test, pk, learning, response){\n",
    "     distance = Distance(learning, test)\n",
    "     index = order(distance)[1:pk]\n",
    "     cl = ifelse(sum(response[index] == \"AML\")>sum(response[index]==\"ALL\"), \"AML\", \"ALL\")\n",
    "     cl\n",
    "}\n",
    "# leave-one-cross-validation to tune k\n",
    "mycv= function(pk,learning,response){\n",
    "    error = 0\n",
    "    for(i in 1:nrow(learning)){\n",
    "        cl = nn(learning[i,], pk, learning[-i, ], response[-i])\n",
    "        error = error+(cl == response[i])\n",
    "    }\n",
    "    error\n",
    "}\n",
    "error_count = numeric(N)\n",
    "for(i in 1:N){\n",
    "    # split data\n",
    "    nn_index = mysplit(nrow(scale_golub_merge))\n",
    "    nn_train_p = scale_golub_merge[-nn_index,]\n",
    "    nn_train_r = golub_merge_r[-nn_index]\n",
    "    nn_test_p = scale_golub_merge[nn_index,]\n",
    "    nn_test_r = golub_merge_r[nn_index]\n",
    "    # gene selection/feature selection\n",
    "    temp_bw = order(BW(nn_train_p, nn_train_r), decreasing = T)[1:p]\n",
    "    nn_train_p = nn_train_p[,temp_bw]\n",
    "    nn_test_p = nn_test_p[,temp_bw]\n",
    "    # cross-validation to choose k\n",
    "    choose_k = sapply(k,mycv, learning = nn_train_p, response = nn_train_r)\n",
    "    # nn classification\n",
    "    nn_r = apply(nn_test_p,1, nn, k[which.min(choose_k)], nn_train_p, nn_train_r)\n",
    "    error_count[i] = sum(nn_r != nn_test_r)\n",
    "}\n",
    "resultNN = c(Median = median(error_count), Upper_quartile = quantile(error_count, 0.75))"
   ]
  },
  {
   "cell_type": "markdown",
   "metadata": {},
   "source": [
    "- **Desicion Tree(CART)**: Single CART tree with pruning by 10-fold CV\n",
    "\n",
    "This part is accomplished using tree package in R as used in the paper. Since not much is mentioned in the paper about the set up of the decision tree, the default depth in tree are used. Also 10 fold cross-validation and prune.tree are used as specified in the paper."
   ]
  },
  {
   "cell_type": "code",
   "execution_count": 5,
   "metadata": {
    "collapsed": false,
    "scrolled": true
   },
   "outputs": [],
   "source": [
    "cbine_data = data.frame(response = factor(golub_merge_r), scale_golub_merge)\n",
    "tree_mdl = tree(response~.,data = cbine_data)\n",
    "cv_error = replicate(N, ceiling(cv.tree(tree_mdl, , prune.tree, K = 10, method = \"misclass\")$dev[1]/10))\n",
    "resultDT = c(Median = median(cv_error), Upper_quartile = quantile(cv_error, 0.75))"
   ]
  },
  {
   "cell_type": "markdown",
   "metadata": {},
   "source": [
    "- **Bagging**\n",
    "\n",
    "Implemented without using packages in R."
   ]
  },
  {
   "cell_type": "code",
   "execution_count": 6,
   "metadata": {
    "collapsed": false
   },
   "outputs": [],
   "source": [
    "# initialize the result vector\n",
    "bg_error = numeric(N)\n",
    "# implement helper function for each bagging\n",
    "my_baghelper = function(train, test){\n",
    "    bg = sample(nrow(train), replace = T)\n",
    "    temp_md = tree(response~., data = train[bg, ])\n",
    "    predict(temp_md, test, type = \"class\")\n",
    "}\n",
    "\n",
    "# perform N time classification(bootstrap)\n",
    "for(i in 1:N){\n",
    "    bg_index = mysplit(nrow(cbine_data))\n",
    "    bg_train = cbine_data[-bg_index,]\n",
    "    bg_test = cbine_data[bg_index,]\n",
    "    \n",
    "    # gene selection\n",
    "    temp_bw = order(BW(bg_train[, -1], bg_train$response), decreasing = T)[1:p]\n",
    "    bg_train_p = data.frame(response = bg_train$response, bg_train[,temp_bw+1])\n",
    "    bg_test_p= data.frame(response = bg_test$response, bg_test[,temp_bw+1])\n",
    "    \n",
    "    t1 = replicate(B, my_baghelper(bg_train_p, bg_test_p))\n",
    "    pred = apply(t1, 1, function(x) ifelse(sum(x == \"AML\")>sum(x ==\"ALL\"), \"AML\", \"ALL\"))\n",
    "    bg_error[i] = sum(pred != bg_test_p$response)\n",
    "}\n",
    "resultBag = c(Median = median(bg_error), Upper_quartile = quantile(bg_error, 0.75))"
   ]
  },
  {
   "cell_type": "markdown",
   "metadata": {},
   "source": [
    "- **Bagging with CPD**\n"
   ]
  },
  {
   "cell_type": "code",
   "execution_count": 7,
   "metadata": {
    "collapsed": false
   },
   "outputs": [],
   "source": [
    "d = 0.75\n",
    "# implement CPD\n",
    "CPD = function(d, x1, x2){\n",
    "    a = runif(nrow(x1), 0, d)\n",
    "    a*x1+(1-a)*x2\n",
    "}\n",
    "# helper function for each bagging with CPD\n",
    "my_cpdhelper = function(train, test){\n",
    "    id1 = sample(nrow(train), replace = T)\n",
    "    id2 = sample(nrow(train), replace = T)\n",
    "    temp = CPD(d, train[id1, -1], train[id2,-1])\n",
    "    temp_md = tree(response~., data = data.frame(temp, response = train$response[id1]))\n",
    "    predict(temp_md, test, type = \"class\")\n",
    "}\n",
    "#initialize the error vector\n",
    "cpd_error = numeric(N)\n",
    "# repeat N times\n",
    "for(i in 1:N){\n",
    "    cpd_index = mysplit(nrow(cbine_data))\n",
    "    cpd_train = cbine_data[-cpd_index,]\n",
    "    cpd_test = cbine_data[cpd_index,]\n",
    "    \n",
    "    # gene selection\n",
    "    temp_bw = order(BW(cpd_train[, -1], cpd_train$response), decreasing = T)[1:p]\n",
    "    cpd_train_t = data.frame(response = cpd_train$response, cpd_train[,temp_bw+1])\n",
    "    cpd_test_t= data.frame(response = cpd_test$response, cpd_test[,temp_bw+1])\n",
    "   \n",
    "    t1 = replicate(B, my_cpdhelper(cpd_train_t, cpd_test_t))\n",
    "    pred = apply(t1, 1, function(x) ifelse(sum(x == \"AML\")>sum(x ==\"ALL\"), \"AML\", \"ALL\"))\n",
    "    cpd_error[i] = sum(pred != cpd_test_t$response)\n",
    "}\n",
    "resultCPD = c(Median = median(cpd_error), Upper_quartile = quantile(cpd_error, 0.75))"
   ]
  },
  {
   "cell_type": "markdown",
   "metadata": {},
   "source": [
    "- **AdaBoost**\n",
    "\n",
    "Using adaboost function from fastAdaboost package in R."
   ]
  },
  {
   "cell_type": "code",
   "execution_count": 8,
   "metadata": {
    "collapsed": false
   },
   "outputs": [],
   "source": [
    "ada_error = numeric(N)\n",
    "for(i in 1:N){\n",
    "    ad_index = mysplit(nrow(cbine_data))\n",
    "    ad_train = cbine_data[-ad_index,]\n",
    "    ad_test = cbine_data[ad_index,]\n",
    "    \n",
    "    # gene selection\n",
    "    temp_bw = order(BW(ad_train[, -1], ad_train$response), decreasing = T)[1:p]\n",
    "    ad_train_t = data.frame(response = ad_train$response, ad_train[,temp_bw+1])\n",
    "    ad_test_t= data.frame(response = ad_test$response, ad_test[,temp_bw+1])\n",
    "    \n",
    "    ada_cl = adaboost(response~., data = ad_train_t, 50)\n",
    "    ada_test_pr = predict(ada_cl, ad_test_t)$class\n",
    "   ada_error[i] = sum(ada_test_pr != ad_test_t$response)\n",
    "}\n",
    "resultAda = c(Median = median(ada_error), Upper_quartile = quantile(ada_error, 0.75))"
   ]
  },
  {
   "cell_type": "markdown",
   "metadata": {},
   "source": [
    "- **FLDA**\n",
    "\n",
    "As the current LDA is very similar to the FLDA, lda function in MASS package is used to accomplish this part."
   ]
  },
  {
   "cell_type": "code",
   "execution_count": 9,
   "metadata": {
    "collapsed": false
   },
   "outputs": [],
   "source": [
    "flda_error = numeric(N)\n",
    "for(i in 1:200){\n",
    "    flda_index = mysplit(nrow(cbine_data))\n",
    "    flda_train = cbine_data[-flda_index,]\n",
    "    flda_test = cbine_data[flda_index,]\n",
    "    \n",
    "    # gene selection\n",
    "    temp_bw = order(BW(flda_train[, -1], flda_train$response), decreasing = T)[1:p]\n",
    "    flda_train_t = data.frame(response = flda_train$response, flda_train[,temp_bw+1])\n",
    "    flda_test_t= data.frame(response = flda_test$response, flda_test[,temp_bw+1])\n",
    "    \n",
    "    flda_md = MASS::lda(response~., data = flda_train_t)\n",
    "    flda_pred = predict(flda_md, flda_test_t)$class\n",
    "    flda_error[i] = sum(flda_pred != flda_test_t$response)\n",
    "}\n",
    "resultFLDA = c(Median = median(flda_error), Upper_quartile = quantile(flda_error, 0.75))"
   ]
  },
  {
   "cell_type": "markdown",
   "metadata": {},
   "source": [
    "- **DLDA**\n",
    "\n",
    "Accomplished using R dlda in sparsediscrim packages."
   ]
  },
  {
   "cell_type": "code",
   "execution_count": 10,
   "metadata": {
    "collapsed": false
   },
   "outputs": [],
   "source": [
    "dlda_error = numeric(N)\n",
    "for(i in 1:200){\n",
    "    dlda_index = mysplit(nrow(cbine_data))\n",
    "    dlda_train = cbine_data[-dlda_index,]\n",
    "    dlda_test = cbine_data[dlda_index,]\n",
    "    \n",
    "    # gene selection\n",
    "    temp_bw = order(BW(dlda_train[, -1], dlda_train$response), decreasing = T)[1:p]\n",
    "    dlda_train_t = data.frame(response = dlda_train$response, dlda_train[,temp_bw+1])\n",
    "    dlda_test_t= data.frame(response = dlda_test$response, dlda_test[,temp_bw+1])\n",
    "    \n",
    "    dlda_md = dlda(response~., data = dlda_train_t)\n",
    "    dlda_pred = predict(dlda_md, dlda_test_t[, -1])$class\n",
    "    dlda_error[i] = sum(dlda_pred != dlda_test_t$response)\n",
    "}\n",
    "resultDLDA = c(Median = median(dlda_error), Upper_quartile = quantile(dlda_error, 0.75))"
   ]
  },
  {
   "cell_type": "markdown",
   "metadata": {},
   "source": [
    "- **DQDA**"
   ]
  },
  {
   "cell_type": "code",
   "execution_count": 11,
   "metadata": {
    "collapsed": false
   },
   "outputs": [],
   "source": [
    "dqda_error = numeric(N)\n",
    "for(i in 1:200){\n",
    "    dqda_index = mysplit(nrow(cbine_data))\n",
    "    dqda_train = cbine_data[-dqda_index,]\n",
    "    dqda_test = cbine_data[dqda_index,]\n",
    "    \n",
    "    # gene selection\n",
    "    temp_bw = order(BW(dqda_train[, -1], dqda_train$response), decreasing = T)[1:p]\n",
    "    dqda_train_t = data.frame(response = dqda_train$response, dqda_train[,temp_bw+1])\n",
    "    dqda_test_t= data.frame(response = dqda_test$response, dqda_test[,temp_bw+1])\n",
    "    \n",
    "    dqda_md = dlda(response~., data = dqda_train_t)\n",
    "    dqda_pred = predict(dqda_md, dqda_test_t[,-1])$class\n",
    "    dqda_error[i] = sum(dqda_pred != dqda_test_t$response)\n",
    "}\n",
    "resultDQDA = c(Median = median(dqda_error), Upper_quartile = quantile(dqda_error, 0.75))"
   ]
  },
  {
   "cell_type": "markdown",
   "metadata": {},
   "source": [
    "## Summary of Reproduce result"
   ]
  },
  {
   "cell_type": "markdown",
   "metadata": {},
   "source": [
    "In this notebook, we reproduce paper 9 and have several algorithms reproduce, such as FLDA, DLDA, DQDA etc. We made some implicit assumptions where details are not specified in the paper and when using existing packages in R. However, most of our work follows procedures exactly as described in the paper.\n",
    "\n",
    "**Prediction Comparison**:\n",
    "Summary of our reproduce result is shown below. We also include the result in the paper below our result."
   ]
  },
  {
   "cell_type": "code",
   "execution_count": 12,
   "metadata": {
    "collapsed": false
   },
   "outputs": [
    {
     "data": {
      "text/html": [
       "<table>\n",
       "<thead><tr><th></th><th scope=col>Median</th><th scope=col>Upper_quartile.75%</th></tr></thead>\n",
       "<tbody>\n",
       "\t<tr><th scope=row>FLDA</th><td>4</td><td>5</td></tr>\n",
       "\t<tr><th scope=row>DLDA</th><td>1</td><td>1</td></tr>\n",
       "\t<tr><th scope=row>DQDA</th><td>1</td><td>1</td></tr>\n",
       "\t<tr><th scope=row>DT</th><td>2</td><td>2</td></tr>\n",
       "\t<tr><th scope=row>Bag</th><td>2</td><td>3</td></tr>\n",
       "\t<tr><th scope=row>Boost</th><td>1</td><td>2</td></tr>\n",
       "\t<tr><th scope=row>CPD</th><td>2</td><td>3</td></tr>\n",
       "\t<tr><th scope=row>NN</th><td>1</td><td>2</td></tr>\n",
       "</tbody>\n",
       "</table>\n"
      ],
      "text/latex": [
       "\\begin{tabular}{r|ll}\n",
       "  & Median & Upper\\_quartile.75\\%\\\\\n",
       "\\hline\n",
       "\tFLDA & 4 & 5\\\\\n",
       "\tDLDA & 1 & 1\\\\\n",
       "\tDQDA & 1 & 1\\\\\n",
       "\tDT & 2 & 2\\\\\n",
       "\tBag & 2 & 3\\\\\n",
       "\tBoost & 1 & 2\\\\\n",
       "\tCPD & 2 & 3\\\\\n",
       "\tNN & 1 & 2\\\\\n",
       "\\end{tabular}\n"
      ],
      "text/markdown": [
       "\n",
       "| <!--/--> | Median | Upper_quartile.75% | \n",
       "|---|---|---|---|---|---|---|---|\n",
       "| FLDA | 4 | 5 | \n",
       "| DLDA | 1 | 1 | \n",
       "| DQDA | 1 | 1 | \n",
       "| DT | 2 | 2 | \n",
       "| Bag | 2 | 3 | \n",
       "| Boost | 1 | 2 | \n",
       "| CPD | 2 | 3 | \n",
       "| NN | 1 | 2 | \n",
       "\n",
       "\n"
      ],
      "text/plain": [
       "      Median Upper_quartile.75%\n",
       "FLDA  4      5                 \n",
       "DLDA  1      1                 \n",
       "DQDA  1      1                 \n",
       "DT    2      2                 \n",
       "Bag   2      3                 \n",
       "Boost 1      2                 \n",
       "CPD   2      3                 \n",
       "NN    1      2                 "
      ]
     },
     "metadata": {},
     "output_type": "display_data"
    }
   ],
   "source": [
    "rbind(FLDA = resultFLDA, DLDA = resultDLDA, DQDA = resultDQDA,  DT = resultDT, Bag = resultBag ,Boost = resultAda, CPD = resultCPD, NN = resultNN)"
   ]
  },
  {
   "cell_type": "markdown",
   "metadata": {},
   "source": [
    "|Classifier|Median quartile|Upper quartile|\n",
    "|----------|---------------|--------------|\n",
    "|FLDA|3|4|\n",
    "|DLDA|0|1|\n",
    "|DQDA|1|2|\n",
    "|DT|3|4|\n",
    "|Bag|2|2|\n",
    "|Boost|1|2|\n",
    "|CPD|1|2|\n",
    "|NN|1|1|"
   ]
  },
  {
   "cell_type": "markdown",
   "metadata": {},
   "source": [
    "As we can see from the above two tables, we basically have the same result as presented in the paper. Although our result is a slightly worse."
   ]
  },
  {
   "cell_type": "markdown",
   "metadata": {},
   "source": [
    "## Compare classification with other feature selection method\n",
    "\n",
    "### NN in paper9\n",
    "\n",
    "- paper1"
   ]
  },
  {
   "cell_type": "code",
   "execution_count": 5,
   "metadata": {
    "collapsed": false
   },
   "outputs": [
    {
     "data": {
      "text/plain": [
       "             Train_Actual\n",
       "Train_Predict ALL AML\n",
       "          ALL  26   0\n",
       "          AML   1  11"
      ]
     },
     "metadata": {},
     "output_type": "display_data"
    },
    {
     "data": {
      "text/plain": [
       "            Test_Actual\n",
       "Test_Predict ALL AML\n",
       "         ALL  19   0\n",
       "         AML   1  14"
      ]
     },
     "metadata": {},
     "output_type": "display_data"
    }
   ],
   "source": [
    "# golub_test_50 golub_test_response golub_train_50 golub_train_response loaded\n",
    "load(\"golub50gene.rda\")\n",
    "# cross-validation to choose k\n",
    "k = seq(1, 21, 2)\n",
    "choose_k_p1 = sapply(k,mycv, learning = golub_train_50, response= golub_train_response)\n",
    "# nn classification\n",
    "nn_train_p1 = apply(golub_train_50 ,1, nn, k[which.min(choose_k_p1)], golub_train_50,golub_train_response)\n",
    "nn_test_p1 = apply(golub_test_50 ,1, nn, k[which.min(choose_k_p1)], golub_train_50,golub_train_response)\n",
    "table(Train_Predict = nn_train_p1, Train_Actual = golub_train_response)\n",
    "table(Test_Predict = nn_test_p1, Test_Actual = golub_test_response)"
   ]
  },
  {
   "cell_type": "markdown",
   "metadata": {},
   "source": [
    "- paper 3"
   ]
  },
  {
   "cell_type": "code",
   "execution_count": 6,
   "metadata": {
    "collapsed": false
   },
   "outputs": [
    {
     "data": {
      "text/plain": [
       "             Train_Actual\n",
       "Train_Predict ALL AML\n",
       "          ALL  27   2\n",
       "          AML   0   9"
      ]
     },
     "metadata": {},
     "output_type": "display_data"
    },
    {
     "data": {
      "text/plain": [
       "            Test_Actual\n",
       "Test_Predict ALL AML\n",
       "         ALL  20   3\n",
       "         AML   0  11"
      ]
     },
     "metadata": {},
     "output_type": "display_data"
    }
   ],
   "source": [
    "# test_paper3 test_response train_paper3 train_response loaded\n",
    "load(\"paper3.rda\")\n",
    "# cross-validation to choose k\n",
    "choose_k_p3 = sapply(k,mycv, learning = train_paper3, response= train_response)\n",
    "# nn classification\n",
    "nn_train_p3 = apply(train_paper3 ,1, nn, k[which.min(choose_k_p3)], train_paper3, train_response)\n",
    "nn_test_p3 = apply(test_paper3 ,1, nn, k[which.min(choose_k_p3)], train_paper3, train_response)\n",
    "table(Train_Predict = nn_train_p3, Train_Actual = train_response)\n",
    "table(Test_Predict = nn_test_p3, Test_Actual = test_response)"
   ]
  },
  {
   "cell_type": "markdown",
   "metadata": {},
   "source": [
    "- paper 6"
   ]
  },
  {
   "cell_type": "code",
   "execution_count": 37,
   "metadata": {
    "collapsed": false
   },
   "outputs": [
    {
     "data": {
      "text/plain": [
       "             Train_Actual\n",
       "Train_Predict ALL AML\n",
       "          ALL  23   0\n",
       "          AML   4  11"
      ]
     },
     "metadata": {},
     "output_type": "display_data"
    },
    {
     "data": {
      "text/plain": [
       "            Test_Actual\n",
       "Test_Predict ALL AML\n",
       "         ALL  15   0\n",
       "         AML   5  14"
      ]
     },
     "metadata": {},
     "output_type": "display_data"
    }
   ],
   "source": [
    "# pca_train, pca_test, pls_train, pls_test loaded\n",
    "load(\"paper6.rda\")\n",
    "\n",
    "## PCA\n",
    "# cross-validation to choose k\n",
    "pca_tr = as.matrix(pca_train[, -1])\n",
    "pca_te = as.matrix(pca_test[, -1])\n",
    "choose_k_p6_pca = sapply(k,mycv, learning = pca_tr, response= pca_train$response)\n",
    "# nn classification\n",
    "nn_train_p6 = apply(pca_tr ,1, nn, k[which.min(choose_k_p6_pca)], pca_tr, pca_train$response)\n",
    "nn_test_p6 = apply(pca_te ,1, nn, k[which.min(choose_k_p6_pca)], pca_tr, pca_train$response)\n",
    "table(Train_Predict = nn_train_p6, Train_Actual = pca_train$response)\n",
    "table(Test_Predict = nn_test_p6, Test_Actual = pca_test$response)"
   ]
  },
  {
   "cell_type": "code",
   "execution_count": 39,
   "metadata": {
    "collapsed": false
   },
   "outputs": [
    {
     "data": {
      "text/plain": [
       "             Train_Actual\n",
       "Train_Predict ALL AML\n",
       "          ALL  25   0\n",
       "          AML   2  11"
      ]
     },
     "metadata": {},
     "output_type": "display_data"
    },
    {
     "data": {
      "text/plain": [
       "            Test_Actual\n",
       "Test_Predict ALL AML\n",
       "         ALL  19   0\n",
       "         AML   1  14"
      ]
     },
     "metadata": {},
     "output_type": "display_data"
    }
   ],
   "source": [
    "## PLS\n",
    "# cross-validation to choose k\n",
    "pls_tr = as.matrix(pls_train[, -1])\n",
    "pls_te = as.matrix(pls_test[, -1])\n",
    "choose_k_p6_pls = sapply(k,mycv, learning = pls_tr, response= pls_train$response)\n",
    "# nn classification\n",
    "nn_train_p6_pls = apply(pls_tr ,1, nn, k[which.min(choose_k_p6_pls)], pls_tr, pls_train$response)\n",
    "nn_test_p6_pls = apply(pls_te ,1, nn, k[which.min(choose_k_p6_pls)], pls_tr, pls_train$response)\n",
    "table(Train_Predict = nn_train_p6_pls, Train_Actual = pls_train$response)\n",
    "table(Test_Predict = nn_test_p6_pls, Test_Actual = pls_test$response)"
   ]
  },
  {
   "cell_type": "markdown",
   "metadata": {},
   "source": [
    "- paper29"
   ]
  },
  {
   "cell_type": "code",
   "execution_count": 40,
   "metadata": {
    "collapsed": false
   },
   "outputs": [
    {
     "data": {
      "text/plain": [
       "             Train_Actual\n",
       "Train_Predict ALL AML\n",
       "          ALL  27   0\n",
       "          AML   0  11"
      ]
     },
     "metadata": {},
     "output_type": "display_data"
    },
    {
     "data": {
      "text/plain": [
       "            Test_Actual\n",
       "Test_Predict ALL AML\n",
       "         ALL  20   1\n",
       "         AML   0  13"
      ]
     },
     "metadata": {},
     "output_type": "display_data"
    }
   ],
   "source": [
    "# test_kmeans train_kmeans golub_test_r golub_train_r loaded\n",
    "load(\"paper29.rda\")\n",
    "# cross-validation to choose k\n",
    "choose_k_p29 = sapply(k,mycv, learning = train_kmeans, response= golub_train_r)\n",
    "# nn classification\n",
    "nn_train_p29 = apply(train_kmeans ,1, nn, k[which.min(choose_k_p29)], train_kmeans, golub_train_r)\n",
    "nn_test_p29 = apply(test_kmeans ,1, nn, k[which.min(choose_k_p29)], train_kmeans, golub_train_r)\n",
    "table(Train_Predict = nn_train_p29, Train_Actual = golub_train_r)\n",
    "table(Test_Predict = nn_test_p29, Test_Actual = golub_test_r)"
   ]
  },
  {
   "cell_type": "markdown",
   "metadata": {},
   "source": [
    "### Decision Tree\n",
    "\n",
    "- paper 1"
   ]
  },
  {
   "cell_type": "code",
   "execution_count": 53,
   "metadata": {
    "collapsed": false
   },
   "outputs": [
    {
     "data": {
      "text/plain": [
       "             Train_Actual\n",
       "Train_predict ALL AML\n",
       "          ALL  27   0\n",
       "          AML   0  11"
      ]
     },
     "metadata": {},
     "output_type": "display_data"
    },
    {
     "data": {
      "text/plain": [
       "            Test_Actual\n",
       "Test_predict ALL AML\n",
       "         ALL  18   1\n",
       "         AML   2  13"
      ]
     },
     "metadata": {},
     "output_type": "display_data"
    }
   ],
   "source": [
    "# golub_test_50 golub_test_response golub_train_50 golub_train_response loaded\n",
    "cbine_data_p1 = data.frame(response = factor(golub_train_response), golub_train_50)\n",
    "tree_mdl_p1 = tree(response~.,data = cbine_data_p1)\n",
    "tree_tr_p1 = predict(tree_mdl_p1, data.frame(golub_train_50), type = \"class\")\n",
    "tree_te_p1 = predict(tree_mdl_p1, data.frame(golub_test_50), type = \"class\")\n",
    "table(Train_predict = tree_tr_p1, Train_Actual = golub_train_response)\n",
    "table(Test_predict = tree_te_p1, Test_Actual = golub_test_response)"
   ]
  },
  {
   "cell_type": "markdown",
   "metadata": {},
   "source": [
    "- paper 3"
   ]
  },
  {
   "cell_type": "code",
   "execution_count": 54,
   "metadata": {
    "collapsed": false
   },
   "outputs": [
    {
     "data": {
      "text/plain": [
       "             Train_Actual\n",
       "Train_predict ALL AML\n",
       "          ALL  27   0\n",
       "          AML   0  11"
      ]
     },
     "metadata": {},
     "output_type": "display_data"
    },
    {
     "data": {
      "text/plain": [
       "            Test_Actual\n",
       "Test_predict ALL AML\n",
       "         ALL  18   1\n",
       "         AML   2  13"
      ]
     },
     "metadata": {},
     "output_type": "display_data"
    }
   ],
   "source": [
    "# test_paper3 test_response train_paper3 train_response loaded\n",
    "cbine_data_p3 = data.frame(response = factor(train_response), train_paper3)\n",
    "tree_mdl_p3 = tree(response~.,data = cbine_data_p3)\n",
    "tree_tr_p3 = predict(tree_mdl_p3, data.frame(train_paper3), type = \"class\")\n",
    "tree_te_p3 = predict(tree_mdl_p3, data.frame(test_paper3), type = \"class\")\n",
    "table(Train_predict = tree_tr_p3, Train_Actual = train_response)\n",
    "table(Test_predict = tree_te_p3, Test_Actual = test_response)"
   ]
  },
  {
   "cell_type": "markdown",
   "metadata": {},
   "source": [
    "- paper 6"
   ]
  },
  {
   "cell_type": "code",
   "execution_count": 56,
   "metadata": {
    "collapsed": false
   },
   "outputs": [
    {
     "data": {
      "text/plain": [
       "             Train_Actual\n",
       "Train_predict ALL AML\n",
       "          ALL  27   0\n",
       "          AML   0  11"
      ]
     },
     "metadata": {},
     "output_type": "display_data"
    },
    {
     "data": {
      "text/plain": [
       "            Test_Actual\n",
       "Test_predict ALL AML\n",
       "         ALL  20   1\n",
       "         AML   0  13"
      ]
     },
     "metadata": {},
     "output_type": "display_data"
    }
   ],
   "source": [
    "# pca_train, pca_test\n",
    "cbine_data_pca = data.frame(response = factor(pca_train$response), pca_train[,-1])\n",
    "tree_mdl_pca = tree(response~.,data = cbine_data_pca)\n",
    "tree_tr_pca = predict(tree_mdl_pca, pca_train[,-1], type = \"class\")\n",
    "tree_te_pca = predict(tree_mdl_pca, pca_test[,-1], type = \"class\")\n",
    "table(Train_predict = tree_tr_pca, Train_Actual = pca_train[, 1])\n",
    "table(Test_predict = tree_te_pca, Test_Actual = pca_test[, 1])"
   ]
  },
  {
   "cell_type": "code",
   "execution_count": 59,
   "metadata": {
    "collapsed": false
   },
   "outputs": [
    {
     "data": {
      "text/plain": [
       "             Train_Actual\n",
       "Train_predict ALL AML\n",
       "          ALL  27   0\n",
       "          AML   0  11"
      ]
     },
     "metadata": {},
     "output_type": "display_data"
    },
    {
     "data": {
      "text/plain": [
       "            Test_Actual\n",
       "Test_predict ALL AML\n",
       "         ALL  20   1\n",
       "         AML   0  13"
      ]
     },
     "metadata": {},
     "output_type": "display_data"
    }
   ],
   "source": [
    "# pls_train, pls_test loaded\n",
    "cbine_data_pls = data.frame(response = factor(pls_train$response), pls_train[,-1])\n",
    "tree_mdl_pls = tree(response~.,data = cbine_data_pls)\n",
    "tree_tr_pls = predict(tree_mdl_pls, pls_train[,-1], type = \"class\")\n",
    "tree_te_pls = predict(tree_mdl_pls, pls_test[,-1], type = \"class\")\n",
    "table(Train_predict = tree_tr_pls, Train_Actual = pls_train[, 1])\n",
    "table(Test_predict = tree_te_pls, Test_Actual = pls_test[, 1])"
   ]
  },
  {
   "cell_type": "markdown",
   "metadata": {},
   "source": [
    "- paper 29"
   ]
  },
  {
   "cell_type": "code",
   "execution_count": 61,
   "metadata": {
    "collapsed": false
   },
   "outputs": [
    {
     "data": {
      "text/plain": [
       "             Train_Actual\n",
       "Train_predict ALL AML\n",
       "          ALL  26   0\n",
       "          AML   1  11"
      ]
     },
     "metadata": {},
     "output_type": "display_data"
    },
    {
     "data": {
      "text/plain": [
       "            Test_Actual\n",
       "Test_predict ALL AML\n",
       "         ALL  19   8\n",
       "         AML   1   6"
      ]
     },
     "metadata": {},
     "output_type": "display_data"
    }
   ],
   "source": [
    "# test_kmeans train_kmeans golub_test_r golub_train_r loaded\n",
    "cbine_data_p29 = data.frame(response = factor(golub_train_r), train_kmeans)\n",
    "tree_mdl_p29 = tree(response~.,data = cbine_data_p29)\n",
    "tree_tr_p29 = predict(tree_mdl_p29, data.frame(train_kmeans), type = \"class\")\n",
    "tree_te_p29 = predict(tree_mdl_p29, data.frame(test_kmeans), type = \"class\")\n",
    "table(Train_predict = tree_tr_p29, Train_Actual = golub_train_r)\n",
    "table(Test_predict = tree_te_p29, Test_Actual = golub_test_r)"
   ]
  },
  {
   "cell_type": "markdown",
   "metadata": {},
   "source": [
    "### Bagging\n",
    "\n",
    "- paper 1"
   ]
  },
  {
   "cell_type": "code",
   "execution_count": 68,
   "metadata": {
    "collapsed": false
   },
   "outputs": [
    {
     "data": {
      "text/plain": [
       "             Train_Actual\n",
       "Train_predict ALL AML\n",
       "          ALL  27   0\n",
       "          AML   0  11"
      ]
     },
     "metadata": {},
     "output_type": "display_data"
    },
    {
     "data": {
      "text/plain": [
       "            Test_Actual\n",
       "Test_predict ALL AML\n",
       "         ALL  18   1\n",
       "         AML   2  13"
      ]
     },
     "metadata": {},
     "output_type": "display_data"
    }
   ],
   "source": [
    "t_tr_p1 = replicate(B, my_baghelper(cbine_data_p1, data.frame(golub_train_50)))\n",
    "pred_tr_p1 = apply(t_tr_p1, 1, function(x) ifelse(sum(x == \"AML\")>sum(x ==\"ALL\"), \"AML\", \"ALL\"))\n",
    "t_te_p1 = replicate(B, my_baghelper(cbine_data_p1, data.frame(golub_test_50)))\n",
    "pred_te_p1 = apply(t_te_p1, 1, function(x) ifelse(sum(x == \"AML\")>sum(x ==\"ALL\"), \"AML\", \"ALL\"))\n",
    "table(Train_predict = pred_tr_p1, Train_Actual = golub_train_response)\n",
    "table(Test_predict = pred_te_p1, Test_Actual = golub_test_response)"
   ]
  },
  {
   "cell_type": "markdown",
   "metadata": {},
   "source": [
    "- paper 3"
   ]
  },
  {
   "cell_type": "code",
   "execution_count": 70,
   "metadata": {
    "collapsed": false
   },
   "outputs": [
    {
     "data": {
      "text/plain": [
       "             Train_Actual\n",
       "Train_predict ALL AML\n",
       "          ALL  27   0\n",
       "          AML   0  11"
      ]
     },
     "metadata": {},
     "output_type": "display_data"
    },
    {
     "data": {
      "text/plain": [
       "            Test_Actual\n",
       "Test_predict ALL AML\n",
       "         ALL  18   1\n",
       "         AML   2  13"
      ]
     },
     "metadata": {},
     "output_type": "display_data"
    }
   ],
   "source": [
    "t_tr_p3 = replicate(B, my_baghelper(cbine_data_p3, data.frame(train_paper3)))\n",
    "pred_tr_p3 = apply(t_tr_p3, 1, function(x) ifelse(sum(x == \"AML\")>sum(x ==\"ALL\"), \"AML\", \"ALL\"))\n",
    "t_te_p3 = replicate(B, my_baghelper(cbine_data_p3, data.frame(test_paper3)))\n",
    "pred_te_p3 = apply(t_te_p3, 1, function(x) ifelse(sum(x == \"AML\")>sum(x ==\"ALL\"), \"AML\", \"ALL\"))\n",
    "table(Train_predict = pred_tr_p3, Train_Actual = train_response)\n",
    "table(Test_predict = pred_te_p3, Test_Actual = test_response)"
   ]
  },
  {
   "cell_type": "markdown",
   "metadata": {},
   "source": [
    "- paper 6"
   ]
  },
  {
   "cell_type": "code",
   "execution_count": 75,
   "metadata": {
    "collapsed": false
   },
   "outputs": [
    {
     "data": {
      "text/plain": [
       "             Train_Actual\n",
       "Train_predict ALL AML\n",
       "          ALL  27   0\n",
       "          AML   0  11"
      ]
     },
     "metadata": {},
     "output_type": "display_data"
    },
    {
     "data": {
      "text/plain": [
       "            Test_Actual\n",
       "Test_predict ALL AML\n",
       "         ALL  20   1\n",
       "         AML   0  13"
      ]
     },
     "metadata": {},
     "output_type": "display_data"
    }
   ],
   "source": [
    "# pca\n",
    "t_tr_p6 = replicate(B, my_baghelper(pca_train, pca_train))\n",
    "pred_tr_p6 = apply(t_tr_p6, 1, function(x) ifelse(sum(x == \"AML\")>sum(x ==\"ALL\"), \"AML\", \"ALL\"))\n",
    "t_te_p6 = replicate(B, my_baghelper(pca_train, pca_test))\n",
    "pred_te_p6 = apply(t_te_p6, 1, function(x) ifelse(sum(x == \"AML\")>sum(x ==\"ALL\"), \"AML\", \"ALL\"))\n",
    "table(Train_predict = pred_tr_p6, Train_Actual =pca_train[,1])\n",
    "table(Test_predict = pred_te_p6, Test_Actual = pca_test[, 1])"
   ]
  },
  {
   "cell_type": "code",
   "execution_count": 76,
   "metadata": {
    "collapsed": false
   },
   "outputs": [
    {
     "data": {
      "text/plain": [
       "             Train_Actual\n",
       "Train_predict ALL AML\n",
       "          ALL  27   0\n",
       "          AML   0  11"
      ]
     },
     "metadata": {},
     "output_type": "display_data"
    },
    {
     "data": {
      "text/plain": [
       "            Test_Actual\n",
       "Test_predict ALL AML\n",
       "         ALL  20   1\n",
       "         AML   0  13"
      ]
     },
     "metadata": {},
     "output_type": "display_data"
    }
   ],
   "source": [
    "# pls\n",
    "t_tr_p6_pls = replicate(B, my_baghelper(pls_train, pls_train))\n",
    "pred_tr_p6_pls = apply(t_tr_p6_pls, 1, function(x) ifelse(sum(x == \"AML\")>sum(x ==\"ALL\"), \"AML\", \"ALL\"))\n",
    "t_te_p6_pls = replicate(B, my_baghelper(pls_train, pls_test))\n",
    "pred_te_p6_pls = apply(t_te_p6_pls, 1, function(x) ifelse(sum(x == \"AML\")>sum(x ==\"ALL\"), \"AML\", \"ALL\"))\n",
    "table(Train_predict = pred_tr_p6_pls, Train_Actual =pls_train[,1])\n",
    "table(Test_predict = pred_te_p6_pls, Test_Actual = pls_test[, 1])"
   ]
  },
  {
   "cell_type": "markdown",
   "metadata": {},
   "source": [
    "- paper 29"
   ]
  },
  {
   "cell_type": "code",
   "execution_count": 79,
   "metadata": {
    "collapsed": false
   },
   "outputs": [
    {
     "data": {
      "text/plain": [
       "             Train_Actual\n",
       "Train_predict ALL AML\n",
       "          ALL  27   0\n",
       "          AML   0  11"
      ]
     },
     "metadata": {},
     "output_type": "display_data"
    },
    {
     "data": {
      "text/plain": [
       "            Test_Actual\n",
       "Test_predict ALL AML\n",
       "         ALL  20   8\n",
       "         AML   0   6"
      ]
     },
     "metadata": {},
     "output_type": "display_data"
    }
   ],
   "source": [
    "t_tr_p29 = replicate(B, my_baghelper(cbine_data_p29, data.frame(train_kmeans)))\n",
    "pred_tr_p29 = apply(t_tr_p29, 1, function(x) ifelse(sum(x == \"AML\")>sum(x ==\"ALL\"), \"AML\", \"ALL\"))\n",
    "t_te_p29 = replicate(B, my_baghelper(cbine_data_p29,data.frame(test_kmeans)))\n",
    "pred_te_p29 = apply(t_te_p29, 1, function(x) ifelse(sum(x == \"AML\")>sum(x ==\"ALL\"), \"AML\", \"ALL\"))\n",
    "table(Train_predict = pred_tr_p29, Train_Actual = golub_train_response)\n",
    "table(Test_predict = pred_te_p29, Test_Actual = golub_test_response)"
   ]
  },
  {
   "cell_type": "markdown",
   "metadata": {},
   "source": [
    "### Bagging with CPD\n",
    "\n",
    "- paper 1"
   ]
  },
  {
   "cell_type": "code",
   "execution_count": 81,
   "metadata": {
    "collapsed": false
   },
   "outputs": [
    {
     "data": {
      "text/plain": [
       "             Train_Actual\n",
       "Train_predict ALL AML\n",
       "          ALL  27   1\n",
       "          AML   0  10"
      ]
     },
     "metadata": {},
     "output_type": "display_data"
    },
    {
     "data": {
      "text/plain": [
       "            Test_Actual\n",
       "Test_predict ALL AML\n",
       "         ALL  20   7\n",
       "         AML   0   7"
      ]
     },
     "metadata": {},
     "output_type": "display_data"
    }
   ],
   "source": [
    "c_tr_p1 = replicate(B, my_cpdhelper(cbine_data_p1, data.frame(golub_train_50)))\n",
    "c_pred_tr_p1 = apply(c_tr_p1, 1, function(x) ifelse(sum(x == \"AML\")>sum(x ==\"ALL\"), \"AML\", \"ALL\"))\n",
    "c_te_p1 = replicate(B, my_cpdhelper(cbine_data_p1, data.frame(golub_test_50)))\n",
    "c_pred_te_p1 = apply(c_te_p1, 1, function(x) ifelse(sum(x == \"AML\")>sum(x ==\"ALL\"), \"AML\", \"ALL\"))\n",
    "table(Train_predict = c_pred_tr_p1, Train_Actual = golub_train_response)\n",
    "table(Test_predict = c_pred_te_p1, Test_Actual = golub_test_response)"
   ]
  },
  {
   "cell_type": "markdown",
   "metadata": {},
   "source": [
    "- paper 3"
   ]
  },
  {
   "cell_type": "code",
   "execution_count": 83,
   "metadata": {
    "collapsed": false
   },
   "outputs": [
    {
     "data": {
      "text/plain": [
       "             Train_Actual\n",
       "Train_predict ALL AML\n",
       "          ALL  27   0\n",
       "          AML   0  11"
      ]
     },
     "metadata": {},
     "output_type": "display_data"
    },
    {
     "data": {
      "text/plain": [
       "            Test_Actual\n",
       "Test_predict ALL AML\n",
       "         ALL  20   5\n",
       "         AML   0   9"
      ]
     },
     "metadata": {},
     "output_type": "display_data"
    }
   ],
   "source": [
    "c_tr_p3 = replicate(B, my_cpdhelper(cbine_data_p3, data.frame(train_paper3)))\n",
    "c_pred_tr_p3 = apply(c_tr_p3, 1, function(x) ifelse(sum(x == \"AML\")>sum(x ==\"ALL\"), \"AML\", \"ALL\"))\n",
    "c_te_p3 = replicate(B, my_cpdhelper(cbine_data_p3, data.frame(test_paper3)))\n",
    "c_pred_te_p3 = apply(c_te_p3, 1, function(x) ifelse(sum(x == \"AML\")>sum(x ==\"ALL\"), \"AML\", \"ALL\"))\n",
    "table(Train_predict = c_pred_tr_p3, Train_Actual = train_response)\n",
    "table(Test_predict = c_pred_te_p3, Test_Actual = test_response)"
   ]
  },
  {
   "cell_type": "markdown",
   "metadata": {},
   "source": [
    "- paper 6"
   ]
  },
  {
   "cell_type": "code",
   "execution_count": 86,
   "metadata": {
    "collapsed": false
   },
   "outputs": [
    {
     "data": {
      "text/plain": [
       "             Train_Actual\n",
       "Train_predict ALL AML\n",
       "          ALL  27   9\n",
       "          AML   0   2"
      ]
     },
     "metadata": {},
     "output_type": "display_data"
    },
    {
     "data": {
      "text/plain": [
       "            Test_Actual\n",
       "Test_predict ALL AML\n",
       "         ALL  20   6\n",
       "         AML   0   8"
      ]
     },
     "metadata": {},
     "output_type": "display_data"
    }
   ],
   "source": [
    "# pca\n",
    "c_tr_p6 = replicate(B, my_cpdhelper(pca_train, pca_train))\n",
    "c_pred_tr_p6 = apply(c_tr_p6, 1, function(x) ifelse(sum(x == \"AML\")>sum(x ==\"ALL\"), \"AML\", \"ALL\"))\n",
    "c_te_p6 = replicate(B, my_cpdhelper(pca_train, pca_test))\n",
    "c_pred_te_p6 = apply(c_te_p6, 1, function(x) ifelse(sum(x == \"AML\")>sum(x ==\"ALL\"), \"AML\", \"ALL\"))\n",
    "table(Train_predict = c_pred_tr_p6, Train_Actual =pca_train[,1])\n",
    "table(Test_predict = c_pred_te_p6, Test_Actual = pca_test[, 1])"
   ]
  },
  {
   "cell_type": "code",
   "execution_count": 87,
   "metadata": {
    "collapsed": false
   },
   "outputs": [
    {
     "data": {
      "text/plain": [
       "             Train_Actual\n",
       "Train_predict ALL AML\n",
       "          ALL  27   2\n",
       "          AML   0   9"
      ]
     },
     "metadata": {},
     "output_type": "display_data"
    },
    {
     "data": {
      "text/plain": [
       "            Test_Actual\n",
       "Test_predict ALL AML\n",
       "         ALL  20   3\n",
       "         AML   0  11"
      ]
     },
     "metadata": {},
     "output_type": "display_data"
    }
   ],
   "source": [
    "# pls\n",
    "c_tr_p6_pls = replicate(B, my_cpdhelper(pls_train, pls_train))\n",
    "c_pred_tr_p6_pls = apply(c_tr_p6_pls, 1, function(x) ifelse(sum(x == \"AML\")>sum(x ==\"ALL\"), \"AML\", \"ALL\"))\n",
    "c_te_p6_pls = replicate(B, my_cpdhelper(pls_train, pls_test))\n",
    "c_pred_te_p6_pls = apply(c_te_p6_pls, 1, function(x) ifelse(sum(x == \"AML\")>sum(x ==\"ALL\"), \"AML\", \"ALL\"))\n",
    "table(Train_predict = c_pred_tr_p6_pls, Train_Actual =pls_train[,1])\n",
    "table(Test_predict = c_pred_te_p6_pls, Test_Actual = pls_test[, 1])"
   ]
  },
  {
   "cell_type": "markdown",
   "metadata": {},
   "source": [
    "- paper 29"
   ]
  },
  {
   "cell_type": "code",
   "execution_count": 89,
   "metadata": {
    "collapsed": false
   },
   "outputs": [
    {
     "data": {
      "text/plain": [
       "             Train_Actual\n",
       "Train_predict ALL AML\n",
       "          ALL  27   3\n",
       "          AML   0   8"
      ]
     },
     "metadata": {},
     "output_type": "display_data"
    },
    {
     "data": {
      "text/plain": [
       "            Test_Actual\n",
       "Test_predict ALL AML\n",
       "         ALL  20   5\n",
       "         AML   0   9"
      ]
     },
     "metadata": {},
     "output_type": "display_data"
    }
   ],
   "source": [
    "c_tr_p29 = replicate(B, my_cpdhelper(cbine_data_p29, data.frame(train_kmeans)))\n",
    "c_pred_tr_p29 = apply(c_tr_p29, 1, function(x) ifelse(sum(x == \"AML\")>sum(x ==\"ALL\"), \"AML\", \"ALL\"))\n",
    "c_te_p29 = replicate(B, my_cpdhelper(cbine_data_p29,data.frame(test_kmeans)))\n",
    "c_pred_te_p29 = apply(c_te_p29, 1, function(x) ifelse(sum(x == \"AML\")>sum(x ==\"ALL\"), \"AML\", \"ALL\"))\n",
    "table(Train_predict = c_pred_tr_p29, Train_Actual = golub_train_response)\n",
    "table(Test_predict = c_pred_te_p29, Test_Actual = golub_test_response)"
   ]
  },
  {
   "cell_type": "markdown",
   "metadata": {},
   "source": [
    "### Adaboost\n",
    "\n",
    "- paper1"
   ]
  },
  {
   "cell_type": "code",
   "execution_count": 91,
   "metadata": {
    "collapsed": false
   },
   "outputs": [
    {
     "data": {
      "text/plain": [
       "             Train_Actual\n",
       "Train_predict ALL AML\n",
       "          ALL  27   0\n",
       "          AML   0  11"
      ]
     },
     "metadata": {},
     "output_type": "display_data"
    },
    {
     "data": {
      "text/plain": [
       "            Test_Actual\n",
       "Test_predict ALL AML\n",
       "         ALL  18   1\n",
       "         AML   2  13"
      ]
     },
     "metadata": {},
     "output_type": "display_data"
    }
   ],
   "source": [
    "ada_cl_p1 = adaboost(response~., data = cbine_data_p1, 50)\n",
    "ada_train_pr_p1 = predict(ada_cl_p1, data.frame(golub_train_50))$class\n",
    "ada_test_pr_p1 = predict(ada_cl_p1, data.frame(golub_test_50))$class\n",
    "table(Train_predict = ada_train_pr_p1, Train_Actual = golub_train_response)\n",
    "table(Test_predict = ada_test_pr_p1, Test_Actual = golub_test_response)"
   ]
  },
  {
   "cell_type": "markdown",
   "metadata": {},
   "source": [
    "- paper 3"
   ]
  },
  {
   "cell_type": "code",
   "execution_count": 93,
   "metadata": {
    "collapsed": false
   },
   "outputs": [
    {
     "data": {
      "text/plain": [
       "             Train_Actual\n",
       "Train_predict ALL AML\n",
       "          ALL  27   0\n",
       "          AML   0  11"
      ]
     },
     "metadata": {},
     "output_type": "display_data"
    },
    {
     "data": {
      "text/plain": [
       "            Test_Actual\n",
       "Test_predict ALL AML\n",
       "         ALL  18   1\n",
       "         AML   2  13"
      ]
     },
     "metadata": {},
     "output_type": "display_data"
    }
   ],
   "source": [
    "ada_cl_p3 = adaboost(response~., data = cbine_data_p3, 50)\n",
    "ada_train_pr_p3 = predict(ada_cl_p3, data.frame(train_paper3))$class\n",
    "ada_test_pr_p3 = predict(ada_cl_p3, data.frame(test_paper3))$class\n",
    "table(Train_predict =ada_train_pr_p3, Train_Actual = train_response)\n",
    "table(Test_predict = ada_test_pr_p3, Test_Actual = test_response)"
   ]
  },
  {
   "cell_type": "markdown",
   "metadata": {},
   "source": [
    "- paper 6"
   ]
  },
  {
   "cell_type": "code",
   "execution_count": 94,
   "metadata": {
    "collapsed": false
   },
   "outputs": [
    {
     "data": {
      "text/plain": [
       "             Train_Actual\n",
       "Train_predict ALL AML\n",
       "          ALL  27   0\n",
       "          AML   0  11"
      ]
     },
     "metadata": {},
     "output_type": "display_data"
    },
    {
     "data": {
      "text/plain": [
       "            Test_Actual\n",
       "Test_predict ALL AML\n",
       "         ALL  20   1\n",
       "         AML   0  13"
      ]
     },
     "metadata": {},
     "output_type": "display_data"
    }
   ],
   "source": [
    "# pca\n",
    "ada_cl_p6 = adaboost(response~., data = cbine_data_pca, 50)\n",
    "ada_train_pr_p6 = predict(ada_cl_p6, pca_train)$class\n",
    "ada_test_pr_p6 = predict(ada_cl_p6, pca_test)$class\n",
    "table(Train_predict = ada_train_pr_p6, Train_Actual =pca_train[,1])\n",
    "table(Test_predict =ada_test_pr_p6, Test_Actual = pca_test[, 1])"
   ]
  },
  {
   "cell_type": "code",
   "execution_count": 95,
   "metadata": {
    "collapsed": false
   },
   "outputs": [
    {
     "data": {
      "text/plain": [
       "             Train_Actual\n",
       "Train_predict ALL AML\n",
       "          ALL  27   0\n",
       "          AML   0  11"
      ]
     },
     "metadata": {},
     "output_type": "display_data"
    },
    {
     "data": {
      "text/plain": [
       "            Test_Actual\n",
       "Test_predict ALL AML\n",
       "         ALL  20   1\n",
       "         AML   0  13"
      ]
     },
     "metadata": {},
     "output_type": "display_data"
    }
   ],
   "source": [
    "# pls\n",
    "ada_cl_p6_pls = adaboost(response~., data = cbine_data_pls, 50)\n",
    "ada_train_pr_p6_pls = predict(ada_cl_p6_pls, pls_train)$class\n",
    "ada_test_pr_p6_pls = predict(ada_cl_p6_pls, pls_test)$class\n",
    "table(Train_predict = ada_train_pr_p6_pls, Train_Actual =pls_train[,1])\n",
    "table(Test_predict =ada_test_pr_p6_pls, Test_Actual = pls_test[, 1])"
   ]
  },
  {
   "cell_type": "markdown",
   "metadata": {},
   "source": [
    "- paper 29"
   ]
  },
  {
   "cell_type": "code",
   "execution_count": 97,
   "metadata": {
    "collapsed": false
   },
   "outputs": [
    {
     "data": {
      "text/plain": [
       "             Train_Actual\n",
       "Train_predict ALL AML\n",
       "          ALL  27   3\n",
       "          AML   0   8"
      ]
     },
     "metadata": {},
     "output_type": "display_data"
    },
    {
     "data": {
      "text/plain": [
       "            Test_Actual\n",
       "Test_predict ALL AML\n",
       "         ALL  20   5\n",
       "         AML   0   9"
      ]
     },
     "metadata": {},
     "output_type": "display_data"
    }
   ],
   "source": [
    "ada_cl_p29 = adaboost(response~., data = cbine_data_p29, 50)\n",
    "ada_train_pr_p29 = predict(ada_cl_p29, data.frame(train_kmeans))$class\n",
    "ada_test_pr_p29 = predict(ada_cl_p29, data.frame(test_kmeans))$class\n",
    "table(Train_predict = c_pred_tr_p29, Train_Actual = golub_train_response)\n",
    "table(Test_predict = c_pred_te_p29, Test_Actual = golub_test_response)"
   ]
  },
  {
   "cell_type": "markdown",
   "metadata": {},
   "source": [
    "### FLDA\n",
    "\n",
    "- paper 1"
   ]
  },
  {
   "cell_type": "code",
   "execution_count": 99,
   "metadata": {
    "collapsed": false
   },
   "outputs": [
    {
     "name": "stderr",
     "output_type": "stream",
     "text": [
      "Warning message in lda.default(x, grouping, ...):\n",
      "“variables are collinear”"
     ]
    },
    {
     "data": {
      "text/plain": [
       "             Train_Actual\n",
       "Train_predict ALL AML\n",
       "          ALL  27   0\n",
       "          AML   0  11"
      ]
     },
     "metadata": {},
     "output_type": "display_data"
    },
    {
     "data": {
      "text/plain": [
       "            Test_Actual\n",
       "Test_predict ALL AML\n",
       "         ALL  19   3\n",
       "         AML   1  11"
      ]
     },
     "metadata": {},
     "output_type": "display_data"
    }
   ],
   "source": [
    "flda_md_p1 = MASS::lda(response~., data = cbine_data_p1)\n",
    "flda_tr_p1 = predict(flda_md_p1, data.frame(golub_train_50))$class\n",
    "flda_te_p1 = predict(flda_md_p1, data.frame(golub_test_50))$class\n",
    "table(Train_predict = flda_tr_p1, Train_Actual = golub_train_response)\n",
    "table(Test_predict = flda_te_p1, Test_Actual = golub_test_response)"
   ]
  },
  {
   "cell_type": "markdown",
   "metadata": {},
   "source": [
    "- paper 3"
   ]
  },
  {
   "cell_type": "code",
   "execution_count": 100,
   "metadata": {
    "collapsed": false
   },
   "outputs": [
    {
     "name": "stderr",
     "output_type": "stream",
     "text": [
      "Warning message in lda.default(x, grouping, ...):\n",
      "“variables are collinear”"
     ]
    },
    {
     "data": {
      "text/plain": [
       "             Train_Actual\n",
       "Train_predict ALL AML\n",
       "          ALL  27   0\n",
       "          AML   0  11"
      ]
     },
     "metadata": {},
     "output_type": "display_data"
    },
    {
     "data": {
      "text/plain": [
       "            Test_Actual\n",
       "Test_predict ALL AML\n",
       "         ALL  18   2\n",
       "         AML   2  12"
      ]
     },
     "metadata": {},
     "output_type": "display_data"
    }
   ],
   "source": [
    "flda_md_p3 = MASS::lda(response~., data = cbine_data_p3)\n",
    "flda_tr_p3 = predict(flda_md_p3, data.frame(train_paper3))$class\n",
    "flda_te_p3 = predict(flda_md_p3, data.frame(test_paper3))$class\n",
    "table(Train_predict = flda_tr_p3, Train_Actual = train_response)\n",
    "table(Test_predict = flda_te_p3, Test_Actual = test_response)"
   ]
  },
  {
   "cell_type": "markdown",
   "metadata": {},
   "source": [
    "- paper 6"
   ]
  },
  {
   "cell_type": "code",
   "execution_count": 101,
   "metadata": {
    "collapsed": false
   },
   "outputs": [
    {
     "data": {
      "text/plain": [
       "             Train_Actual\n",
       "Train_predict ALL AML\n",
       "          ALL  27   0\n",
       "          AML   0  11"
      ]
     },
     "metadata": {},
     "output_type": "display_data"
    },
    {
     "data": {
      "text/plain": [
       "            Test_Actual\n",
       "Test_predict ALL AML\n",
       "         ALL  20   1\n",
       "         AML   0  13"
      ]
     },
     "metadata": {},
     "output_type": "display_data"
    }
   ],
   "source": [
    "# pca\n",
    "flda_md_p6 = MASS::lda(response~., data = cbine_data_pca)\n",
    "flda_tr_p6 = predict(flda_md_p6, pca_train)$class\n",
    "flda_te_p6 = predict(flda_md_p6, pca_test)$class\n",
    "table(Train_predict = flda_tr_p6, Train_Actual =pca_train[,1])\n",
    "table(Test_predict = flda_te_p6, Test_Actual = pca_test[, 1])"
   ]
  },
  {
   "cell_type": "code",
   "execution_count": 102,
   "metadata": {
    "collapsed": false
   },
   "outputs": [
    {
     "data": {
      "text/plain": [
       "             Train_Actual\n",
       "Train_predict ALL AML\n",
       "          ALL  27   0\n",
       "          AML   0  11"
      ]
     },
     "metadata": {},
     "output_type": "display_data"
    },
    {
     "data": {
      "text/plain": [
       "            Test_Actual\n",
       "Test_predict ALL AML\n",
       "         ALL  20   1\n",
       "         AML   0  13"
      ]
     },
     "metadata": {},
     "output_type": "display_data"
    }
   ],
   "source": [
    "# pls\n",
    "flda_md_p6_pls = MASS::lda(response~., data = cbine_data_pls)\n",
    "flda_tr_p6_pls = predict(flda_md_p6, pls_train)$class\n",
    "flda_te_p6_pls = predict(flda_md_p6, pls_test)$class\n",
    "table(Train_predict = flda_tr_p6_pls, Train_Actual =pls_train[,1])\n",
    "table(Test_predict = flda_te_p6_pls, Test_Actual = pls_test[, 1])"
   ]
  },
  {
   "cell_type": "markdown",
   "metadata": {},
   "source": [
    "- paper 29"
   ]
  },
  {
   "cell_type": "code",
   "execution_count": 104,
   "metadata": {
    "collapsed": false
   },
   "outputs": [
    {
     "name": "stderr",
     "output_type": "stream",
     "text": [
      "Warning message in lda.default(x, grouping, ...):\n",
      "“variables are collinear”"
     ]
    },
    {
     "data": {
      "text/plain": [
       "             Train_Actual\n",
       "Train_predict ALL AML\n",
       "          ALL  27   0\n",
       "          AML   0  11"
      ]
     },
     "metadata": {},
     "output_type": "display_data"
    },
    {
     "data": {
      "text/plain": [
       "            Test_Actual\n",
       "Test_predict ALL AML\n",
       "         ALL  20   3\n",
       "         AML   0  11"
      ]
     },
     "metadata": {},
     "output_type": "display_data"
    }
   ],
   "source": [
    "flda_md_p29 = MASS::lda(response~., data = cbine_data_p29)\n",
    "flda_tr_p29 = predict(flda_md_p29, data.frame(train_kmeans))$class\n",
    "flda_te_p29 = predict(flda_md_p29, data.frame(test_kmeans))$class\n",
    "table(Train_predict = flda_tr_p29, Train_Actual = golub_train_response)\n",
    "table(Test_predict = flda_te_p29, Test_Actual = golub_test_response)"
   ]
  }
 ],
 "metadata": {
  "kernelspec": {
   "display_name": "R",
   "language": "R",
   "name": "ir"
  },
  "language_info": {
   "codemirror_mode": "r",
   "file_extension": ".r",
   "mimetype": "text/x-r-source",
   "name": "R",
   "pygments_lexer": "r",
   "version": "3.3.2"
  }
 },
 "nbformat": 4,
 "nbformat_minor": 0
}
