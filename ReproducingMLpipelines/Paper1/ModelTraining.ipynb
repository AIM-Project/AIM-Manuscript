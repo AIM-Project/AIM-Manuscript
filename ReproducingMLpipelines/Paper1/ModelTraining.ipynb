{
 "cells": [
  {
   "cell_type": "markdown",
   "metadata": {},
   "source": [
    "## Training"
   ]
  },
  {
   "cell_type": "code",
   "execution_count": null,
   "metadata": {
    "collapsed": true
   },
   "outputs": [],
   "source": [
    "# load the result of feature selection\n",
    "load(\"../transformed data/golub50gene.rda\")"
   ]
  },
  {
   "cell_type": "code",
   "execution_count": null,
   "metadata": {},
   "outputs": [],
   "source": [
    "train_vote = t(p_50*t(sweep(golub_train_50, 2, b)))\n",
    "train_V1 = apply(train_vote, 1, function(x) sum(x[x>0]))\n",
    "train_V2 = abs(apply(train_vote, 1, function(x) sum(x[x<=0])))\n",
    "train_pred = (train_V1-train_V2)/(train_V1+train_V2)\n",
    "train_pred_r = ifelse(abs(train_pred)>0.3, ifelse(train_pred>0, \"AML\", \"ALL\"), \"Uncertain\")\n",
    "train_table = table(Train_Predict = train_pred_r, Train_Actual = golub_train_response)\n",
    "train_table"
   ]
  }
 ],
 "metadata": {
  "kernelspec": {
   "display_name": "R",
   "language": "R",
   "name": "ir"
  },
  "language_info": {
   "codemirror_mode": "r",
   "file_extension": ".r",
   "mimetype": "text/x-r-source",
   "name": "R",
   "pygments_lexer": "r",
   "version": "3.4.2"
  }
 },
 "nbformat": 4,
 "nbformat_minor": 2
}
