{
 "cells": [
  {
   "cell_type": "markdown",
   "metadata": {},
   "source": [
    "### Logistic discrimination"
   ]
  },
  {
   "cell_type": "code",
   "execution_count": 7,
   "metadata": {},
   "outputs": [],
   "source": [
    "load(\"PCA.rda\")\n",
    "load(\"DP.rda\")\n",
    "suppressMessages(library(caret))\n",
    "set.seed(201703)"
   ]
  },
  {
   "cell_type": "code",
   "execution_count": 10,
   "metadata": {},
   "outputs": [],
   "source": [
    "options(warn=-1)\n",
    "# Logistic Discrimination\n",
    "pca_ld_s = train(response~., data = pca_train, method = \"glm\", family = \"binomial\", trControl = trainControl(method = \"LOOCV\"))\n",
    "pca_ld_te = predict(pca_ld_s, data.frame(pca_test_s))\n",
    "pca_ld_ac = mean(pca_ld_te == golub_test_r)\n",
    "pca_ld_re = c(LOOCV = pca_ld_s$results$Accuracy, Test = pca_ld_ac)"
   ]
  },
  {
   "cell_type": "code",
   "execution_count": 11,
   "metadata": {},
   "outputs": [
    {
     "data": {
      "text/html": [
       "<dl class=dl-horizontal>\n",
       "\t<dt>LOOCV</dt>\n",
       "\t\t<dd>1</dd>\n",
       "\t<dt>Test</dt>\n",
       "\t\t<dd>0.970588235294118</dd>\n",
       "</dl>\n"
      ],
      "text/latex": [
       "\\begin{description*}\n",
       "\\item[LOOCV] 1\n",
       "\\item[Test] 0.970588235294118\n",
       "\\end{description*}\n"
      ],
      "text/markdown": [
       "LOOCV\n",
       ":   1Test\n",
       ":   0.970588235294118\n",
       "\n"
      ],
      "text/plain": [
       "    LOOCV      Test \n",
       "1.0000000 0.9705882 "
      ]
     },
     "metadata": {},
     "output_type": "display_data"
    }
   ],
   "source": [
    "pca_ld_re"
   ]
  }
 ],
 "metadata": {
  "kernelspec": {
   "display_name": "R",
   "language": "R",
   "name": "ir"
  },
  "language_info": {
   "codemirror_mode": "r",
   "file_extension": ".r",
   "mimetype": "text/x-r-source",
   "name": "R",
   "pygments_lexer": "r",
   "version": "3.4.2"
  }
 },
 "nbformat": 4,
 "nbformat_minor": 2
}
