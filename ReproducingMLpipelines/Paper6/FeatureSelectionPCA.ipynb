{
 "cells": [
  {
   "cell_type": "markdown",
   "metadata": {},
   "source": [
    "### Feature selection using PCA\n",
    "\n",
    "We use the package of 'ropls' in bioconductor.\n",
    "\n",
    "**_(a)_**. Select the same 50 genes as in Golub paper. See details in Paper1 notebook."
   ]
  },
  {
   "cell_type": "code",
   "execution_count": 1,
   "metadata": {
    "collapsed": true
   },
   "outputs": [],
   "source": [
    "load(\"DP.rda\")\n",
    "library(ropls)\n",
    "library(MASS)\n",
    "suppressMessages(library(caret))\n",
    "set.seed(201703)"
   ]
  },
  {
   "cell_type": "code",
   "execution_count": 2,
   "metadata": {
    "collapsed": true
   },
   "outputs": [],
   "source": [
    "# Neighbourhood analysis\n",
    "get_p = function(train_d, train_r){\n",
    "    tr_m_aml =  colMeans(train_d[train_r == \"AML\",])\n",
    "    tr_sd_aml = apply(train_d[train_r == \"AML\",], 2, sd)\n",
    "    tr_m_all = colMeans(train_d[train_r == \"ALL\",])\n",
    "    tr_sd_all = apply(train_d[train_r == \"ALL\",], 2, sd)\n",
    "    p = (tr_m_aml-tr_m_all)/(tr_sd_aml+tr_sd_all)\n",
    "}\n",
    "nna = matrix(0, 400, 3051)\n",
    "# Permutation test\n",
    "for(i in 1:400){\n",
    "    t_r = sample(golub_train_r)\n",
    "    nna[i, ] = get_p(golub_train_p_trans, t_r)\n",
    "}\n",
    "\n",
    "# Predictor selection based on the result of Neighbourhood analysis\n",
    "nna_q = apply(nna, 2, quantile, prob = c(0.005, 0.995))\n",
    "p = get_p(golub_train_p_trans, golub_train_r)\n",
    "\n",
    "# With 0.01 significant level\n",
    "index_1 = (1:3051)[p>=nna_q[2,] | p<=nna_q[1,]]\n",
    "golub_train_p_trans = golub_train_p_trans[, index_1]\n",
    "train_m_aml = colMeans(golub_train_p_trans[golub_train_r == \"AML\",])\n",
    "train_m_all = colMeans(golub_train_p_trans[golub_train_r ==\"ALL\",])\n",
    "golub_test_p_trans =golub_test_p_trans[, index_1]\n",
    "p = p[index_1]\n",
    "cl_index = c(head(order(p), 25), head(order(p, decreasing = T), 25))\n",
    "p_50 = p[cl_index]\n",
    "b = (train_m_aml[cl_index]+train_m_all[cl_index])/2\n",
    "train_cl = golub_train_p_trans[, cl_index]\n",
    "test_cl = golub_test_p_trans[, cl_index]"
   ]
  },
  {
   "cell_type": "markdown",
   "metadata": {},
   "source": [
    "**_(b)_**. PCA selection."
   ]
  },
  {
   "cell_type": "code",
   "execution_count": 3,
   "metadata": {
    "collapsed": true
   },
   "outputs": [],
   "source": [
    "# Number of predictors as recommended in the paper\n",
    "K = 3\n",
    "#PCA selection\n",
    "pca_slt = getLoadingMN(opls(train_cl, printL = F, predI = K))\n",
    "pca_train_s = t(t(pca_slt)%*%t(train_cl))\n",
    "pca_test_s = t(t(pca_slt)%*%t(test_cl))\n",
    "pca_train = data.frame(response = golub_train_r, pca_train_s)"
   ]
  },
  {
   "cell_type": "code",
   "execution_count": 5,
   "metadata": {},
   "outputs": [],
   "source": [
    "save(pca_train_s, pca_test_s, pca_train, file = \"PCA.rda\")"
   ]
  }
 ],
 "metadata": {
  "kernelspec": {
   "display_name": "R",
   "language": "R",
   "name": "ir"
  },
  "language_info": {
   "codemirror_mode": "r",
   "file_extension": ".r",
   "mimetype": "text/x-r-source",
   "name": "R",
   "pygments_lexer": "r",
   "version": "3.4.2"
  }
 },
 "nbformat": 4,
 "nbformat_minor": 2
}
