{
 "cells": [
  {
   "cell_type": "markdown",
   "metadata": {},
   "source": [
    "## Load and transform dataset"
   ]
  },
  {
   "cell_type": "code",
   "execution_count": null,
   "metadata": {},
   "outputs": [],
   "source": [
    "# The implementation below is very similar to the one in paper1 notehbook and details chould be checked there.\n",
    "\n",
    "## The code below is commented out since it is unnecessary and time-consuming to run it everytime. Run it if needed.\n",
    "#options(repos='http://cran.rstudio.com/') \n",
    "#source(\"http://bioconductor.org/biocLite.R\")\n",
    "#biocLite(\"golubEsets\")\n",
    "#install.packages(\"tree\")\n",
    "#install.packages(\"fastAdaboost\")\n",
    "#install.packages(\"sparsediscrim\", dependencies = T)\n",
    "suppressMessages(library(sparsediscrim))\n",
    "suppressMessages(library(tree))\n",
    "suppressMessages(library(golubEsets))\n",
    "suppressMessages(library(fastAdaboost))\n",
    "\n",
    "# load data from golubEsets\n",
    "data(Golub_Merge)\n",
    "golub_merge_p = t(exprs(Golub_Merge))\n",
    "golub_merge_r =pData(Golub_Merge)[, \"ALL.AML\"]\n",
    "golub_merge_l = ifelse(golub_merge_r == \"AML\", 1, 0)\n",
    "\n",
    "#show summary\n",
    "dim(golub_merge_p) \n",
    "table(golub_merge_r)\n",
    "\n",
    "# Thresholding\n",
    "golub_merge_pp = golub_merge_p\n",
    "golub_merge_pp[golub_merge_pp<100] = 100\n",
    "golub_merge_pp[golub_merge_pp>16000] = 16000\n",
    "\n",
    "# Filtering\n",
    "golub_filter = function(x, r = 5, d=500){\n",
    "    minval = min(x)\n",
    "    maxval = max(x)\n",
    "    (maxval/minval>r)&&(maxval-minval>d)\n",
    "}\n",
    "merge_index = apply(golub_merge_pp, 2, golub_filter)\n",
    "golub_merge_index = (1:7129)[merge_index]\n",
    "golub_merge_pp = golub_merge_pp[, golub_merge_index]\n",
    "\n",
    "# Base 10 logarithmic transformation\n",
    "golub_merge_p_trans = log10(golub_merge_pp)\n",
    "\n",
    "#show summary again\n",
    "dim(golub_merge_p_trans)\n",
    "table(golub_merge_r)\n",
    "\n",
    "total3571_predictor = golub_merge_p_trans\n",
    "total3571_response = golub_merge_r\n",
    "# Further standardization to mean 0 variance 1.\n",
    "scale_golub_merge = scale(golub_merge_p_trans)\n",
    "save(total3571_predictor, total3571_response,scale_golub_merge, file = \"../transformed data/golub3571.rda\")"
   ]
  },
  {
   "cell_type": "code",
   "execution_count": null,
   "metadata": {},
   "outputs": [],
   "source": []
  }
 ],
 "metadata": {
  "kernelspec": {
   "display_name": "R",
   "language": "R",
   "name": "ir"
  },
  "language_info": {
   "codemirror_mode": "r",
   "file_extension": ".r",
   "mimetype": "text/x-r-source",
   "name": "R",
   "pygments_lexer": "r",
   "version": "3.4.3"
  }
 },
 "nbformat": 4,
 "nbformat_minor": 2
}
