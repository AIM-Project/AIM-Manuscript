{
 "cells": [
  {
   "cell_type": "markdown",
   "metadata": {},
   "source": [
    "### Load and transform dataset. \n",
    "Install Bioconductor biocLite package in order to access the golubEsets library. [golubEsets](https://bioconductor.org/packages/release/data/experiment/manuals/golubEsets/man/golubEsets.pdf) contains the raw data used by Todd Golub in the original paper.\n",
    "\n",
    "Load the training, testing data from library golubEsets. Also transpose the data to make observations as rows."
   ]
  },
  {
   "cell_type": "code",
   "execution_count": 1,
   "metadata": {},
   "outputs": [
    {
     "data": {
      "text/html": [
       "<table>\n",
       "<tbody>\n",
       "\t<tr><th scope=row>Train</th><td>38  </td><td>7129</td></tr>\n",
       "\t<tr><th scope=row>Test</th><td>34  </td><td>7129</td></tr>\n",
       "</tbody>\n",
       "</table>\n"
      ],
      "text/latex": [
       "\\begin{tabular}{r|ll}\n",
       "\tTrain & 38   & 7129\\\\\n",
       "\tTest & 34   & 7129\\\\\n",
       "\\end{tabular}\n"
      ],
      "text/markdown": [
       "\n",
       "| Train | 38   | 7129 | \n",
       "| Test | 34   | 7129 | \n",
       "\n",
       "\n"
      ],
      "text/plain": [
       "      [,1] [,2]\n",
       "Train 38   7129\n",
       "Test  34   7129"
      ]
     },
     "metadata": {},
     "output_type": "display_data"
    },
    {
     "data": {
      "text/html": [
       "<table>\n",
       "<thead><tr><th></th><th scope=col>Train</th><th scope=col>Test</th></tr></thead>\n",
       "<tbody>\n",
       "\t<tr><th scope=row>ALL</th><td>27</td><td>20</td></tr>\n",
       "\t<tr><th scope=row>AML</th><td>11</td><td>14</td></tr>\n",
       "</tbody>\n",
       "</table>\n"
      ],
      "text/latex": [
       "\\begin{tabular}{r|ll}\n",
       "  & Train & Test\\\\\n",
       "\\hline\n",
       "\tALL & 27 & 20\\\\\n",
       "\tAML & 11 & 14\\\\\n",
       "\\end{tabular}\n"
      ],
      "text/markdown": [
       "\n",
       "| <!--/--> | Train | Test | \n",
       "|---|---|\n",
       "| ALL | 27 | 20 | \n",
       "| AML | 11 | 14 | \n",
       "\n",
       "\n"
      ],
      "text/plain": [
       "    Train Test\n",
       "ALL 27    20  \n",
       "AML 11    14  "
      ]
     },
     "metadata": {},
     "output_type": "display_data"
    }
   ],
   "source": [
    "## The code below is commented out since it is unnecessary and time-consuming to run it everytime. Run it if needed.\n",
    "# options(repos='http://cran.rstudio.com/') \n",
    "# source(\"http://bioconductor.org/biocLite.R\")\n",
    "# biocLite(\"golubEsets\")\n",
    "suppressMessages(library(golubEsets))\n",
    "#Training data\n",
    "data(Golub_Train)\n",
    "golub_train_p = t(exprs(Golub_Train))\n",
    "golub_train_r =pData(Golub_Train)[, \"ALL.AML\"]\n",
    "golub_train_l = ifelse(golub_train_r == \"AML\", 1, 0)\n",
    "\n",
    "#Testing data\n",
    "data(Golub_Test)\n",
    "golub_test_p = t(exprs(Golub_Test))\n",
    "golub_test_r = pData(Golub_Test)[, \"ALL.AML\"]\n",
    "golub_test_l = ifelse(golub_test_r == \"AML\", 1, 0)\n",
    "\n",
    "#Show summary\n",
    "rbind(Train = dim(golub_train_p), Test = dim(golub_test_p))\n",
    "cbind(Train = table(golub_train_r),Test = table(golub_test_r))"
   ]
  },
  {
   "cell_type": "code",
   "execution_count": 2,
   "metadata": {
    "collapsed": true
   },
   "outputs": [],
   "source": [
    "save(golub_train_p, golub_train_r, golub_train_l, golub_test_p, golub_test_r, golub_test_l,  file = \"DP.rda\")"
   ]
  }
 ],
 "metadata": {
  "kernelspec": {
   "display_name": "R",
   "language": "R",
   "name": "ir"
  },
  "language_info": {
   "codemirror_mode": "r",
   "file_extension": ".r",
   "mimetype": "text/x-r-source",
   "name": "R",
   "pygments_lexer": "r",
   "version": "3.4.2"
  }
 },
 "nbformat": 4,
 "nbformat_minor": 2
}
