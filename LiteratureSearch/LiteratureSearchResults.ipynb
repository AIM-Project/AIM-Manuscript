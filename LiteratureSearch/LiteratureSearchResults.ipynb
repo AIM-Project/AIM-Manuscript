{
 "cells": [
  {
   "cell_type": "markdown",
   "metadata": {},
   "source": [
    "# List of articles classifying the ALL/AML dataset\n",
    "\n",
    "### The ID assigned to the article here persists throughout the study. The 5 articles we analyzed are italicized.\n",
    "\n",
    "| ID | Title | Year |\n",
    "|----------|-------|----------------|\n",
    "|1  |_[Molecular classification of cancer: class discovery and class prediction by gene expression monitoring](https://github.com/AIM-Project/AIM-Manuscript/blob/master/LiteratureSearch/Articles/paper1.pdf)_|1999/10/15|\n",
    "|2|[Class Prediction and Discovery Using Gene Expression Data](https://github.com/AIM-Project/AIM-Manuscript/blob/master/LiteratureSearch/Articles/paper2.pdf)|2000|\n",
    "|3|_[Tissue Classification with Gene Expression Profiles](https://github.com/AIM-Project/AIM-Manuscript/blob/master/LiteratureSearch/Articles/paper3.pdf)_|2000/08/01|\n",
    "|4 |[Support vector machine classification and validation of cancer tissue samples using microarray expression data](https://github.com/AIM-Project/AIM-Manuscript/blob/master/LiteratureSearch/Articles/paper4.pdf)|2000/10/01|\n",
    "|5|[Identifying marker genes in transcription profiling data using a mixture of feature relevance experts](https://github.com/AIM-Project/AIM-Manuscript/blob/master/LiteratureSearch/Articles/paper5.pdf)|2001/03/08|\n",
    "|6 |_[Classification of Acute Leukemia Based on DNA Microarray Gene Expressions Using Partial Least Squares](https://github.com/AIM-Project/AIM-Manuscript/blob/master/LiteratureSearch/Articles/paper6.pdf)_|2002|\n",
    "|7|[Gene Selection for Cancer Classification using Support Vector Machines](https://github.com/AIM-Project/AIM-Manuscript/blob/master/LiteratureSearch/Articles/paper7.pdf)|2002/01/01|\n",
    "|8 |[Tumor classification by partial least squares using microarray gene expression data](https://github.com/AIM-Project/AIM-Manuscript/blob/master/LiteratureSearch/Articles/paper8.pdf)|2002/01/01|\n",
    "|9 |_[Comparison of Discrimination Methods for the Classification of Tumors Using Gene Expression Data](https://github.com/AIM-Project/AIM-Manuscript/blob/master/LiteratureSearch/Articles/paper9.pdf)_|2002/03/01|\n",
    "|10|[Ensemble machine learning on gene expression data for cancer classification](https://github.com/AIM-Project/AIM-Manuscript/blob/master/LiteratureSearch/Articles/paper10.pdf)|2003|\n",
    "|11|[Effective dimension reduction methods for tumor classification using gene expression data](https://github.com/AIM-Project/AIM-Manuscript/blob/master/LiteratureSearch/Articles/paper11.pdf)|2003/03/22|\n",
    "|12|[PCA disjoint models for multiclass cancer analysis using gene expression data](https://github.com/AIM-Project/AIM-Manuscript/blob/master/LiteratureSearch/Articles/paper12.pdf)|2003/03/22|\n",
    "|13|[Spectral Biclustering of Microarray Data: Coclustering Genes and Conditions](https://github.com/AIM-Project/AIM-Manuscript/blob/master/LiteratureSearch/Articles/paper13.pdf)|2003/04/01|\n",
    "|14|[Boosting for tumor classification with gene expression data](https://github.com/AIM-Project/AIM-Manuscript/blob/master/LiteratureSearch/Articles/paper14.pdf)|2003/06/12|\n",
    "|15|[Classification of multiple cancer types by multicategory support vector machines using gene expression data](https://github.com/AIM-Project/AIM-Manuscript/blob/master/LiteratureSearch/Articles/paper15.pdf)|2003/06/12|\n",
    "|16|[Optimization models for cancer classification: extracting gene interaction information from microarray expression data](https://github.com/AIM-Project/AIM-Manuscript/blob/master/LiteratureSearch/Articles/paper16.pdf)|2004/03/22|\n",
    "|17|[Classification of gene microarrays by penalized logistic regression](https://github.com/AIM-Project/AIM-Manuscript/blob/master/LiteratureSearch/Articles/paper17.pdf)|2004/07|\n",
    "|18|[A comparative study of feature selection and multiclass classification methods for tissue classification based on gene expression](https://github.com/AIM-Project/AIM-Manuscript/blob/master/LiteratureSearch/Articles/paper18.pdf)|2004/10/12|\n",
    "|19|[A comprehensive evaluation of multicategory classification methods for microarray gene expression cancer diagnosis](https://github.com/AIM-Project/AIM-Manuscript/blob/master/LiteratureSearch/Articles/paper19.pdf)|2005/03/01|\n",
    "|20|[An extensive comparison of recent classification tools applied to microarray data](https://github.com/AIM-Project/AIM-Manuscript/blob/master/LiteratureSearch/Articles/paper20.pdf)|2005/04/01|\n",
    "|21|[Simple decision rules for classifying human cancers from gene expression profiles](https://github.com/AIM-Project/AIM-Manuscript/blob/master/LiteratureSearch/Articles/paper21.pdf)|2005/10/15|\n",
    "|22|[Gene selection and classification of microarray data using random forest](https://github.com/AIM-Project/AIM-Manuscript/blob/master/LiteratureSearch/Articles/paper22.pdf)|2006|\n",
    "|23|[Gene Selection Using Rough Set Theory](https://github.com/AIM-Project/AIM-Manuscript/blob/master/LiteratureSearch/Articles/paper23.pdf)|2006/07/24|\n",
    "|24|[Independent component analysis-based penalized discriminant method for tumor classification using gene expression data](https://github.com/AIM-Project/AIM-Manuscript/blob/master/LiteratureSearch/Articles/paper24.pdf)|2006/08/01|\n",
    "|25|[Gene selection for classification of microarray data based on the Bayes error](https://github.com/AIM-Project/AIM-Manuscript/blob/master/LiteratureSearch/Articles/paper25.pdf)|2007|\n",
    "|26|[Logistic regression for disease classification using microarray data: model selection in a large p and small n case](https://github.com/AIM-Project/AIM-Manuscript/blob/master/LiteratureSearch/Articles/paper26.pdf)|2007/08/01|\n",
    "|27|[A sequential feature extraction approach for naïve bayes classification of microarray data](https://github.com/AIM-Project/AIM-Manuscript/blob/master/LiteratureSearch/Articles/paper27.pdf)|2009/08|\n",
    "|28|[Optimization Based Tumor Classification from Microarray Gene Expression Data](https://github.com/AIM-Project/AIM-Manuscript/blob/master/LiteratureSearch/Articles/paper28.pdf)_|2011/02/04|\n",
    "|29|_[Acute Leukemia Classification using Bayesian Networks](https://github.com/AIM-Project/AIM-Manuscript/blob/master/LiteratureSearch/Articles/paper29.pdf)_|2012/10|\n",
    "|30|[A novel approach to select significant genes of leukemia cancer data using K-Means clustering](https://github.com/AIM-Project/AIM-Manuscript/blob/master/LiteratureSearch/Articles/paper30.pdf)|2013/02|"
   ]
  },
  
  {
   "cell_type": "markdown",
   "metadata": {},
   "source": [
    "### Description of the ALL/AML Dataset\n",
    "\n",
    "-  Acute Lymphocytic leukemia (ALL), also called Acute Lymphoblastic Leukemia, is a cancer that starts from the early version of white blood cells called lymphocytes in the bone marrow. The term \"acute\" means that the leukemia can progress quickly, and if not treated in time, would probably be fatal within a few months. Lymphocytic means it develops from early(immature) forms of lymphocytes, a type of white blood cell. It is different from acute myeloid leukemia (AML), which develops in other blood cell types found in the bone marrow. Using machine learning method, we could classify the two types of leukemia quickly with high accuracy and a lot of work have been done around this topic.\n",
    "\n",
    "- A generic approach to cancer classification based on gene expression monitoring by DNA microarrays is described and applied to human acute leukemias by Golub et al.(1999)[1]. They proposed a class discovery procedure automatically distinguish between AML and ALL without previous knowledge of these classes. That paper is also the origin of the famous Golub Gene expression dataset. After that, tons of work have used this dataset to verify their feature selections procedures, classifiers etc., which are summarized in the tables above.\n",
    "\n",
    "- There are two datasets in the paper, training data and test data. The Golub Gene expression dataset contains both of them and also one merged dataset of those two. The traning data consisted of 38 bone marrow samples (27 ALL, 11 AML) obtained from acute leukemia patients at the time of diagnosis. There are 7129 probes in the experiment for 6817 genes, i.e. there are 7129 gene expressions for 6817 genes in the dataset. The test data is an independent collection of 34 leukemia samples with 24 bone marrow and 10 peripheral blood samples. 20 of them are ALL samples and the rest are AML samples. More details about the dataset could be found in the paper 1 or in this linked discription [golubEsets](https://www.bioconductor.org/packages/devel/data/experiment/manuals/golubEsets/man/golubEsets.pdf).\n",
    "\n",
    "- Since the range of the gene expression in the dataset is large and there are lots of negative gene expression values, usually several transformation would be done before building the classifier. In paper 2, they manually restricted the value to above some positive threshold and did a log transformation after that. Paper 9 proposed a transformation procedure, which is widely used by researcher afterwards. They did three preprocessing steps: thresholding, filtering and base 10 logarithmic transformation and then reduced the whole training and test dataset to have only 3571 predictors.([dataset](https://cran.r-project.org/web/packages/spikeslab/spikeslab.pdf)) However, after preprocessing use the procedure, we will left with 3051 predictors and that resulting dataset is available at [library/package](http://faculty.mssm.edu/gey01/multtest/multtest-manual.pdf).\n",
    "\n",
    "- Since the dataset has more predictors than observations, the focus of research on the dataset is not restrict to finding an effective classifiers but also the feature selection criterions. In the origin paper, they use a 50-gene classifiers selected by correlation. Lots of other criterions and classifiers are studied by other researchers in the later papers and we will try to reproduce them in our study."
   ]
  }
 ],
 "metadata": {
  "kernelspec": {
   "display_name": "R",
   "language": "R",
   "name": "ir"
  },
  "language_info": {
   "codemirror_mode": "r",
   "file_extension": ".r",
   "mimetype": "text/x-r-source",
   "name": "R",
   "pygments_lexer": "r",
   "version": "3.4.1"
  }
 },
 "nbformat": 4,
 "nbformat_minor": 1
}
