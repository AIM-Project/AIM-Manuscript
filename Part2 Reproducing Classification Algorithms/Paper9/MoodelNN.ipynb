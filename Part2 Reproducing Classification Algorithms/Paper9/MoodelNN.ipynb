{
 "cells": [
  {
   "cell_type": "markdown",
   "metadata": {},
   "source": [
    " **Nearest Neighbor**\n",
    "\n",
    "As the distance measure defined in the paper are not general distance measure used by R knn function. We reimplement KNN in R and this cell could be a little bit slow. "
   ]
  },
  {
   "cell_type": "code",
   "execution_count": 1,
   "metadata": {},
   "outputs": [],
   "source": [
    "load(\"../transformed data/golub3571.rda\")\n",
    "load(\"../transformed data/paper9.rda\")\n",
    "# Settings as specified in the paper\n",
    "p = 40 # number of genes for FLDA\n",
    "B = 50 # Aggregation predictors\n",
    "N = 200 # repeat classification N times\n",
    "d = c(0.05, 0.1,0.25, 0.5, 0.75, 1) # CPD parameter\n",
    "set.seed(2017)"
   ]
  },
  {
   "cell_type": "code",
   "execution_count": null,
   "metadata": {},
   "outputs": [],
   "source": [
    "k = seq(1, 21, 2)\n",
    "# Distance measure used in the paper\n",
    "Distance = function(predictor, test){\n",
    "    1- apply(predictor, 1, cor, test)\n",
    "}\n",
    "# NN classification process\n",
    "nn = function(test, pk, learning, response){\n",
    "     distance = Distance(learning, test)\n",
    "     index = order(distance)[1:pk]\n",
    "     cl = ifelse(sum(response[index] == \"AML\")>sum(response[index]==\"ALL\"), \"AML\", \"ALL\")\n",
    "     cl\n",
    "}\n",
    "# leave-one-cross-validation to tune k\n",
    "mycv= function(pk,learning,response){\n",
    "    error = 0\n",
    "    for(i in 1:nrow(learning)){\n",
    "        cl = nn(learning[i,], pk, learning[-i, ], response[-i])\n",
    "        error = error+(cl == response[i])\n",
    "    }\n",
    "    error\n",
    "}\n",
    "error_count = numeric(N)\n",
    "for(i in 1:N){\n",
    "    # split data\n",
    "    nn_index = mysplit(nrow(scale_golub_merge))\n",
    "    nn_train_p = scale_golub_merge[-nn_index,]\n",
    "    nn_train_r = total3571_response[-nn_index]\n",
    "    nn_test_p = scale_golub_merge[nn_index,]\n",
    "    nn_test_r = total3571_response[nn_index]\n",
    "    # gene selection/feature selection\n",
    "    temp_bw = order(BW(nn_train_p, nn_train_r), decreasing = T)[1:p]\n",
    "    nn_train_p = nn_train_p[,temp_bw]\n",
    "    nn_test_p = nn_test_p[,temp_bw]\n",
    "    # cross-validation to choose k\n",
    "    choose_k = sapply(k,mycv, learning = nn_train_p, response = nn_train_r)\n",
    "    # nn classification\n",
    "    nn_r = apply(nn_test_p,1, nn, k[which.min(choose_k)], nn_train_p, nn_train_r)\n",
    "    error_count[i] = sum(nn_r != nn_test_r)\n",
    "}\n",
    "resultNN = c(Median = median(error_count), Upper_quartile = quantile(error_count, 0.75))"
   ]
  }
 ],
 "metadata": {
  "kernelspec": {
   "display_name": "R",
   "language": "R",
   "name": "ir"
  },
  "language_info": {
   "codemirror_mode": "r",
   "file_extension": ".r",
   "mimetype": "text/x-r-source",
   "name": "R",
   "pygments_lexer": "r",
   "version": "3.4.3"
  }
 },
 "nbformat": 4,
 "nbformat_minor": 2
}
