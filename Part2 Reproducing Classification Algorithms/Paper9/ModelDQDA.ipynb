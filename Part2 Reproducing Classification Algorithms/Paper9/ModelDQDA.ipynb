{
 "cells": [
  {
   "cell_type": "markdown",
   "metadata": {},
   "source": [
    "**DQDA**"
   ]
  },
  {
   "cell_type": "code",
   "execution_count": 1,
   "metadata": {},
   "outputs": [],
   "source": [
    "suppressMessages(library(sparsediscrim))\n",
    "load(\"../transformed data/golub3571.rda\")\n",
    "load(\"../transformed data/paper9.rda\")\n",
    "# Settings as specified in the paper\n",
    "p = 40 # number of genes for FLDA\n",
    "B = 50 # Aggregation predictors\n",
    "N = 200 # repeat classification N times\n",
    "d = c(0.05, 0.1,0.25, 0.5, 0.75, 1) # CPD parameter\n",
    "set.seed(2017)"
   ]
  },
  {
   "cell_type": "code",
   "execution_count": 2,
   "metadata": {},
   "outputs": [],
   "source": [
    "cbine_data = data.frame(response = factor(total3571_response), scale_golub_merge)\n",
    "dqda_error = numeric(N)\n",
    "for(i in 1:200){\n",
    "    dqda_index = mysplit(nrow(cbine_data))\n",
    "    dqda_train = cbine_data[-dqda_index,]\n",
    "    dqda_test = cbine_data[dqda_index,]\n",
    "    \n",
    "    # gene selection\n",
    "    temp_bw = order(BW(dqda_train[, -1], dqda_train$response), decreasing = T)[1:p]\n",
    "    dqda_train_t = data.frame(response = dqda_train$response, dqda_train[,temp_bw+1])\n",
    "    dqda_test_t= data.frame(response = dqda_test$response, dqda_test[,temp_bw+1])\n",
    "    \n",
    "    dqda_md = dlda(response~., data = dqda_train_t)\n",
    "    dqda_pred = predict(dqda_md, dqda_test_t[,-1])$class\n",
    "    dqda_error[i] = sum(dqda_pred != dqda_test_t$response)\n",
    "}\n",
    "resultDQDA = c(Median = median(dqda_error), Upper_quartile = quantile(dqda_error, 0.75))"
   ]
  },
  {
   "cell_type": "code",
   "execution_count": 3,
   "metadata": {},
   "outputs": [
    {
     "data": {
      "text/html": [
       "<dl class=dl-horizontal>\n",
       "\t<dt>Median</dt>\n",
       "\t\t<dd>1</dd>\n",
       "\t<dt>Upper_quartile.75%</dt>\n",
       "\t\t<dd>2</dd>\n",
       "</dl>\n"
      ],
      "text/latex": [
       "\\begin{description*}\n",
       "\\item[Median] 1\n",
       "\\item[Upper\\textbackslash{}\\_quartile.75\\textbackslash{}\\%] 2\n",
       "\\end{description*}\n"
      ],
      "text/markdown": [
       "Median\n",
       ":   1Upper_quartile.75%\n",
       ":   2\n",
       "\n"
      ],
      "text/plain": [
       "            Median Upper_quartile.75% \n",
       "                 1                  2 "
      ]
     },
     "metadata": {},
     "output_type": "display_data"
    }
   ],
   "source": [
    "resultDQDA"
   ]
  }
 ],
 "metadata": {
  "kernelspec": {
   "display_name": "R",
   "language": "R",
   "name": "ir"
  },
  "language_info": {
   "codemirror_mode": "r",
   "file_extension": ".r",
   "mimetype": "text/x-r-source",
   "name": "R",
   "pygments_lexer": "r",
   "version": "3.4.3"
  }
 },
 "nbformat": 4,
 "nbformat_minor": 2
}
