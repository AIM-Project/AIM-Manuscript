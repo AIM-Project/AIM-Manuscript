{
 "cells": [
  {
   "cell_type": "markdown",
   "metadata": {},
   "source": [
    "**Desicion Tree(CART)**: Single CART tree with pruning by 10-fold CV\n",
    "\n",
    "This part is accomplished using tree package in R as used in the paper. Since not much is mentioned in the paper about the set up of the decision tree, the default depth in tree are used. Also 10 fold cross-validation and prune.tree are used as specified in the paper."
   ]
  },
  {
   "cell_type": "code",
   "execution_count": 1,
   "metadata": {},
   "outputs": [],
   "source": [
    "suppressMessages(library(tree))\n",
    "load(\"../transformed data/golub3571.rda\")\n",
    "load(\"../transformed data/paper9.rda\")\n",
    "# Settings as specified in the paper\n",
    "p = 40 # number of genes for FLDA\n",
    "B = 50 # Aggregation predictors\n",
    "N = 200 # repeat classification N times\n",
    "d = c(0.05, 0.1,0.25, 0.5, 0.75, 1) # CPD parameter\n",
    "set.seed(2017)"
   ]
  },
  {
   "cell_type": "code",
   "execution_count": 2,
   "metadata": {},
   "outputs": [],
   "source": [
    "cbine_data = data.frame(response = factor(total3571_response), scale_golub_merge)\n",
    "tree_mdl = tree(response~.,data = cbine_data)\n",
    "cv_error = replicate(N, ceiling(cv.tree(tree_mdl, , prune.tree, K = 10, method = \"misclass\")$dev[1]/10))\n",
    "resultDT = c(Median = median(cv_error), Upper_quartile = quantile(cv_error, 0.75))"
   ]
  },
  {
   "cell_type": "code",
   "execution_count": 3,
   "metadata": {},
   "outputs": [
    {
     "data": {
      "text/html": [
       "<dl class=dl-horizontal>\n",
       "\t<dt>Median</dt>\n",
       "\t\t<dd>2</dd>\n",
       "\t<dt>Upper_quartile.75%</dt>\n",
       "\t\t<dd>2</dd>\n",
       "</dl>\n"
      ],
      "text/latex": [
       "\\begin{description*}\n",
       "\\item[Median] 2\n",
       "\\item[Upper\\textbackslash{}\\_quartile.75\\textbackslash{}\\%] 2\n",
       "\\end{description*}\n"
      ],
      "text/markdown": [
       "Median\n",
       ":   2Upper_quartile.75%\n",
       ":   2\n",
       "\n"
      ],
      "text/plain": [
       "            Median Upper_quartile.75% \n",
       "                 2                  2 "
      ]
     },
     "metadata": {},
     "output_type": "display_data"
    }
   ],
   "source": [
    "resultDT"
   ]
  }
 ],
 "metadata": {
  "kernelspec": {
   "display_name": "R",
   "language": "R",
   "name": "ir"
  },
  "language_info": {
   "codemirror_mode": "r",
   "file_extension": ".r",
   "mimetype": "text/x-r-source",
   "name": "R",
   "pygments_lexer": "r",
   "version": "3.4.3"
  }
 },
 "nbformat": 4,
 "nbformat_minor": 2
}
