{
 "cells": [
  {
   "cell_type": "markdown",
   "metadata": {},
   "source": [
    "**AdaBoost**\n",
    "\n",
    "Using adaboost function from fastAdaboost package in R."
   ]
  },
  {
   "cell_type": "code",
   "execution_count": 1,
   "metadata": {},
   "outputs": [],
   "source": [
    "suppressMessages(library(fastAdaboost))\n",
    "load(\"../transformed data/golub3571.rda\")\n",
    "load(\"../transformed data/paper9.rda\")\n",
    "# Settings as specified in the paper\n",
    "p = 40 # number of genes for FLDA\n",
    "B = 50 # Aggregation predictors\n",
    "N = 200 # repeat classification N times\n",
    "d = c(0.05, 0.1,0.25, 0.5, 0.75, 1) # CPD parameter\n",
    "set.seed(2017)"
   ]
  },
  {
   "cell_type": "code",
   "execution_count": 2,
   "metadata": {},
   "outputs": [],
   "source": [
    "cbine_data = data.frame(response = factor(total3571_response), scale_golub_merge)\n",
    "ada_error = numeric(N)\n",
    "for(i in 1:N){\n",
    "    ad_index = mysplit(nrow(cbine_data))\n",
    "    ad_train = cbine_data[-ad_index,]\n",
    "    ad_test = cbine_data[ad_index,]\n",
    "    \n",
    "    # gene selection\n",
    "    temp_bw = order(BW(ad_train[, -1], ad_train$response), decreasing = T)[1:p]\n",
    "    ad_train_t = data.frame(response = ad_train$response, ad_train[,temp_bw+1])\n",
    "    ad_test_t= data.frame(response = ad_test$response, ad_test[,temp_bw+1])\n",
    "    \n",
    "    ada_cl = adaboost(response~., data = ad_train_t, 50)\n",
    "    ada_test_pr = predict(ada_cl, ad_test_t)$class\n",
    "   ada_error[i] = sum(ada_test_pr != ad_test_t$response)\n",
    "}\n",
    "resultAda = c(Median = median(ada_error), Upper_quartile = quantile(ada_error, 0.75))"
   ]
  },
  {
   "cell_type": "code",
   "execution_count": 3,
   "metadata": {},
   "outputs": [
    {
     "data": {
      "text/html": [
       "<dl class=dl-horizontal>\n",
       "\t<dt>Median</dt>\n",
       "\t\t<dd>1</dd>\n",
       "\t<dt>Upper_quartile.75%</dt>\n",
       "\t\t<dd>2</dd>\n",
       "</dl>\n"
      ],
      "text/latex": [
       "\\begin{description*}\n",
       "\\item[Median] 1\n",
       "\\item[Upper\\textbackslash{}\\_quartile.75\\textbackslash{}\\%] 2\n",
       "\\end{description*}\n"
      ],
      "text/markdown": [
       "Median\n",
       ":   1Upper_quartile.75%\n",
       ":   2\n",
       "\n"
      ],
      "text/plain": [
       "            Median Upper_quartile.75% \n",
       "                 1                  2 "
      ]
     },
     "metadata": {},
     "output_type": "display_data"
    }
   ],
   "source": [
    "resultAda"
   ]
  }
 ],
 "metadata": {
  "kernelspec": {
   "display_name": "R",
   "language": "R",
   "name": "ir"
  },
  "language_info": {
   "codemirror_mode": "r",
   "file_extension": ".r",
   "mimetype": "text/x-r-source",
   "name": "R",
   "pygments_lexer": "r",
   "version": "3.4.3"
  }
 },
 "nbformat": 4,
 "nbformat_minor": 2
}
