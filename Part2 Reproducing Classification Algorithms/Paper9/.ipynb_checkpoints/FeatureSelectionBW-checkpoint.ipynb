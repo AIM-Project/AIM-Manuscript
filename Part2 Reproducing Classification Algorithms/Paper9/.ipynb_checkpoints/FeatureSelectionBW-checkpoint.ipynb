{
 "cells": [
  {
   "cell_type": "markdown",
   "metadata": {},
   "source": [
    "### Feature Selection\n",
    "General settings as specified in the paper and helper functions for BW(Feature selection) and train-test split."
   ]
  },
  {
   "cell_type": "code",
   "execution_count": 1,
   "metadata": {},
   "outputs": [],
   "source": [
    "load(\"../transformed data/golub3571.rda\")\n",
    "set.seed(201703)"
   ]
  },
  {
   "cell_type": "code",
   "execution_count": 2,
   "metadata": {},
   "outputs": [],
   "source": [
    "# Settings as specified in the paper\n",
    "p = 40 # number of genes for FLDA\n",
    "B = 50 # Aggregation predictors\n",
    "N = 200 # repeat classification N times\n",
    "d = c(0.05, 0.1,0.25, 0.5, 0.75, 1) # CPD parameter"
   ]
  },
  {
   "cell_type": "code",
   "execution_count": 3,
   "metadata": {},
   "outputs": [],
   "source": [
    "# Split train test as specified in the paper\n",
    "mysplit = function(n){\n",
    "    sample(1:n, floor(n/3))\n",
    "}\n",
    "# implement function for calculating BW as stated in the paper(the ratio of between-group to within group sums of squares)\n",
    "BW = function(predictor, response){\n",
    "    overall = colMeans(predictor)\n",
    "    ALL_mean = apply(predictor, 2, function(x) mean(x[response == \"ALL\"]))\n",
    "    AML_mean = apply(predictor, 2, function(x) mean(x[response == \"AML\"]))\n",
    "    numerator = sum(response == \"ALL\")*(ALL_mean-overall)^2+sum(response == \"AML\")*(AML_mean-overall)^2\n",
    "    denumerator = colSums((t(t(predictor[response == \"ALL\", ])-ALL_mean))^2)+colSums((t(t(predictor[response == \"AML\", ])-AML_mean))^2)\n",
    "    numerator/denumerator\n",
    "}\n",
    "                     \n",
    "# randomly feature select once for comparison for furthur study\n",
    "id = mysplit(nrow(scale_golub_merge))\n",
    "train_p = scale_golub_merge[-id,]\n",
    "train_r = total3571_response[-id]\n",
    "test_p = scale_golub_merge[id,]\n",
    "test_r = total3571_response[id]\n",
    "temp_bw = order(BW(train_p, train_r), decreasing = T)[1:50]\n",
    "train_BW_predictor = train_p[,temp_bw]\n",
    "test_BW_predictor = test_p[,temp_bw]\n",
    "save(train_BW_predictor, train_r, test_BW_predictor, test_r,mysplit, BW, file = \"../transformed data/paper9.rda\")"
   ]
  }
 ],
 "metadata": {
  "kernelspec": {
   "display_name": "R",
   "language": "R",
   "name": "ir"
  },
  "language_info": {
   "codemirror_mode": "r",
   "file_extension": ".r",
   "mimetype": "text/x-r-source",
   "name": "R",
   "pygments_lexer": "r",
   "version": "3.4.3"
  }
 },
 "nbformat": 4,
 "nbformat_minor": 2
}
