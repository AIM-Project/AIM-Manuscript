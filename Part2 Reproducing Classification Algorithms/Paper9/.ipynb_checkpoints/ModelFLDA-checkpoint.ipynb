{
 "cells": [
  {
   "cell_type": "markdown",
   "metadata": {},
   "source": [
    "**FLDA**\n",
    "\n",
    "As the current LDA is very similar to the FLDA, lda function in MASS package is used to accomplish this part."
   ]
  },
  {
   "cell_type": "code",
   "execution_count": 1,
   "metadata": {},
   "outputs": [],
   "source": [
    "suppressMessages(library(fastAdaboost))\n",
    "load(\"../transformed data/golub3571.rda\")\n",
    "load(\"../transformed data/paper9.rda\")\n",
    "# Settings as specified in the paper\n",
    "p = 40 # number of genes for FLDA\n",
    "B = 50 # Aggregation predictors\n",
    "N = 200 # repeat classification N times\n",
    "d = c(0.05, 0.1,0.25, 0.5, 0.75, 1) # CPD parameter\n",
    "set.seed(2017)"
   ]
  },
  {
   "cell_type": "code",
   "execution_count": 2,
   "metadata": {},
   "outputs": [],
   "source": [
    "cbine_data = data.frame(response = factor(total3571_response), scale_golub_merge)\n",
    "flda_error = numeric(N)\n",
    "for(i in 1:200){\n",
    "    flda_index = mysplit(nrow(cbine_data))\n",
    "    flda_train = cbine_data[-flda_index,]\n",
    "    flda_test = cbine_data[flda_index,]\n",
    "    \n",
    "    # gene selection\n",
    "    temp_bw = order(BW(flda_train[, -1], flda_train$response), decreasing = T)[1:p]\n",
    "    flda_train_t = data.frame(response = flda_train$response, flda_train[,temp_bw+1])\n",
    "    flda_test_t= data.frame(response = flda_test$response, flda_test[,temp_bw+1])\n",
    "    \n",
    "    flda_md = MASS::lda(response~., data = flda_train_t)\n",
    "    flda_pred = predict(flda_md, flda_test_t)$class\n",
    "    flda_error[i] = sum(flda_pred != flda_test_t$response)\n",
    "}\n",
    "resultFLDA = c(Median = median(flda_error), Upper_quartile = quantile(flda_error, 0.75))"
   ]
  },
  {
   "cell_type": "code",
   "execution_count": 3,
   "metadata": {},
   "outputs": [
    {
     "data": {
      "text/html": [
       "<dl class=dl-horizontal>\n",
       "\t<dt>Median</dt>\n",
       "\t\t<dd>3</dd>\n",
       "\t<dt>Upper_quartile.75%</dt>\n",
       "\t\t<dd>5</dd>\n",
       "</dl>\n"
      ],
      "text/latex": [
       "\\begin{description*}\n",
       "\\item[Median] 3\n",
       "\\item[Upper\\textbackslash{}\\_quartile.75\\textbackslash{}\\%] 5\n",
       "\\end{description*}\n"
      ],
      "text/markdown": [
       "Median\n",
       ":   3Upper_quartile.75%\n",
       ":   5\n",
       "\n"
      ],
      "text/plain": [
       "            Median Upper_quartile.75% \n",
       "                 3                  5 "
      ]
     },
     "metadata": {},
     "output_type": "display_data"
    }
   ],
   "source": [
    "resultFLDA"
   ]
  }
 ],
 "metadata": {
  "kernelspec": {
   "display_name": "R",
   "language": "R",
   "name": "ir"
  },
  "language_info": {
   "codemirror_mode": "r",
   "file_extension": ".r",
   "mimetype": "text/x-r-source",
   "name": "R",
   "pygments_lexer": "r",
   "version": "3.4.3"
  }
 },
 "nbformat": 4,
 "nbformat_minor": 2
}
