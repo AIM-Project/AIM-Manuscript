{
 "cells": [
  {
   "cell_type": "markdown",
   "metadata": {},
   "source": [
    "**Bagging**\n",
    "\n",
    "Implemented without using packages in R."
   ]
  },
  {
   "cell_type": "code",
   "execution_count": 1,
   "metadata": {},
   "outputs": [],
   "source": [
    "suppressMessages(library(tree))\n",
    "load(\"../transformed data/golub3571.rda\")\n",
    "load(\"../transformed data/paper9.rda\")\n",
    "# Settings as specified in the paper\n",
    "p = 40 # number of genes for FLDA\n",
    "B = 50 # Aggregation predictors\n",
    "N = 200 # repeat classification N times\n",
    "d = c(0.05, 0.1,0.25, 0.5, 0.75, 1) # CPD parameter\n",
    "set.seed(2017)"
   ]
  },
  {
   "cell_type": "code",
   "execution_count": 2,
   "metadata": {},
   "outputs": [],
   "source": [
    "cbine_data = data.frame(response = factor(total3571_response), scale_golub_merge)\n",
    "# initialize the result vector\n",
    "bg_error = numeric(N)\n",
    "# implement helper function for each bagging\n",
    "my_baghelper = function(train, test){\n",
    "    bg = sample(nrow(train), replace = T)\n",
    "    temp_md = tree(response~., data = train[bg, ])\n",
    "    predict(temp_md, test, type = \"class\")\n",
    "}\n",
    "\n",
    "# perform N time classification(bootstrap)\n",
    "for(i in 1:N){\n",
    "    bg_index = mysplit(nrow(cbine_data))\n",
    "    bg_train = cbine_data[-bg_index,]\n",
    "    bg_test = cbine_data[bg_index,]\n",
    "    \n",
    "    # gene selection\n",
    "    temp_bw = order(BW(bg_train[, -1], bg_train$response), decreasing = T)[1:p]\n",
    "    bg_train_p = data.frame(response = bg_train$response, bg_train[,temp_bw+1])\n",
    "    bg_test_p= data.frame(response = bg_test$response, bg_test[,temp_bw+1])\n",
    "    \n",
    "    t1 = replicate(B, my_baghelper(bg_train_p, bg_test_p))\n",
    "    pred = apply(t1, 1, function(x) ifelse(sum(x == \"AML\")>sum(x ==\"ALL\"), \"AML\", \"ALL\"))\n",
    "    bg_error[i] = sum(pred != bg_test_p$response)\n",
    "}\n",
    "resultBag = c(Median = median(bg_error), Upper_quartile = quantile(bg_error, 0.75))"
   ]
  },
  {
   "cell_type": "code",
   "execution_count": 3,
   "metadata": {},
   "outputs": [
    {
     "data": {
      "text/html": [
       "<dl class=dl-horizontal>\n",
       "\t<dt>Median</dt>\n",
       "\t\t<dd>2</dd>\n",
       "\t<dt>Upper_quartile.75%</dt>\n",
       "\t\t<dd>3</dd>\n",
       "</dl>\n"
      ],
      "text/latex": [
       "\\begin{description*}\n",
       "\\item[Median] 2\n",
       "\\item[Upper\\textbackslash{}\\_quartile.75\\textbackslash{}\\%] 3\n",
       "\\end{description*}\n"
      ],
      "text/markdown": [
       "Median\n",
       ":   2Upper_quartile.75%\n",
       ":   3\n",
       "\n"
      ],
      "text/plain": [
       "            Median Upper_quartile.75% \n",
       "                 2                  3 "
      ]
     },
     "metadata": {},
     "output_type": "display_data"
    }
   ],
   "source": [
    "resultBag"
   ]
  }
 ],
 "metadata": {
  "kernelspec": {
   "display_name": "R",
   "language": "R",
   "name": "ir"
  },
  "language_info": {
   "codemirror_mode": "r",
   "file_extension": ".r",
   "mimetype": "text/x-r-source",
   "name": "R",
   "pygments_lexer": "r",
   "version": "3.4.3"
  }
 },
 "nbformat": 4,
 "nbformat_minor": 2
}
