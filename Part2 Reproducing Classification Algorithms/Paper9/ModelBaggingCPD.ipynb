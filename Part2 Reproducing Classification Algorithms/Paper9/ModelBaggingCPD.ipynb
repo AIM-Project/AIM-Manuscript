{
 "cells": [
  {
   "cell_type": "markdown",
   "metadata": {},
   "source": [
    " **Bagging with CPD**"
   ]
  },
  {
   "cell_type": "code",
   "execution_count": 1,
   "metadata": {},
   "outputs": [],
   "source": [
    "suppressMessages(library(tree))\n",
    "load(\"../transformed data/golub3571.rda\")\n",
    "load(\"../transformed data/paper9.rda\")\n",
    "# Settings as specified in the paper\n",
    "p = 40 # number of genes for FLDA\n",
    "B = 50 # Aggregation predictors\n",
    "N = 200 # repeat classification N times\n",
    "d = c(0.05, 0.1,0.25, 0.5, 0.75, 1) # CPD parameter\n",
    "set.seed(2017)"
   ]
  },
  {
   "cell_type": "code",
   "execution_count": 2,
   "metadata": {},
   "outputs": [],
   "source": [
    "cbine_data = data.frame(response = factor(total3571_response), scale_golub_merge)\n",
    "d = 0.75\n",
    "# implement CPD\n",
    "CPD = function(d, x1, x2){\n",
    "    a = runif(nrow(x1), 0, d)\n",
    "    a*x1+(1-a)*x2\n",
    "}\n",
    "# helper function for each bagging with CPD\n",
    "my_cpdhelper = function(train, test){\n",
    "    id1 = sample(nrow(train), replace = T)\n",
    "    id2 = sample(nrow(train), replace = T)\n",
    "    temp = CPD(d, train[id1, -1], train[id2,-1])\n",
    "    temp_md = tree(response~., data = data.frame(temp, response = train$response[id1]))\n",
    "    predict(temp_md, test, type = \"class\")\n",
    "}\n",
    "#initialize the error vector\n",
    "cpd_error = numeric(N)\n",
    "# repeat N times\n",
    "for(i in 1:N){\n",
    "    cpd_index = mysplit(nrow(cbine_data))\n",
    "    cpd_train = cbine_data[-cpd_index,]\n",
    "    cpd_test = cbine_data[cpd_index,]\n",
    "    \n",
    "    # gene selection\n",
    "    temp_bw = order(BW(cpd_train[, -1], cpd_train$response), decreasing = T)[1:p]\n",
    "    cpd_train_t = data.frame(response = cpd_train$response, cpd_train[,temp_bw+1])\n",
    "    cpd_test_t= data.frame(response = cpd_test$response, cpd_test[,temp_bw+1])\n",
    "   \n",
    "    t1 = replicate(B, my_cpdhelper(cpd_train_t, cpd_test_t))\n",
    "    pred = apply(t1, 1, function(x) ifelse(sum(x == \"AML\")>sum(x ==\"ALL\"), \"AML\", \"ALL\"))\n",
    "    cpd_error[i] = sum(pred != cpd_test_t$response)\n",
    "}\n",
    "resultCPD = c(Median = median(cpd_error), Upper_quartile = quantile(cpd_error, 0.75))"
   ]
  },
  {
   "cell_type": "code",
   "execution_count": 3,
   "metadata": {},
   "outputs": [
    {
     "data": {
      "text/html": [
       "<dl class=dl-horizontal>\n",
       "\t<dt>Median</dt>\n",
       "\t\t<dd>2</dd>\n",
       "\t<dt>Upper_quartile.75%</dt>\n",
       "\t\t<dd>3</dd>\n",
       "</dl>\n"
      ],
      "text/latex": [
       "\\begin{description*}\n",
       "\\item[Median] 2\n",
       "\\item[Upper\\textbackslash{}\\_quartile.75\\textbackslash{}\\%] 3\n",
       "\\end{description*}\n"
      ],
      "text/markdown": [
       "Median\n",
       ":   2Upper_quartile.75%\n",
       ":   3\n",
       "\n"
      ],
      "text/plain": [
       "            Median Upper_quartile.75% \n",
       "                 2                  3 "
      ]
     },
     "metadata": {},
     "output_type": "display_data"
    }
   ],
   "source": [
    "resultCPD"
   ]
  }
 ],
 "metadata": {
  "kernelspec": {
   "display_name": "R",
   "language": "R",
   "name": "ir"
  },
  "language_info": {
   "codemirror_mode": "r",
   "file_extension": ".r",
   "mimetype": "text/x-r-source",
   "name": "R",
   "pygments_lexer": "r",
   "version": "3.4.3"
  }
 },
 "nbformat": 4,
 "nbformat_minor": 2
}
