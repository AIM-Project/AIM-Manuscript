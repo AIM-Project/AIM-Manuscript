{
 "cells": [
  {
   "cell_type": "markdown",
   "metadata": {},
   "source": [
    "## This includes the Classifier part"
   ]
  },
  {
   "cell_type": "code",
   "execution_count": 1,
   "metadata": {},
   "outputs": [
    {
     "ename": "ERROR",
     "evalue": "Error in source(\"PPFS.ipynb\"): PPFS.ipynb:2:11: unexpected '['\n1: {\n2:  \"cells\": [\n             ^\n",
     "output_type": "error",
     "traceback": [
      "Error in source(\"PPFS.ipynb\"): PPFS.ipynb:2:11: unexpected '['\n1: {\n2:  \"cells\": [\n             ^\nTraceback:\n",
      "1. source(\"PPFS.ipynb\")"
     ]
    }
   ],
   "source": [
    "source(\"PPFS.ipynb\")"
   ]
  },
  {
   "cell_type": "code",
   "execution_count": null,
   "metadata": {},
   "outputs": [],
   "source": [
    "# Paper 1\n",
    "## Helper function \n",
    "get_p = function(train_d, train_r){\n",
    "    tr_m_aml =  colMeans(train_d[train_r == \"AML\",])\n",
    "    tr_sd_aml = apply(train_d[train_r == \"AML\",], 2, sd)\n",
    "    tr_m_all = colMeans(train_d[train_r == \"ALL\",])\n",
    "    tr_sd_all = apply(train_d[train_r == \"ALL\",], 2, sd)\n",
    "    p = (tr_m_aml-tr_m_all)/(tr_sd_aml+tr_sd_all)\n",
    "    return(p)\n",
    "}\n",
    "classifier1 = function(train_p, train_r, test_p, test_r){\n",
    "    \"carry out classification as in Paper 1; \n",
    "     output is called Rates1 and is the value in row 1, column_i \n",
    "     call this function 6 times using every TransformedData_i as input in turn to get a 1x6 output for row 1\"\n",
    "    train_m_aml = colMeans(train_p[train_r == \"AML\",])\n",
    "    train_m_all = colMeans(train_p[train_r ==\"ALL\",])\n",
    "    b = (train_m_aml+train_m_all)/2\n",
    "    p = get_p(train_p, train_r)\n",
    "    #train\n",
    "    train_vote = t(p*t(sweep(train_p, 2, b)))\n",
    "    train_V1 = apply(train_vote, 1, function(x) sum(x[x>0]))\n",
    "    train_V2 = abs(apply(train_vote, 1, function(x) sum(x[x<=0])))\n",
    "    train_pred = (train_V1-train_V2)/(train_V1+train_V2)\n",
    "    train_pred_r = ifelse(abs(train_pred)>0.3, ifelse(train_pred>0, \"AML\", \"ALL\"), \"Uncertain\")\n",
    "    train_table = table(Train_Predict = train_pred_r, Train_Actual = train_r)\n",
    "    ##train_table\n",
    "    #test\n",
    "    test_vote = t(p*t(sweep(test_p, 2, b)))\n",
    "    test_V1 = apply(test_vote, 1, function(x) sum(x[x>0]))\n",
    "    test_V2 = abs(apply(test_vote, 1, function(x) sum(x[x<=0])))\n",
    "    test_pred = (test_V1-test_V2)/(test_V1+test_V2)\n",
    "    test_pred_r = ifelse(abs(test_pred)>0.3, ifelse(test_pred>0, \"AML\", \"ALL\"), \"Uncertain\")\n",
    "    test_table = table(Test_Predict = test_pred_r, Test_Actual = test_r)\n",
    "    ##test accuracy rate\n",
    "    Rates1 = mean(test_pred_r == test_r)\n",
    "    return(Rates1)\n",
    "}\n",
    "\n"
   ]
  }
 ],
 "metadata": {
  "kernelspec": {
   "display_name": "R",
   "language": "R",
   "name": "ir"
  },
  "language_info": {
   "codemirror_mode": "r",
   "file_extension": ".r",
   "mimetype": "text/x-r-source",
   "name": "R",
   "pygments_lexer": "r",
   "version": "3.4.3"
  }
 },
 "nbformat": 4,
 "nbformat_minor": 2
}
