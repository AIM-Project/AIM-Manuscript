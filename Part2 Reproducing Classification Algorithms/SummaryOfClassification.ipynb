{
 "cells": [
  {
   "cell_type": "markdown",
   "metadata": {
    "collapsed": true
   },
   "source": [
    "### Test Accuracy Rate Summary"
   ]
  },
  {
   "cell_type": "markdown",
   "metadata": {},
   "source": [
    "||Paper1 Selection|Paper3 Selection|Paper6 PCA Selection|Paper6 PLS Selection|Paper9 Selection|Paper29 Selection|\n",
    "|---|---|------|------|------|-------|------|\n",
    "|Paper1 classifiier|0.912|0.941|0.971|0.971|0.958|0.706|\n",
    "|Paper 3 NN|0.971|0.941|0.912|0.941|1|0.912|\n",
    "|Paper 3 SVM Linear|0.971|0.971|0.941|0.971|1|0.765|\n",
    "|Paper 3 SVM Quadratic|0.971|0.882|0.971|0.971|1|0.912|\n",
    "|Paper 3 Adaboost|0.912|0.912|0.971|0.971|0.958|0.941|\n",
    "|Paper 6 pca logit|0.971|0.971|0.971||1|0.853|\n",
    "|Paper 6 pca qda|0.941|0.912|0.941||1|0.853|\n",
    "|Paper 6 pls logit|0.971|0.882||0.971|1|0.853|\n",
    "|Paper 6 pls qda|0.971|0.882||0.971|1|0.853|\n",
    "|Paper 9 nn |0.971|0.912|0.853|0.971|0.958|0.971|\n",
    "|Paper 9 decision tree|0.912|0.912|0.971|0.971|0.917|0.735|\n",
    "|Paper 9 bagging|0.971|0.912|0.971|0.971|0.958|0.735|\n",
    "|Paper 9 bagging with CPD|0.941|0.912|0.971|0.971|0.917|0.794|\n",
    "|Paper 9 FLDA|0.912|0.912|0.971|0.971|0.958|0.794|\n",
    "|Paper 9 DLDA|0.941|0.912|0.971|0.971|0.958|0.765|\n",
    "|Paper 9 DQDA|0.912|0.912|0.971|0.971|0.958|0.735|\n",
    "|Paper 29 Bayesian Network|0.735|0.882|0.971|0.971|1|0.647|"
   ]
  },
  {
   "cell_type": "markdown",
   "metadata": {},
   "source": [
    "* Test data in paper 9 only has 24 samples.\n",
    "* Paper6 pca/pls data only have 3 components.\n",
    "* paper 1, paper 6 and paper 9 variable selection perform overall better than others.\n",
    "* Bayesian network performs badly compared to other classifiers.\n",
    "* paper 29 variable selection is bad."
   ]
  }
 ],
 "metadata": {
  "kernelspec": {
   "display_name": "R",
   "language": "R",
   "name": "ir"
  },
  "language_info": {
   "codemirror_mode": "r",
   "file_extension": ".r",
   "mimetype": "text/x-r-source",
   "name": "R",
   "pygments_lexer": "r",
   "version": "3.3.2"
  }
 },
 "nbformat": 4,
 "nbformat_minor": 0
}
