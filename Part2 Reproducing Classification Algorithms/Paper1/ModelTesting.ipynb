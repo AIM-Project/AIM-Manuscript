{
 "cells": [
  {
   "cell_type": "markdown",
   "metadata": {},
   "source": [
    "## Test"
   ]
  },
  {
   "cell_type": "code",
   "execution_count": 1,
   "metadata": {
    "collapsed": true
   },
   "outputs": [],
   "source": [
    "# load the result of feature selection\n",
    "load(\"../transformed data/golub50gene.rda\")"
   ]
  },
  {
   "cell_type": "code",
   "execution_count": 3,
   "metadata": {},
   "outputs": [
    {
     "ename": "ERROR",
     "evalue": "Error in table(Test_Predict = test_pred_r, Test_Actual = golub_test_r): object 'golub_test_r' not found\n",
     "output_type": "error",
     "traceback": [
      "Error in table(Test_Predict = test_pred_r, Test_Actual = golub_test_r): object 'golub_test_r' not found\nTraceback:\n",
      "1. table(Test_Predict = test_pred_r, Test_Actual = golub_test_r)"
     ]
    }
   ],
   "source": [
    "test_vote = t(p_50*t(sweep(golub_test_50, 2, b)))\n",
    "test_V1 = apply(test_vote, 1, function(x) sum(x[x>0]))\n",
    "test_V2 = abs(apply(test_vote, 1, function(x) sum(x[x<=0])))\n",
    "test_pred = (test_V1-test_V2)/(test_V1+test_V2)\n",
    "test_pred_r = ifelse(abs(test_pred)>0.3, ifelse(test_pred>0, \"AML\", \"ALL\"), \"Uncertain\")\n",
    "test_table = table(Test_Predict = test_pred_r, Test_Actual = golub_test_r)\n",
    "test_table"
   ]
  },
  {
   "cell_type": "code",
   "execution_count": null,
   "metadata": {
    "collapsed": true
   },
   "outputs": [],
   "source": []
  }
 ],
 "metadata": {
  "kernelspec": {
   "display_name": "R",
   "language": "R",
   "name": "ir"
  },
  "language_info": {
   "codemirror_mode": "r",
   "file_extension": ".r",
   "mimetype": "text/x-r-source",
   "name": "R",
   "pygments_lexer": "r",
   "version": "3.4.2"
  }
 },
 "nbformat": 4,
 "nbformat_minor": 2
}
