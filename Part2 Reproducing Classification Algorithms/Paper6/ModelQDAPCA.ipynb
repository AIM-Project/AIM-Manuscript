{
 "cells": [
  {
   "cell_type": "markdown",
   "metadata": {},
   "source": [
    "### QDA"
   ]
  },
  {
   "cell_type": "code",
   "execution_count": 1,
   "metadata": {
    "collapsed": true
   },
   "outputs": [],
   "source": [
    "load(\"PCA.rda\")\n",
    "load(\"DP.rda\")\n",
    "suppressMessages(library(caret))\n",
    "set.seed(201703)"
   ]
  },
  {
   "cell_type": "code",
   "execution_count": 2,
   "metadata": {
    "collapsed": true
   },
   "outputs": [],
   "source": [
    "options(warn=-1)\n",
    "# QDA\n",
    "pca_qda_s = train(response~., data = pca_train, method = \"qda\", trControl = trainControl(method = \"LOOCV\"))\n",
    "pca_qda_te = predict(pca_qda_s, data.frame(pca_test_s))\n",
    "pca_qda_ac = mean(pca_qda_te == golub_test_r)\n",
    "pca_qda_re = c(LOOCV = pca_qda_s$results$Accuracy, Test = pca_qda_ac)"
   ]
  },
  {
   "cell_type": "code",
   "execution_count": 3,
   "metadata": {},
   "outputs": [
    {
     "data": {
      "text/html": [
       "<dl class=dl-horizontal>\n",
       "\t<dt>LOOCV</dt>\n",
       "\t\t<dd>1</dd>\n",
       "\t<dt>Test</dt>\n",
       "\t\t<dd>0.941176470588235</dd>\n",
       "</dl>\n"
      ],
      "text/latex": [
       "\\begin{description*}\n",
       "\\item[LOOCV] 1\n",
       "\\item[Test] 0.941176470588235\n",
       "\\end{description*}\n"
      ],
      "text/markdown": [
       "LOOCV\n",
       ":   1Test\n",
       ":   0.941176470588235\n",
       "\n"
      ],
      "text/plain": [
       "    LOOCV      Test \n",
       "1.0000000 0.9411765 "
      ]
     },
     "metadata": {},
     "output_type": "display_data"
    }
   ],
   "source": [
    "pca_qda_re"
   ]
  }
 ],
 "metadata": {
  "kernelspec": {
   "display_name": "R",
   "language": "R",
   "name": "ir"
  },
  "language_info": {
   "codemirror_mode": "r",
   "file_extension": ".r",
   "mimetype": "text/x-r-source",
   "name": "R",
   "pygments_lexer": "r",
   "version": "3.4.2"
  }
 },
 "nbformat": 4,
 "nbformat_minor": 2
}
