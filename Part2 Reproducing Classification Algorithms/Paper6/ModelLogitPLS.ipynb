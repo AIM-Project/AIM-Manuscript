{
 "cells": [
  {
   "cell_type": "markdown",
   "metadata": {},
   "source": [
    "### Logistic discrimination"
   ]
  },
  {
   "cell_type": "code",
   "execution_count": 1,
   "metadata": {
    "collapsed": true
   },
   "outputs": [],
   "source": [
    "load(\"PLS.rda\")\n",
    "load(\"DP.rda\")\n",
    "suppressMessages(library(caret))\n",
    "set.seed(201703)"
   ]
  },
  {
   "cell_type": "code",
   "execution_count": 2,
   "metadata": {
    "collapsed": true
   },
   "outputs": [],
   "source": [
    "options(warn=-1)\n",
    "# Logistic Discrimination\n",
    "pls_ld_s = train(response~., data = pls_train, method = \"glm\", family = \"binomial\", trControl = trainControl(method = \"LOOCV\"))\n",
    "pls_ld_te = predict(pls_ld_s, data.frame(pls_test_s))\n",
    "pls_ld_ac = mean(pls_ld_te == golub_test_r)\n",
    "pls_ld_re = c(LOOCV = pls_ld_s$results$Accuracy, Test = pls_ld_ac)"
   ]
  },
  {
   "cell_type": "code",
   "execution_count": 3,
   "metadata": {},
   "outputs": [
    {
     "data": {
      "text/html": [
       "<dl class=dl-horizontal>\n",
       "\t<dt>LOOCV</dt>\n",
       "\t\t<dd>1</dd>\n",
       "\t<dt>Test</dt>\n",
       "\t\t<dd>0.970588235294118</dd>\n",
       "</dl>\n"
      ],
      "text/latex": [
       "\\begin{description*}\n",
       "\\item[LOOCV] 1\n",
       "\\item[Test] 0.970588235294118\n",
       "\\end{description*}\n"
      ],
      "text/markdown": [
       "LOOCV\n",
       ":   1Test\n",
       ":   0.970588235294118\n",
       "\n"
      ],
      "text/plain": [
       "    LOOCV      Test \n",
       "1.0000000 0.9705882 "
      ]
     },
     "metadata": {},
     "output_type": "display_data"
    }
   ],
   "source": [
    "pls_ld_re"
   ]
  }
 ],
 "metadata": {
  "kernelspec": {
   "display_name": "R",
   "language": "R",
   "name": "ir"
  },
  "language_info": {
   "codemirror_mode": "r",
   "file_extension": ".r",
   "mimetype": "text/x-r-source",
   "name": "R",
   "pygments_lexer": "r",
   "version": "3.4.2"
  }
 },
 "nbformat": 4,
 "nbformat_minor": 2
}
