{
 "cells": [
  {
   "cell_type": "markdown",
   "metadata": {},
   "source": [
    "### Load and transform dataset. \n",
    "Install Bioconductor biocLite package in order to access the golubEsets library. [golubEsets](https://bioconductor.org/packages/release/data/experiment/manuals/golubEsets/man/golubEsets.pdf) contains the raw data used by Todd Golub in the original paper.\n",
    "\n",
    "We use the scale method in the original paper instead of the thresholding algorithm in this paper for now."
   ]
  },
  {
   "cell_type": "code",
   "execution_count": 1,
   "metadata": {},
   "outputs": [],
   "source": [
    "## Most code is commented in this cell since it is unnecessary and time-consuming to run it everytime.\n",
    "# options(repos='http://cran.rstudio.com/') \n",
    "# source(\"http://bioconductor.org/biocLite.R\")\n",
    "# biocLite(\"golubEsets\")\n",
    "suppressMessages(library(golubEsets))\n",
    "#Training data predictor and response\n",
    "\n",
    "data(Golub_Train)\n",
    "golub_train_p = t(exprs(Golub_Train))\n",
    "golub_train_r =pData(Golub_Train)[, \"ALL.AML\"]\n",
    "#Testing data predictor\n",
    "data(Golub_Test)\n",
    "golub_test_p = t(exprs(Golub_Test))\n",
    "golub_test_r = pData(Golub_Test)[, \"ALL.AML\"]\n",
    "\n",
    "# Thresholding\n",
    "golub_train_pp = golub_train_p\n",
    "golub_train_pp[golub_train_pp<100] = 100\n",
    "golub_train_pp[golub_train_pp>16000] = 16000\n",
    "\n",
    "# Filtering\n",
    "golub_filter = function(x, r = 5, d=500){\n",
    "    minval = min(x)\n",
    "    maxval = max(x)\n",
    "    (maxval/minval>r)&&(maxval-minval>d)\n",
    "}\n",
    "index = apply(golub_train_pp, 2, golub_filter)\n",
    "golub_index = (1:7129)[index]\n",
    "golub_train_pp = golub_train_pp[, golub_index]\n",
    "\n",
    "golub_test_pp = golub_test_p\n",
    "golub_test_pp[golub_test_pp<100] = 100\n",
    "golub_test_pp[golub_test_pp>16000] = 16000\n",
    "golub_test_pp = golub_test_pp[, golub_index]\n",
    "\n",
    "# Log Transformation\n",
    "golub_train_p_trans = log10(golub_train_pp)\n",
    "golub_test_p_trans = log10(golub_test_pp)\n",
    "\n",
    "# Normalization\n",
    "train_m = colMeans(golub_train_p_trans)\n",
    "train_sd = apply(golub_train_p_trans, 2, sd)\n",
    "golub_train_p_trans = t((t(golub_train_p_trans)-train_m)/train_sd)\n",
    "golub_test_p_trans  = t((t(golub_test_p_trans)-train_m)/train_sd)\n",
    "save(golub_train_p_trans, golub_test_p_trans, golub_train_r, golub_test_r, golub_train_pp, golub_test_pp,file = \"DP.rda\")"
   ]
  }
 ],
 "metadata": {
  "kernelspec": {
   "display_name": "R",
   "language": "R",
   "name": "ir"
  },
  "language_info": {
   "codemirror_mode": "r",
   "file_extension": ".r",
   "mimetype": "text/x-r-source",
   "name": "R",
   "pygments_lexer": "r",
   "version": "3.4.2"
  }
 },
 "nbformat": 4,
 "nbformat_minor": 2
}
