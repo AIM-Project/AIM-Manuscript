{
 "cells": [
  {
   "cell_type": "markdown",
   "metadata": {},
   "source": [
    "## Classification on paper3 feature selection\n",
    "\n",
    "Summary of paper3 feature selection(for each LOOCV trail):\n",
    "- Data:\n",
    "    - Merge: 72*7129 (27ALL/11AML)\n",
    "- Preprocessing:\n",
    "    - Unknown preprocessing and we use Golub preprocessing instead.\n",
    "- Feature Selection:\n",
    "    - TNoM score\n",
    "    - Significance: Monte Carlo permutation test\n",
    "    \n",
    " <img src=\"paper3.png\">"
   ]
  },
  {
   "cell_type": "code",
   "execution_count": 1,
   "metadata": {
    "collapsed": false
   },
   "outputs": [],
   "source": [
    "# if you don't have any of the packages below, you need to install them first\n",
    "## e.g.\n",
    "## options(repos='http://cran.rstudio.com/')\n",
    "## install.packages(\"ada\")\n",
    "suppressMessages(library(e1071))\n",
    "suppressMessages(library(fastAdaboost))\n",
    "suppressMessages(library(caret))\n",
    "suppressMessages(library(sparsediscrim))\n",
    "suppressMessages(library(tree))\n",
    "suppressMessages(library(fastAdaboost))\n",
    "suppressMessages(library(bnlearn))\n",
    "library(ropls)\n",
    "library(MASS)\n",
    "set.seed(201703)"
   ]
  },
  {
   "cell_type": "markdown",
   "metadata": {},
   "source": [
    "##### Data"
   ]
  },
  {
   "cell_type": "code",
   "execution_count": 2,
   "metadata": {
    "collapsed": false
   },
   "outputs": [],
   "source": [
    "# train_paper3, train_response, test_paper3, test_response\n",
    "load(\"paper3.rda\")"
   ]
  },
  {
   "cell_type": "markdown",
   "metadata": {},
   "source": [
    "##### Paper1 classifiier"
   ]
  },
  {
   "cell_type": "code",
   "execution_count": 3,
   "metadata": {
    "collapsed": true
   },
   "outputs": [],
   "source": [
    "get_p = function(train_d, train_r){\n",
    "    tr_m_aml =  colMeans(train_d[train_r == \"AML\",])\n",
    "    tr_sd_aml = apply(train_d[train_r == \"AML\",], 2, sd)\n",
    "    tr_m_all = colMeans(train_d[train_r == \"ALL\",])\n",
    "    tr_sd_all = apply(train_d[train_r == \"ALL\",], 2, sd)\n",
    "    p = (tr_m_aml-tr_m_all)/(tr_sd_aml+tr_sd_all)\n",
    "    return(p)\n",
    "}\n",
    "classifier1 = function(train_p, train_r, test_p, test_r){\n",
    "    train_m_aml = colMeans(train_p[train_r == \"AML\",])\n",
    "    train_m_all = colMeans(train_p[train_r ==\"ALL\",])\n",
    "    b = (train_m_aml+train_m_all)/2\n",
    "    p = get_p(train_p, train_r)\n",
    "    #train\n",
    "    train_vote = t(p*t(sweep(train_p, 2, b)))\n",
    "    train_V1 = apply(train_vote, 1, function(x) sum(x[x>0]))\n",
    "    train_V2 = abs(apply(train_vote, 1, function(x) sum(x[x<=0])))\n",
    "    train_pred = (train_V1-train_V2)/(train_V1+train_V2)\n",
    "    train_pred_r = ifelse(abs(train_pred)>0.3, ifelse(train_pred>0, \"AML\", \"ALL\"), \"Uncertain\")\n",
    "    train_table = table(Train_Predict = train_pred_r, Train_Actual = train_r)\n",
    "    ##train_table\n",
    "    #test\n",
    "    test_vote = t(p*t(sweep(test_p, 2, b)))\n",
    "    test_V1 = apply(test_vote, 1, function(x) sum(x[x>0]))\n",
    "    test_V2 = abs(apply(test_vote, 1, function(x) sum(x[x<=0])))\n",
    "    test_pred = (test_V1-test_V2)/(test_V1+test_V2)\n",
    "    test_pred_r = ifelse(abs(test_pred)>0.3, ifelse(test_pred>0, \"AML\", \"ALL\"), \"Uncertain\")\n",
    "    test_table = table(Test_Predict = test_pred_r, Test_Actual = test_r)\n",
    "    ##test_table\n",
    "    return(list(train = train_table, test = test_table))\n",
    "}"
   ]
  },
  {
   "cell_type": "code",
   "execution_count": 4,
   "metadata": {
    "collapsed": false
   },
   "outputs": [
    {
     "data": {
      "text/plain": [
       "             Train_Actual\n",
       "Train_Predict ALL AML\n",
       "    ALL        27   0\n",
       "    AML         0   9\n",
       "    Uncertain   0   2"
      ]
     },
     "metadata": {},
     "output_type": "display_data"
    },
    {
     "data": {
      "text/plain": [
       "            Test_Actual\n",
       "Test_Predict ALL AML\n",
       "   ALL        20   1\n",
       "   AML         0  12\n",
       "   Uncertain   0   1"
      ]
     },
     "metadata": {},
     "output_type": "display_data"
    }
   ],
   "source": [
    "paper1 = classifier1(train_paper3, train_response, test_paper3, test_response)\n",
    "paper1$train\n",
    "paper1$test"
   ]
  },
  {
   "cell_type": "markdown",
   "metadata": {},
   "source": [
    "##### Paper 3 classifier\n",
    "\n",
    "- NN"
   ]
  },
  {
   "cell_type": "code",
   "execution_count": 5,
   "metadata": {
    "collapsed": false
   },
   "outputs": [
    {
     "data": {
      "text/plain": [
       "             Train_Actual\n",
       "Train_Predict ALL AML\n",
       "          ALL  27   0\n",
       "          AML   0  11"
      ]
     },
     "metadata": {},
     "output_type": "display_data"
    },
    {
     "data": {
      "text/plain": [
       "            Test_Actual\n",
       "Test_Predict ALL AML\n",
       "         ALL  18   0\n",
       "         AML   2  14"
      ]
     },
     "metadata": {},
     "output_type": "display_data"
    }
   ],
   "source": [
    "# helper function\n",
    "cl_nn_helper = function(new_s, train, train_label){\n",
    "    # use Pearson correlation\n",
    "    corr = apply(train, 1, cor, new_s)\n",
    "    train_label[corr==max(corr)]\n",
    "}\n",
    "\n",
    "classifier3nn = function(train_p, train_r, test_p, test_r){\n",
    "    nn_train_pr_p1 = apply(train_p,1, cl_nn_helper, train_p, train_r)\n",
    "    nn_test_pr_p1 = apply(test_p,1, cl_nn_helper, train_p, train_r)\n",
    "    train_table = table(Train_Predict = nn_train_pr_p1, Train_Actual =train_r)\n",
    "    test_table = table(Test_Predict = nn_test_pr_p1, Test_Actual = test_r)\n",
    "    return(list(train = train_table, test = test_table))\n",
    "}\n",
    "paper3nn = classifier3nn(train_paper3, train_response, test_paper3, test_response)\n",
    "paper3nn$train\n",
    "paper3nn$test"
   ]
  },
  {
   "cell_type": "markdown",
   "metadata": {},
   "source": [
    "- SVM"
   ]
  },
  {
   "cell_type": "code",
   "execution_count": 6,
   "metadata": {
    "collapsed": false
   },
   "outputs": [
    {
     "data": {
      "text/plain": [
       "               Train_Actual\n",
       "Train_Predicted ALL AML\n",
       "            ALL  27   0\n",
       "            AML   0  11"
      ]
     },
     "metadata": {},
     "output_type": "display_data"
    },
    {
     "data": {
      "text/plain": [
       "              Test_Actual\n",
       "Test_Predicted ALL AML\n",
       "           ALL  20   1\n",
       "           AML   0  13"
      ]
     },
     "metadata": {},
     "output_type": "display_data"
    }
   ],
   "source": [
    "# linear SVM\n",
    "classifier3lsvm = function(train_p, train_r, test_p, test_r){\n",
    "    r_train = data.frame(train_p, Y = factor(train_r))\n",
    "    r_test =data.frame( test_p, Y = factor(test_r))\n",
    "    svm_linear = svm(Y~., data = r_train)\n",
    "    svm_l_trpr = predict(svm_linear, r_train)\n",
    "    svm_l_tepr = predict(svm_linear, newdata = r_test)\n",
    "    train_table = table(Train_Predicted  = svm_l_trpr, Train_Actual = train_r)\n",
    "    test_table = table(Test_Predicted = svm_l_tepr, Test_Actual = test_r)\n",
    "    return(list(train = train_table, test = test_table))\n",
    "}\n",
    "paper3lsvm = classifier3lsvm(train_paper3, train_response, test_paper3, test_response)\n",
    "paper3lsvm$train\n",
    "paper3lsvm$test"
   ]
  },
  {
   "cell_type": "code",
   "execution_count": 7,
   "metadata": {
    "collapsed": false
   },
   "outputs": [
    {
     "data": {
      "text/plain": [
       "               Train_Actual\n",
       "Train_Predicted ALL AML\n",
       "            ALL  27   0\n",
       "            AML   0  11"
      ]
     },
     "metadata": {},
     "output_type": "display_data"
    },
    {
     "data": {
      "text/plain": [
       "              Test_Actual\n",
       "Test_Predicted ALL AML\n",
       "           ALL  20   4\n",
       "           AML   0  10"
      ]
     },
     "metadata": {},
     "output_type": "display_data"
    }
   ],
   "source": [
    "classifier3qsvm = function(train_p, train_r, test_p, test_r){\n",
    "    r_train = data.frame(train_p, Y = factor(train_r))\n",
    "    r_test =data.frame( test_p, Y = factor(test_r))\n",
    "    svm_quad = svm(Y~., data = r_train, kernel = \"polynomial\", degree = 2,  gamma =0.01, coef0 = 100)\n",
    "    svm_q_trpr = predict(svm_quad, r_train )\n",
    "    svm_q_tepr = predict(svm_quad, newdata = r_test)\n",
    "    train_table = table(Train_Predicted  = svm_q_trpr, Train_Actual = train_r)\n",
    "    test_table = table(Test_Predicted = svm_q_tepr, Test_Actual = test_r)\n",
    "    return(list(train = train_table, test = test_table))\n",
    "}\n",
    "paper3qsvm = classifier3qsvm(train_paper3, train_response, test_paper3, test_response)\n",
    "paper3qsvm$train\n",
    "paper3qsvm$test"
   ]
  },
  {
   "cell_type": "markdown",
   "metadata": {},
   "source": [
    "- Adaboost"
   ]
  },
  {
   "cell_type": "code",
   "execution_count": 8,
   "metadata": {
    "collapsed": false
   },
   "outputs": [
    {
     "data": {
      "text/plain": [
       "             Train_Actual\n",
       "Train_Predict ALL AML\n",
       "          ALL  27   0\n",
       "          AML   0  11"
      ]
     },
     "metadata": {},
     "output_type": "display_data"
    },
    {
     "data": {
      "text/plain": [
       "            Test_Actual\n",
       "Test_Predict ALL AML\n",
       "         ALL  18   1\n",
       "         AML   2  13"
      ]
     },
     "metadata": {},
     "output_type": "display_data"
    }
   ],
   "source": [
    "classifier3Ada = function(train_p, train_r, test_p, test_r){\n",
    "    r_train_p1 = data.frame(train_p, Y = factor(train_r))\n",
    "    r_test_p1 =data.frame( test_p, Y = factor(test_r))\n",
    "    ada_cl_p1 = adaboost(Y~., data = r_train_p1, 100)\n",
    "    ada_train_pr_p1 = predict(ada_cl_p1, r_train_p1)\n",
    "    ada_test_pr_p1 = predict(ada_cl_p1, newdata = r_test_p1)\n",
    "    train_table = table(Train_Predict = ada_train_pr_p1$class, Train_Actual = train_r)\n",
    "    test_table = table(Test_Predict = ada_test_pr_p1$class, Test_Actual =test_r)\n",
    "    return(list(train = train_table, test = test_table))\n",
    "}\n",
    "paper3Ada = classifier3Ada(train_paper3, train_response, test_paper3, test_response)\n",
    "paper3Ada$train\n",
    "paper3Ada$test"
   ]
  },
  {
   "cell_type": "markdown",
   "metadata": {},
   "source": [
    "##### Paper 6 classifier"
   ]
  },
  {
   "cell_type": "code",
   "execution_count": 9,
   "metadata": {
    "collapsed": true
   },
   "outputs": [],
   "source": [
    "pca_helper = function(train_p, train_r, test_p, test_r, K=3){\n",
    "    pca_slt = getLoadingMN(opls(train_p, printL = F, predI = K))\n",
    "    pca_train_s = t(t(pca_slt)%*%t(train_p))\n",
    "    pca_test_s = t(t(pca_slt)%*%t(test_p))\n",
    "    return(list(pca_train = pca_train_s, pca_test = pca_test_s))\n",
    "}\n",
    "pls_helper = function(train_p, train_r, test_p, test_r, K=3){\n",
    "    pls_slt = getLoadingMN(opls(train_p, train_r, printL = F, predI = K))\n",
    "    pls_train_s = t(t(pls_slt)%*%t(train_p))\n",
    "    pls_test_s = t(t(pls_slt)%*%t(test_p))\n",
    "    return(list(pls_train = pls_train_s, pls_test = pls_test_s))\n",
    "}\n",
    "\n",
    "classifier6logit = function(train_p, train_r, test_p, test_r, dr = \"pca\"){\n",
    "    if(dr == \"pca\"){\n",
    "        pca_result = pca_helper(train_p, train_r, test_p, test_r)\n",
    "        train_data = data.frame(response = train_r, pca_result$pca_train)\n",
    "        test_data = pca_result$pca_test\n",
    "    }else{\n",
    "        pls_result = pls_helper(train_p, train_r, test_p, test_r)\n",
    "        train_data = data.frame(response = train_r, pls_result$pls_train)\n",
    "        test_data = pls_result$pls_test\n",
    "    }   \n",
    "    ld_s = train(response~., data = train_data, method = \"glm\", family = \"binomial\", trControl = trainControl(method = \"LOOCV\"))\n",
    "    ld_tr = predict(ld_s)\n",
    "    ld_te = predict(ld_s, data.frame(test_data))\n",
    "    ld_ac = mean(ld_te == test_r)\n",
    "    ld_re = c(LOOCV = ld_s$results$Accuracy, Test = ld_ac)\n",
    "    train_table = table(Train_Predict = ld_tr, Train_Actual = train_r)\n",
    "    test_table = table(Test_Predict = ld_te, Test_Actual =test_r)\n",
    "    return(list(train = train_table, test = test_table, re = ld_re))\n",
    "}\n",
    "classifier6qda = function(train_p, train_r, test_p, test_r, dr= \"pca\"){\n",
    "    if(dr == \"pca\"){\n",
    "        pca_result = pca_helper(train_p, train_r, test_p, test_r)\n",
    "        train_data = data.frame(response = train_r, pca_result$pca_train)\n",
    "        test_data = pca_result$pca_test\n",
    "    }else{\n",
    "        pls_result = pls_helper(train_p, train_r, test_p, test_r)\n",
    "        train_data = data.frame(response = train_r, pls_result$pls_train)\n",
    "        test_data = pls_result$pls_test\n",
    "    }   \n",
    "    qda_s = train(response~., data = train_data, method = \"qda\",  trControl = trainControl(method = \"LOOCV\"))\n",
    "    qda_tr = predict(qda_s)\n",
    "    qda_te = predict(qda_s, data.frame(test_data))\n",
    "    qda_ac = mean(qda_te == test_r)\n",
    "    qda_re = c(LOOCV = qda_s$results$Accuracy, Test = qda_ac)\n",
    "    train_table = table(Train_Predict = qda_tr, Train_Actual = train_r)\n",
    "    test_table = table(Test_Predict = qda_te, Test_Actual =test_r)\n",
    "    return(list(train = train_table, test = test_table, re = qda_re))\n",
    "}"
   ]
  },
  {
   "cell_type": "code",
   "execution_count": 10,
   "metadata": {
    "collapsed": false
   },
   "outputs": [
    {
     "name": "stdout",
     "output_type": "stream",
     "text": [
      "[1] \"pca, logit\"\n"
     ]
    },
    {
     "data": {
      "text/plain": [
       "             Train_Actual\n",
       "Train_Predict ALL AML\n",
       "          ALL  27   0\n",
       "          AML   0  11"
      ]
     },
     "metadata": {},
     "output_type": "display_data"
    },
    {
     "data": {
      "text/plain": [
       "            Test_Actual\n",
       "Test_Predict ALL AML\n",
       "         ALL  20   1\n",
       "         AML   0  13"
      ]
     },
     "metadata": {},
     "output_type": "display_data"
    },
    {
     "name": "stdout",
     "output_type": "stream",
     "text": [
      "[1] \"pca, qda\"\n"
     ]
    },
    {
     "data": {
      "text/plain": [
       "             Train_Actual\n",
       "Train_Predict ALL AML\n",
       "          ALL  27   0\n",
       "          AML   0  11"
      ]
     },
     "metadata": {},
     "output_type": "display_data"
    },
    {
     "data": {
      "text/plain": [
       "            Test_Actual\n",
       "Test_Predict ALL AML\n",
       "         ALL  18   1\n",
       "         AML   2  13"
      ]
     },
     "metadata": {},
     "output_type": "display_data"
    },
    {
     "name": "stdout",
     "output_type": "stream",
     "text": [
      "[1] \"pls, logit\"\n"
     ]
    },
    {
     "data": {
      "text/plain": [
       "             Train_Actual\n",
       "Train_Predict ALL AML\n",
       "          ALL  27   0\n",
       "          AML   0  11"
      ]
     },
     "metadata": {},
     "output_type": "display_data"
    },
    {
     "data": {
      "text/plain": [
       "            Test_Actual\n",
       "Test_Predict ALL AML\n",
       "         ALL  18   2\n",
       "         AML   2  12"
      ]
     },
     "metadata": {},
     "output_type": "display_data"
    },
    {
     "name": "stdout",
     "output_type": "stream",
     "text": [
      "[1] \"pls, qda\"\n"
     ]
    },
    {
     "data": {
      "text/plain": [
       "             Train_Actual\n",
       "Train_Predict ALL AML\n",
       "          ALL  27   0\n",
       "          AML   0  11"
      ]
     },
     "metadata": {},
     "output_type": "display_data"
    },
    {
     "data": {
      "text/plain": [
       "            Test_Actual\n",
       "Test_Predict ALL AML\n",
       "         ALL  17   1\n",
       "         AML   3  13"
      ]
     },
     "metadata": {},
     "output_type": "display_data"
    }
   ],
   "source": [
    "options(warn=-1)\n",
    "pca_logit = classifier6logit(train_paper3, train_response, test_paper3, test_response)\n",
    "print(\"pca, logit\")\n",
    "pca_logit$train\n",
    "pca_logit$test\n",
    "pca_qda = classifier6qda(train_paper3, train_response, test_paper3, test_response)\n",
    "print(\"pca, qda\")\n",
    "pca_qda$train\n",
    "pca_qda$test\n",
    "pls_logit = classifier6logit(train_paper3, train_response, test_paper3, test_response, \"pls\")\n",
    "print(\"pls, logit\")\n",
    "pls_logit$train\n",
    "pls_logit$test\n",
    "pls_qda = classifier6qda(train_paper3, train_response, test_paper3, test_response, \"pls\")\n",
    "print(\"pls, qda\")\n",
    "pls_qda$train\n",
    "pls_qda$test"
   ]
  },
  {
   "cell_type": "markdown",
   "metadata": {},
   "source": [
    "##### Paper 9 classifier"
   ]
  },
  {
   "cell_type": "markdown",
   "metadata": {},
   "source": [
    "- NN"
   ]
  },
  {
   "cell_type": "code",
   "execution_count": 11,
   "metadata": {
    "collapsed": false
   },
   "outputs": [
    {
     "data": {
      "text/plain": [
       "             Train_Actual\n",
       "Train_Predict ALL AML\n",
       "          ALL  27   2\n",
       "          AML   0   9"
      ]
     },
     "metadata": {},
     "output_type": "display_data"
    },
    {
     "data": {
      "text/plain": [
       "            Test_Actual\n",
       "Test_Predict ALL AML\n",
       "         ALL  20   3\n",
       "         AML   0  11"
      ]
     },
     "metadata": {},
     "output_type": "display_data"
    }
   ],
   "source": [
    "# Distance measure used in the paper\n",
    "Distance = function(predictor, test){\n",
    "    1- apply(predictor, 1, cor, test)\n",
    "}\n",
    "# NN classification process\n",
    "paper9_nn = function(test, pk, learning, response){\n",
    "     distance = Distance(learning, test)\n",
    "     index = order(distance)[1:pk]\n",
    "     cl = ifelse(sum(response[index] == \"AML\")>sum(response[index]==\"ALL\"), \"AML\", \"ALL\")\n",
    "     cl\n",
    "}\n",
    "# leave-one-cross-validation to tune k\n",
    "mycv= function(pk,learning,response){\n",
    "    error = 0\n",
    "    for(i in 1:nrow(learning)){\n",
    "        cl = paper9_nn(learning[i,], pk, learning[-i, ], response[-i])\n",
    "        error = error+(cl == response[i])\n",
    "    }\n",
    "    error\n",
    "}\n",
    "classifier9nn = function(train_p, train_r, test_p, test_r){\n",
    "    k = seq(1, 21, 2)\n",
    "    choose_k = sapply(k,mycv, learning = train_p, response= train_r)\n",
    "    nn_train = apply(train_p, 1, paper9_nn, k[which.min(choose_k)], train_p, train_r)\n",
    "    nn_test = apply(test_p ,1, paper9_nn, k[which.min(choose_k)], train_p ,train_r)\n",
    "    train_table = table(Train_Predict = nn_train, Train_Actual = train_r)\n",
    "    test_table = table(Test_Predict = nn_test, Test_Actual = test_r)\n",
    "    return(list(train = train_table, test = test_table))\n",
    "}\n",
    "paper9nn = classifier9nn(train_paper3, train_response, test_paper3, test_response)\n",
    "paper9nn$train\n",
    "paper9nn$test"
   ]
  },
  {
   "cell_type": "markdown",
   "metadata": {},
   "source": [
    "- Decision Tree"
   ]
  },
  {
   "cell_type": "code",
   "execution_count": 12,
   "metadata": {
    "collapsed": false
   },
   "outputs": [
    {
     "data": {
      "text/plain": [
       "             Train_Actual\n",
       "Train_Predict ALL AML\n",
       "          ALL  27   0\n",
       "          AML   0  11"
      ]
     },
     "metadata": {},
     "output_type": "display_data"
    },
    {
     "data": {
      "text/plain": [
       "            Test_Actual\n",
       "Test_Predict ALL AML\n",
       "         ALL  18   1\n",
       "         AML   2  13"
      ]
     },
     "metadata": {},
     "output_type": "display_data"
    }
   ],
   "source": [
    "# test_paper3 test_response train_paper3 train_response loaded\n",
    "classifier9dt = function(train_p, train_r, test_p, test_r){\n",
    "    cbine_data = data.frame(response = factor(train_r), train_p)\n",
    "    tree_mdl = tree(response~.,data = cbine_data)\n",
    "    tree_tr = predict(tree_mdl, data.frame(train_p), type = \"class\")\n",
    "    tree_te = predict(tree_mdl, data.frame(test_p), type = \"class\")\n",
    "    train_table = table(Train_Predict = tree_tr, Train_Actual = train_r)\n",
    "    test_table = table(Test_Predict = tree_te, Test_Actual = test_r)\n",
    "    return(list(train = train_table, test = test_table))\n",
    "}\n",
    "paper9dt = classifier9dt(train_paper3, train_response, test_paper3, test_response)\n",
    "paper9dt$train\n",
    "paper9dt$test"
   ]
  },
  {
   "cell_type": "markdown",
   "metadata": {},
   "source": [
    "- Bagging"
   ]
  },
  {
   "cell_type": "code",
   "execution_count": 13,
   "metadata": {
    "collapsed": false
   },
   "outputs": [
    {
     "data": {
      "text/plain": [
       "             Train_Actual\n",
       "Train_predict ALL AML\n",
       "          ALL  27   0\n",
       "          AML   0  11"
      ]
     },
     "metadata": {},
     "output_type": "display_data"
    },
    {
     "data": {
      "text/plain": [
       "            Test_Actual\n",
       "Test_predict ALL AML\n",
       "         ALL  18   1\n",
       "         AML   2  13"
      ]
     },
     "metadata": {},
     "output_type": "display_data"
    }
   ],
   "source": [
    "my_baghelper = function(train, test){\n",
    "    bg = sample(nrow(train), replace = T)\n",
    "    temp_md = tree(response~., data = train[bg, ])\n",
    "    predict(temp_md, test, type = \"class\")\n",
    "}\n",
    "classifier9bg = function(train_p, train_r, test_p, test_r, B = 50){\n",
    "    cbine_data = data.frame(response = factor(train_r), train_p)\n",
    "    t_tr = replicate(B, my_baghelper(cbine_data, data.frame(train_p)))\n",
    "    pred_tr = apply(t_tr, 1, function(x) ifelse(sum(x == \"AML\")>sum(x ==\"ALL\"), \"AML\", \"ALL\"))\n",
    "    t_te = replicate(B, my_baghelper(cbine_data, data.frame(test_p)))\n",
    "    pred_te = apply(t_te, 1, function(x) ifelse(sum(x == \"AML\")>sum(x ==\"ALL\"), \"AML\", \"ALL\"))\n",
    "    train_table = table(Train_predict = pred_tr, Train_Actual = train_r)\n",
    "    test_table = table(Test_predict = pred_te, Test_Actual = test_r)\n",
    "    return(list(train = train_table, test = test_table))\n",
    "}\n",
    "paper9bg = classifier9bg(train_paper3, train_response, test_paper3, test_response)\n",
    "paper9bg$train\n",
    "paper9bg$test"
   ]
  },
  {
   "cell_type": "markdown",
   "metadata": {},
   "source": [
    "- Bagging with CPD"
   ]
  },
  {
   "cell_type": "code",
   "execution_count": 14,
   "metadata": {
    "collapsed": false
   },
   "outputs": [
    {
     "data": {
      "text/plain": [
       "             Train_Actual\n",
       "Train_predict ALL AML\n",
       "          ALL  27   0\n",
       "          AML   0  11"
      ]
     },
     "metadata": {},
     "output_type": "display_data"
    },
    {
     "data": {
      "text/plain": [
       "            Test_Actual\n",
       "Test_predict ALL AML\n",
       "         ALL  18   1\n",
       "         AML   2  13"
      ]
     },
     "metadata": {},
     "output_type": "display_data"
    }
   ],
   "source": [
    "CPD = function(x1, x2, d = 0.75){\n",
    "    a = runif(nrow(x1), 0, d)\n",
    "    a*x1+(1-a)*x2\n",
    "}\n",
    "# helper function for each bagging with CPD\n",
    "my_cpdhelper = function(train, test){\n",
    "    id1 = sample(nrow(train), replace = T)\n",
    "    id2 = sample(nrow(train), replace = T)\n",
    "    temp = CPD(train[id1, -1], train[id2,-1])\n",
    "    temp_md = tree(response~., data = data.frame(temp, response = train$response[id1]))\n",
    "    predict(temp_md, test, type = \"class\")\n",
    "}\n",
    "classifier9bgcpd = function(train_p, train_r, test_p, test_r, B = 50){\n",
    "    cbine_data = data.frame(response = factor(train_r), train_p)\n",
    "    t_tr = replicate(B, my_cpdhelper(cbine_data, data.frame(train_p)))\n",
    "    pred_tr = apply(t_tr, 1, function(x) ifelse(sum(x == \"AML\")>sum(x ==\"ALL\"), \"AML\", \"ALL\"))\n",
    "    t_te = replicate(B, my_cpdhelper(cbine_data, data.frame(test_p)))\n",
    "    pred_te = apply(t_te, 1, function(x) ifelse(sum(x == \"AML\")>sum(x ==\"ALL\"), \"AML\", \"ALL\"))\n",
    "    train_table = table(Train_predict = pred_tr, Train_Actual = train_r)\n",
    "    test_table = table(Test_predict = pred_te, Test_Actual = test_r)\n",
    "    return(list(train = train_table, test = test_table))\n",
    "}\n",
    "paper9bgcpd = classifier9bg(train_paper3, train_response, test_paper3, test_response)\n",
    "paper9bgcpd$train\n",
    "paper9bgcpd$test"
   ]
  },
  {
   "cell_type": "markdown",
   "metadata": {},
   "source": [
    "- FLDA"
   ]
  },
  {
   "cell_type": "code",
   "execution_count": 15,
   "metadata": {
    "collapsed": false
   },
   "outputs": [
    {
     "data": {
      "text/plain": [
       "             Train_Actual\n",
       "Train_predict ALL AML\n",
       "          ALL  27   0\n",
       "          AML   0  11"
      ]
     },
     "metadata": {},
     "output_type": "display_data"
    },
    {
     "data": {
      "text/plain": [
       "            Test_Actual\n",
       "Test_predict ALL AML\n",
       "         ALL  18   1\n",
       "         AML   2  13"
      ]
     },
     "metadata": {},
     "output_type": "display_data"
    }
   ],
   "source": [
    "classifier9flda = function(train_p, train_r, test_p, test_r, B = 50){\n",
    "    cbine_data = data.frame(response = factor(train_r), train_p)\n",
    "    flda_md = MASS::lda(response~., data = cbine_data)\n",
    "    flda_tr = predict(flda_md, data.frame(train_p))$class\n",
    "    flda_te = predict(flda_md, data.frame(test_p))$class\n",
    "    train_table = table(Train_predict = flda_tr, Train_Actual = train_r)\n",
    "    test_table = table(Test_predict = flda_te, Test_Actual = test_r)\n",
    "    return(list(train = train_table, test = test_table))\n",
    "}\n",
    "paper9flda = classifier9bg(train_paper3, train_response, test_paper3, test_response)\n",
    "paper9flda$train\n",
    "paper9flda$test"
   ]
  },
  {
   "cell_type": "markdown",
   "metadata": {},
   "source": [
    "- DLDA"
   ]
  },
  {
   "cell_type": "code",
   "execution_count": 16,
   "metadata": {
    "collapsed": false
   },
   "outputs": [
    {
     "data": {
      "text/plain": [
       "             Train_Actual\n",
       "Train_predict ALL AML\n",
       "          ALL  27   1\n",
       "          AML   0  10"
      ]
     },
     "metadata": {},
     "output_type": "display_data"
    },
    {
     "data": {
      "text/plain": [
       "            Test_Actual\n",
       "Test_predict ALL AML\n",
       "         ALL  18   1\n",
       "         AML   2  13"
      ]
     },
     "metadata": {},
     "output_type": "display_data"
    }
   ],
   "source": [
    "classifier9dlda = function(train_p, train_r, test_p, test_r, B = 50){\n",
    "    cbine_data = data.frame(response = factor(train_r), train_p)\n",
    "    dlda_md = dlda(response~., data = cbine_data)\n",
    "    dlda_tr = predict(dlda_md, data.frame(train_p))$class\n",
    "    dlda_te = predict(dlda_md, data.frame(test_p))$class\n",
    "    train_table = table(Train_predict = dlda_tr, Train_Actual = train_r)\n",
    "    test_table = table(Test_predict = dlda_te, Test_Actual = test_r)\n",
    "    return(list(train = train_table, test = test_table))\n",
    "}\n",
    "paper9dlda = classifier9bg(train_paper3, train_response, test_paper3, test_response)\n",
    "paper9dlda$train\n",
    "paper9dlda$test"
   ]
  },
  {
   "cell_type": "markdown",
   "metadata": {},
   "source": [
    "- DQDA"
   ]
  },
  {
   "cell_type": "code",
   "execution_count": 17,
   "metadata": {
    "collapsed": false
   },
   "outputs": [
    {
     "data": {
      "text/plain": [
       "             Train_Actual\n",
       "Train_predict ALL AML\n",
       "          ALL  27   0\n",
       "          AML   0  11"
      ]
     },
     "metadata": {},
     "output_type": "display_data"
    },
    {
     "data": {
      "text/plain": [
       "            Test_Actual\n",
       "Test_predict ALL AML\n",
       "         ALL  18   1\n",
       "         AML   2  13"
      ]
     },
     "metadata": {},
     "output_type": "display_data"
    }
   ],
   "source": [
    "classifier9dqda = function(train_p, train_r, test_p, test_r, B = 50){\n",
    "    cbine_data = data.frame(response = factor(train_r), train_p)\n",
    "    dqda_md = dlda(response~., data = cbine_data)\n",
    "    dqda_tr = predict(dqda_md, data.frame(train_p))$class\n",
    "    dqda_te = predict(dqda_md, data.frame(test_p))$class\n",
    "    train_table = table(Train_predict = dqda_tr, Train_Actual = train_r)\n",
    "    test_table = table(Test_predict = dqda_te, Test_Actual = test_r)\n",
    "    return(list(train = train_table, test = test_table))\n",
    "}\n",
    "paper9dqda = classifier9bg(train_paper3, train_response, test_paper3, test_response)\n",
    "paper9dqda$train\n",
    "paper9dqda$test"
   ]
  },
  {
   "cell_type": "markdown",
   "metadata": {},
   "source": [
    "##### Paper 29 classifier"
   ]
  },
  {
   "cell_type": "code",
   "execution_count": 18,
   "metadata": {
    "collapsed": false
   },
   "outputs": [
    {
     "data": {
      "text/plain": [
       "             Train_Actual\n",
       "Train_predict ALL AML\n",
       "          ALL  27   0\n",
       "          AML   0  11"
      ]
     },
     "metadata": {},
     "output_type": "display_data"
    },
    {
     "data": {
      "text/plain": [
       "            Test_Actual\n",
       "Test_predict ALL AML\n",
       "         ALL  17   1\n",
       "         AML   3  13"
      ]
     },
     "metadata": {},
     "output_type": "display_data"
    }
   ],
   "source": [
    "classifier29 = function(train_p, train_r, test_p, test_r, B = 50){\n",
    "    train_data = data.frame(train_p, class = train_r)\n",
    "    test_data = data.frame(test_p)\n",
    "    eg = empty.graph(c(\"class\", colnames(train_p)))\n",
    "    arcs(eg) = matrix(c(rep(\"class\", 50), \n",
    "                        colnames(train_p)), \n",
    "                      ncol = 2, byrow = F, \n",
    "                      dimnames = list(c(), c(\"from\", \"to\")))\n",
    "    fitted = bn.fit(eg, train_data)\n",
    "    predict_tr = predict(fitted, node = \"class\", method=\"bayes-lw\", train_data)\n",
    "    predict_te = predict(fitted, node = \"class\", method=\"bayes-lw\", test_data)\n",
    "    train_table = table(Train_predict = predict_tr, Train_Actual = train_r)\n",
    "    test_table = table(Test_predict = predict_te, Test_Actual = test_r)\n",
    "    return(list(train = train_table, test = test_table))\n",
    "}\n",
    "paper29 = classifier29(data.frame(apply(train_paper3, 2, as.numeric)), train_response, data.frame(apply(test_paper3, 2, as.numeric)), test_response)\n",
    "paper29$train\n",
    "paper29$test"
   ]
  }
 ],
 "metadata": {
  "kernelspec": {
   "display_name": "R",
   "language": "R",
   "name": "ir"
  },
  "language_info": {
   "codemirror_mode": "r",
   "file_extension": ".r",
   "mimetype": "text/x-r-source",
   "name": "R",
   "pygments_lexer": "r",
   "version": "3.3.2"
  }
 },
 "nbformat": 4,
 "nbformat_minor": 0
}
