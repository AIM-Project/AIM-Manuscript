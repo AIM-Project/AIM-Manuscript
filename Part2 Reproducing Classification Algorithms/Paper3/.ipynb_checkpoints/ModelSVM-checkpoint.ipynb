{
 "cells": [
  {
   "cell_type": "markdown",
   "metadata": {},
   "source": [
    "### SVM\n",
    "\n",
    "Use R package e1701, which has svm already implemented. As we use the function in e1701, we don't have unclassified observations as in the paper. They have accuracy rate of 93.3% for linear kernel and 94.4% for quadratic kernel. We have 31/34 = 91.2% correctly classified by linear kernel and 32/34 = 94.1% correctly classified by quadratic kernel."
   ]
  },
  {
   "cell_type": "code",
   "execution_count": 1,
   "metadata": {
    "collapsed": true
   },
   "outputs": [],
   "source": [
    "library(e1071)\n",
    "set.seed(201702)\n",
    "load(\"../transformed data/paper3.rda\")\n",
    "load(\"DP.rda\")"
   ]
  },
  {
   "cell_type": "code",
   "execution_count": 2,
   "metadata": {},
   "outputs": [
    {
     "data": {
      "text/plain": [
       "               Train_Actual\n",
       "Train_Predicted  0  1\n",
       "              0 27  0\n",
       "              1  0 11"
      ]
     },
     "metadata": {},
     "output_type": "display_data"
    },
    {
     "data": {
      "text/plain": [
       "              Test_Actual\n",
       "Test_Predicted  0  1\n",
       "             0 16  2\n",
       "             1  4 12"
      ]
     },
     "metadata": {},
     "output_type": "display_data"
    }
   ],
   "source": [
    "# build the data for R functions\n",
    "r_train = data.frame(train_cl, Y = factor(golub_train_l))\n",
    "r_test =data.frame( test_cl, Y = factor(golub_test_l))\n",
    "\n",
    "# build svm with linear kernel\n",
    "svm_linear = svm(Y~., data = r_train)\n",
    "svm_l_trpr = predict(svm_linear, r_train)\n",
    "svm_l_tepr = predict(svm_linear, newdata = r_test)\n",
    "\n",
    "# Result summary\n",
    "table(Train_Predicted  = svm_l_trpr, Train_Actual = golub_train_l)\n",
    "table(Test_Predicted = svm_l_tepr, Test_Actual = golub_test_l)"
   ]
  },
  {
   "cell_type": "code",
   "execution_count": 3,
   "metadata": {},
   "outputs": [
    {
     "data": {
      "text/plain": [
       "               Train_Actual\n",
       "Train_Predicted  0  1\n",
       "              0 27  0\n",
       "              1  0 11"
      ]
     },
     "metadata": {},
     "output_type": "display_data"
    },
    {
     "data": {
      "text/plain": [
       "              Test_Actual\n",
       "Test_Predicted  0  1\n",
       "             0 20  3\n",
       "             1  0 11"
      ]
     },
     "metadata": {},
     "output_type": "display_data"
    }
   ],
   "source": [
    "#build svm with quadratic kernel\n",
    "svm_quad = svm(Y~., data = r_train, kernel = \"polynomial\", degree = 2,  gamma =0.01, coef0 = 100)\n",
    "svm_q_trpr = predict(svm_quad, r_train)\n",
    "svm_q_tepr = predict(svm_quad, newdata = r_test)\n",
    "\n",
    "# Result_summary\n",
    "table(Train_Predicted  = svm_q_trpr, Train_Actual = golub_train_l)\n",
    "table(Test_Predicted = svm_q_tepr, Test_Actual = golub_test_l)"
   ]
  },
  {
   "cell_type": "code",
   "execution_count": null,
   "metadata": {
    "collapsed": true
   },
   "outputs": [],
   "source": []
  }
 ],
 "metadata": {
  "kernelspec": {
   "display_name": "R",
   "language": "R",
   "name": "ir"
  },
  "language_info": {
   "codemirror_mode": "r",
   "file_extension": ".r",
   "mimetype": "text/x-r-source",
   "name": "R",
   "pygments_lexer": "r",
   "version": "3.4.2"
  }
 },
 "nbformat": 4,
 "nbformat_minor": 2
}
