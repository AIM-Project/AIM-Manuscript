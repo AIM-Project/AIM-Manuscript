{
 "cells": [
  {
   "cell_type": "markdown",
   "metadata": {},
   "source": [
    "### AdaBoost\n",
    "\n",
    "Use R package fastAdaboost, which use decision trees as weak classifiers as the paper use decision stumps as week learners. They have accuracy rate of 95.8% and we have accuracy rate of 31/34 = 91.2%."
   ]
  },
  {
   "cell_type": "code",
   "execution_count": 1,
   "metadata": {
    "collapsed": true
   },
   "outputs": [],
   "source": [
    "library(fastAdaboost)\n",
    "set.seed(201702)\n",
    "load(\"../transformed data/paper3.rda\")\n",
    "load(\"DP.rda\")"
   ]
  },
  {
   "cell_type": "code",
   "execution_count": 2,
   "metadata": {},
   "outputs": [
    {
     "data": {
      "text/plain": [
       "             Train_Actual\n",
       "Train_Predict  0  1\n",
       "            0 27  0\n",
       "            1  0 11"
      ]
     },
     "metadata": {},
     "output_type": "display_data"
    },
    {
     "data": {
      "text/plain": [
       "            Test_Actual\n",
       "Test_Predict  0  1\n",
       "           0 18  1\n",
       "           1  2 13"
      ]
     },
     "metadata": {},
     "output_type": "display_data"
    }
   ],
   "source": [
    "# build the data for R functions\n",
    "r_train = data.frame(train_cl, Y = factor(golub_train_l))\n",
    "r_test =data.frame( test_cl, Y = factor(golub_test_l))\n",
    "# build the classifier iter 100\n",
    "ada_cl = adaboost(Y~., data = r_train, 100)\n",
    "\n",
    "# prediction and result\n",
    "ada_train_pr = predict(ada_cl, r_train)\n",
    "ada_test_pr = predict(ada_cl, newdata = r_test)\n",
    "table(Train_Predict = ada_train_pr$class, Train_Actual = golub_train_l)\n",
    "table(Test_Predict = ada_test_pr$class, Test_Actual = golub_test_l)"
   ]
  },
  {
   "cell_type": "code",
   "execution_count": null,
   "metadata": {
    "collapsed": true
   },
   "outputs": [],
   "source": []
  }
 ],
 "metadata": {
  "kernelspec": {
   "display_name": "R",
   "language": "R",
   "name": "ir"
  },
  "language_info": {
   "codemirror_mode": "r",
   "file_extension": ".r",
   "mimetype": "text/x-r-source",
   "name": "R",
   "pygments_lexer": "r",
   "version": "3.4.2"
  }
 },
 "nbformat": 4,
 "nbformat_minor": 2
}
