{
 "cells": [
  {
   "cell_type": "markdown",
   "metadata": {},
   "source": [
    "### Bayesion Network Classfier(genes classification)\n",
    "\n",
    "For each feature selection methods, we check both 50 and 90 genes selection below."
   ]
  },
  {
   "cell_type": "code",
   "execution_count": 5,
   "metadata": {},
   "outputs": [
    {
     "data": {
      "text/plain": [
       "             True\n",
       "Predict_train ALL AML\n",
       "          ALL  27   0\n",
       "          AML   0  11"
      ]
     },
     "metadata": {},
     "output_type": "display_data"
    },
    {
     "data": {
      "text/plain": [
       "            True\n",
       "Predict_test ALL AML\n",
       "         ALL  19  11\n",
       "         AML   1   3"
      ]
     },
     "metadata": {},
     "output_type": "display_data"
    }
   ],
   "source": [
    "suppressMessages(library(bnlearn))\n",
    "set.seed(201703)\n",
    "load(\"../transformed data/paper29.rda\")\n",
    "k = c(5,10,20,30,50,70,90)\n",
    "# kmeans method\n",
    "km_50 = empty.graph(c(\"class\", colnames(data.frame(train_kmeans))))\n",
    "#km_set = cbind( from = colnames(data.frame(golub_train_p_trans[,kmeans_id])), to = rep(\"class\", k[5]))\n",
    "arcs(km_50) = matrix(c(rep(\"class\", k[5]), \n",
    "                    colnames(data.frame(train_kmeans))), \n",
    "                  ncol = 2, byrow = F, dimnames = list(c(), c(\"from\", \"to\")))\n",
    "#plot(km)\n",
    "km_fitted_50 = bn.fit(km_50, train_kmeans_50)\n",
    "km_predict_train_50 = predict(km_fitted_50, node = \"class\", method=\"bayes-lw\", train_kmeans_50)\n",
    "km_predict_test_50 = predict(km_fitted_50, node = \"class\", method=\"bayes-lw\", test_kmeans_50)\n",
    "table(Predict_train = km_predict_train_50, True = train_kmeans_50$class)\n",
    "table(Predict_test = km_predict_test_50, True = golub_test_r)"
   ]
  }
 ],
 "metadata": {
  "kernelspec": {
   "display_name": "R",
   "language": "R",
   "name": "ir"
  },
  "language_info": {
   "codemirror_mode": "r",
   "file_extension": ".r",
   "mimetype": "text/x-r-source",
   "name": "R",
   "pygments_lexer": "r",
   "version": "3.4.3"
  }
 },
 "nbformat": 4,
 "nbformat_minor": 2
}
