{
 "cells": [
  {
   "cell_type": "markdown",
   "metadata": {},
   "source": [
    "### Feature selection \n",
    "\n",
    "As the details about this is not found in the paper, we make an assumption and use the genes selected using train data also as predictors selected for the test data. Also, for kmeans clustering feature selection, we select the top1 genes from each cluster using absolute SNR. Below are the helper functions for feature selection."
   ]
  },
  {
   "cell_type": "code",
   "execution_count": 1,
   "metadata": {},
   "outputs": [],
   "source": [
    "load(\"DP.rda\")"
   ]
  },
  {
   "cell_type": "code",
   "execution_count": 2,
   "metadata": {},
   "outputs": [],
   "source": [
    "set.seed(201703)\n",
    "#SNR:signal-to-noise ratio\n",
    "get_SNR = function(train_d, train_r){\n",
    "    tr_m_aml =  colMeans(train_d[train_r == \"AML\",])\n",
    "    tr_sd_aml = apply(train_d[train_r == \"AML\",], 2, sd)\n",
    "    tr_m_all = colMeans(train_d[train_r == \"ALL\",])\n",
    "    tr_sd_all = apply(train_d[train_r == \"ALL\",], 2, sd)\n",
    "    p = (tr_m_aml-tr_m_all)/(tr_sd_aml+tr_sd_all)\n",
    "    return(p)\n",
    "}\n",
    "# Kmeans clustering and then SNR ranking selection\n",
    "get_kmeans = function(k, train_d, train_r){\n",
    "    cl = kmeans(t(train_d), k, iter.max=50)$cluster\n",
    "    result = numeric(k)\n",
    "    for(i in 1:k){\n",
    "        id = (cl == i)\n",
    "        oid = (1:ncol(train_d))[id]\n",
    "        iSNR = get_SNR(t(t(train_d)[id,]),train_r)\n",
    "        temp = which.max(abs(iSNR))\n",
    "        result[i] = oid[temp]\n",
    "    }\n",
    "    return(result)\n",
    "}\n",
    "\n",
    "#get the data after gene selection for each method\n",
    "k = c(5,10,20,30,50,70,90)\n",
    "kmeans_id_50 = get_kmeans(k[5], golub_train_p_trans, golub_train_r)\n",
    "train_kmeans_50 = data.frame(golub_train_p_trans[,kmeans_id_50], class = golub_train_r)\n",
    "test_kmeans_50 = data.frame(golub_test_p_trans[,kmeans_id_50])\n",
    "train_kmeans = golub_train_p_trans[,kmeans_id_50]\n",
    "test_kmeans = golub_test_p_trans[,kmeans_id_50]\n",
    "save(train_kmeans,golub_train_r, test_kmeans,golub_test_r,train_kmeans_50, test_kmeans_50, file = \"../transformed data/paper29.rda\")"
   ]
  },
  {
   "cell_type": "code",
   "execution_count": null,
   "metadata": {},
   "outputs": [],
   "source": []
  }
 ],
 "metadata": {
  "kernelspec": {
   "display_name": "R",
   "language": "R",
   "name": "ir"
  },
  "language_info": {
   "codemirror_mode": "r",
   "file_extension": ".r",
   "mimetype": "text/x-r-source",
   "name": "R",
   "pygments_lexer": "r",
   "version": "3.4.3"
  }
 },
 "nbformat": 4,
 "nbformat_minor": 2
}
