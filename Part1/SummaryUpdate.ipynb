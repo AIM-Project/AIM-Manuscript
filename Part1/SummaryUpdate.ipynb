{
 "cells": [
  {
   "cell_type": "markdown",
   "metadata": {},
   "source": [
    " ### **Summary of papers checked**\n",
    "\n",
    "| Paper ID | Dataset Described | Feature Selection|Classifier |Validation/Test|\n",
    "|----------|-------------------|------------------|-----------|---------------|\n",
    "|1|$72(Train\\ 38, Test\\ 34)\\times 6817$ $(47 ALL, 25 AML)$ |Informative genes | Golub classifier: Weighted vote + Prediction Strength(difference between votes)|1-fold cross-validation on initial data and on independent test data|\n",
    "|2|$72(Train\\ 38, Test\\ 34)\\times 6817$ $(47 ALL,25 AML)$|Relative class separation(same as Informative genes) | Golub classifier: Weighted vote + Prediction Strength(difference between votes)|1-fold cross-validation on initial data and on independent test data|\n",
    "|3|$72\\times 7129$ $(47 ALL,25 AML)$|the Threshold Number of Misclassification(TNoM)|Nearest Neighbor <br> SVM(linear kernel, quadratic kernel) <br> Boosting (100, 1000, 10000 iteration)|LOOCV on whole set|\n",
    "|4|$72(Train\\ 38, Test\\ 34)\\times 7129$ $(47 ALL,25 AML)$|Same as Golub. Paper|linear kernel SVM(all features, top 25, 250, 500, 1000 features), Perceptron(lack of details)|Tune by CV on Train set, Test on set,  also have reorganize data set to explore more possibilities|\n",
    "|5|$72 \\times 7070$ $(47 ALL,25 AML)$|MVR(median vote relevance),NBGR(naive bayes global relevance), MAR(Golub paper relevance)(ranked use 72 obs)|SVM(linear kernel, radial kernel)|LOOCV, Tr/Ts:38/34, Tr/Ts: 34/38|\n",
    "|6|$72(Train\\ 38, Test\\ 34)\\times 6817$ $(47 ALL,25 AML)$|Dimension Reduction: PCA, PLS(Partial Least Square)(from p = 50)| logistic and quadratic discrimination analysis |LOOCV on Train, Test on test set; rerandomization with equal split 36/36|\n",
    "|7|$72(Train\\ 38, Test\\ 34)\\times 7129$ $(47 ALL,25 AML)$|Recursive Feature Elimination|SVM(linear kernel)|LOOCV/Test: success rate (at zero rejection),acceptance rate (at zero error) with various number of features|\n",
    "|8|$72(Train\\ 38, Test\\ 34)\\times 6817$ $(47 ALL,25 AML)$|Almost same as 6|Almost same as 6|Almost same as 6|\n",
    "|9|$72\\times 6817$ $(47 ALL, 25 AML)$->$72\\times 3571$|BW: ratio of their between-group to withingroup sums of squares|Linear and quadratic discriminant analysis(FLDA, DLDA, DQDA),Golub classification, Classification trees(CV, Bag, Boosted, Boosted with CPD), Nearest neighbors|2:1 Train-test random split|\n",
    "|10|$72(Train\\ 38, Test\\ 34)\\times 7129$ $(47 ALL, 25 AML)$|(Train\\ 38, Test\\ 34)|single C4.5(decision tree), bagged(C4.5), AdaBoost(C4.5)(encapsuled in WEKA)|Test Accuracy|\n",
    "|11|$72(Train\\ 38, Test\\ 34)\\times 7129$ $(47 ALL, 25 AML)$|adaptive effective dimension reduction approach (MAVE) of Xia et al. (2002)|MAVE-LD, DLDA, DQDA, MAVE-NPLD|LOOCV/Test accuracy with 50, 100, 200 genes|\n",
    "|12|$72\\times 7129$ $(47 ALL, 25 AML)$|classifier feedback approach+Disjoint PCA|Soft Independent Modeling of Class Analogy (SIMCA) classification|Test Accuracy|\n",
    "|13|$72\\times 7129$ $(47 ALL, 25 AML)$|This is a clustering paper.|\n",
    "|14|$72(Train\\ 38, Test\\ 34)\\times 7129$ $(47 ALL, 25 AML)$->$72\\times 3571$|nonparametric scoring method|LogitBoost, AdaBoost, Nearest Neighbor, Classification Tree| LOOCV Tune on Train and test on Test|\n",
    "|15|$72(Train\\ 38, Test\\ 34)\\times 7129$ $(47 ALL, 25 AML)$|ratio of between classes sum of squares to within class sum of squares for each gene|MSVM(linear and gaussian kernel)|Misclassifcation on Test|\n",
    "|16|$72(Train\\ 38, Test\\ 34)\\times 7129$ $(47 ALL, 25 AML)$|ideal feature construction|MAximal MArgin Linear Programming（MAMA)|LOOCV on Train/Test: Misclassifcation|\n",
    "|17|$72(Train\\ 38, Test\\ 34)\\times 7129$ $(47 ALL, 25 AML)$|univariate ranking (UR),recursive feature elimination (RFE) |Penalized Logistic Regression, SVM|10-CV on Train/Test: error|\n",
    "|18|$72\\times 7129$ $(47 ALL, 25 AML)$|information gain, twoing rule, sum minority, max minority, Gini index, sum of variances, one-dimensional SVM and t -statistics.|SVM, KNN, Naive Bayes, J4.8 DT|Test Accuracy|\n",
    "|19|$72\\times 5327$ $(47 ALL, 25 AML)$|(1) ratio of genes between-categories to within-category sums of squares(BW) (Dudoit et al., 2002); (2–3) signal-to-noise (S2N) scores (Golub et al.,1999) applied in a OVR (S2N-OVR) and in OVO (S2N-OVO) fashion; and (4) Kruskal–Wallis non-parametric one-way ANOVA (KW) (Jones, 1997)(5)no feature selection|MC-SVM, Neural Network, KNN, PNN|10 folds-CV accuracy|\n",
    "|20|$72(Train\\ 38, Test\\ 34)\\times 3571$ $(47 ALL, 25 AML)$|BSS=WSS criterion (Dudoit et al., 2002), Wilcoxon rank-based statistics and soft-thresholding method (Tibshirani et al., 2002)|Fisher’s linear discriminant analysis (FLDA),Diagonal linear and quadratic discriminant analysis (DLDA, DQDA),Logistic regression (LOGISTIC),Generalized partial least squares (GPLS),k nearest neighbor (kNN),CART and aggregating classi%ers (BAG, BOOST, LogitBOOST,RandomForest),Single & multi layer neural network (NN-1, NN-3),Support vector machine (SVM-linear, radial),Flexible discriminant analysis (FDA-POL, FDA-MARS),Penalized discriminant analysis (PDA),Mixture discriminant analysis (MDA-Linear, MDA-MARS),Shrunken centroids method (or Predictive Analysis of Microarrays (PAM))| Mean testset error|\n",
    "|21|$72(Train\\ 38, Test\\ 34)\\times 7129$ $(47 ALL, 25 AML)$|No explicit feature selection|TSP(Top scoring pairs),C4.5 decision trees (DT), Naïve Bayes (NB), k-nearest neighbor (k-NN), Support Vector Machines (SVM) and prediction analysis of microarrays (PAM)|LOOCV accuracy on Train, test accuracy reported|\n",
    "|22|$38\\times 3051$ $(27 ALL, 11 AML)$|CV, F-ratio|without variable selection: random forest, Diagonal Linear Discriminant Analysis (DLDA), K nearest neighbor (KNN), Support Vector Machines (SVM) with linear kernel; with variable selection: Shrunken centroids(SC),SC.l and SC.s,Nearest neighbor|bootstrap leave out error|\n",
    "|23|$72(Train\\ 38, Test\\ 34)\\times 7129$ $(47 ALL, 25 AML)$|RMIMR(Rough Maximum Interaction-Maximum Relevance)|SVM and Naive-Bayes|LOOCV error rate|\n",
    "|24|$72\\times 7129$ $(47 ALL, 25 AML)$|Independent component analysis(ICA)|SVM, PCA+FDA, P-RR,P-PCR,P-ICR, PAM|Train/Test accuracy|\n",
    "|25|$38\\times 3051$ $(27 ALL, 11 AML)$|Family-Wise-Error rate, BBF (Based Bayes error Filter)|KNN, SVM|LOOCV|\n",
    "|26|$72(Train\\ 38, Test\\ 34)\\times 3051$ $(47 ALL, 25 AML)$|the q most significant genes with gene expression difference between arrays with y=1 and arrays with y=0 for each of the p genes|parametric bootstrap model|boostrap mean prediction error|\n",
    "|27|$62\\times 7129$ |Stepwise regression-based feature selection,ICA-based feature transformation|Naive Bayes|Hold out accuracy|\n",
    "|28|$72\\times 7129$ $(47 ALL, 25 AML)$|Information gain attribute evaluator, relief attribute evaluator and correlation-based feature selection (CFS) methods|mixed integer linear programming based hyper-box enclosure (HBE) approach|Test/LOOCV/10-CV Accuracy rate reported|\n",
    "|29|$72(Train\\ 38, Test\\ 34)\\times 7129$ $(47 ALL, 25 AML)$|Signal-to-Noise Ratio, Kmeans clustering|Bayes Network|Classification accuracy reported|\n",
    "|30|$34\\times 7129$ $(20 ALL, 14 AML)$|This is to select genes|Kmeans Clustering|Accuracy, Specificity, Sensitivity|"
   ]
  },
  {
   "cell_type": "markdown",
   "metadata": {},
   "source": [
    "### **Reasons of exclusion**\n",
    "\n",
    "    1. repeated algorithm (paper2, paper4, paper5, paper7, paper8, paper17, paper20)\n",
    "    2. encapsulated in software (paper4, paper5, paper10, paper11, paper18, paper19, paper21, paper26)\n",
    "    3. unfamiliar methods(paper11, paper12, paper14, paper16, paper22, paper23, paper26, paper28)\n",
    "    4. clustering(paper13)\n",
    "    5. use golub data for multiclass problem(paper15, paper18)\n",
    "    6. not using the whole golub dataset or not clear about the dataset(paper22, paper25, paper27,  paper30)\n",
    "    7. Parameters or settings not clearly specified in the paper(paper28, paper29, paper30)"
   ]
  },
  {
   "cell_type": "markdown",
   "metadata": {},
   "source": [
    "## ** Paper 1:Molecular classification of cancer: class discovery and class prediction by gene expression monitoring **\n",
    "<img src=\" paper1.png\">\n",
    "- Data:\n",
    "    - Train: 38*7129 (27ALL/11AML)\n",
    "    - Test: 34*7129 (20ALL/ 14 AML)\n",
    "- Preprocessing:\n",
    "    - Thresholding\n",
    "    - Filtering\n",
    "    - Transformation\n",
    "    - Normalization\n",
    "- Feature Selection:\n",
    "    - Neighborhood analysis\n",
    "    - Informative genes selection\n",
    "- Steps:\n",
    "    - Preprocessing Train/Test data using Train data statistics\n",
    "    - Feature selection using Train data\n",
    "    - Perform LOOCV on Train data for each LOOCV build various model and get LOOCV accuracy\n",
    "    - Predict on Test data using gene selected and model built on Train data and get Test accuracy"
   ]
  },
  {
   "cell_type": "markdown",
   "metadata": {},
   "source": [
    "##  ** Paper 3:Tissue Classification with Gene Expression Profiles **\n",
    "<img src=\"paper3.png\">\n",
    "\n",
    "- Data:\n",
    "    - Merge: 72*7129 (27ALL/11AML)\n",
    "- Preprocessing:\n",
    "    - Unknown preprocessing and we use Golub preprocessing instead.\n",
    "- Feature Selection:\n",
    "    - TNoM score\n",
    "    - Significance: Monte Carlo permutation test\n",
    "- Steps:\n",
    "    - Perform LOOCV from the start using merged Golub. data\n",
    "    - Preprocessing and feature selection on the hold 71 samples\n",
    "    - Train on 71 hold samples and predict on leave out sample and get LOOCV accuracy"
   ]
  },
  {
   "cell_type": "markdown",
   "metadata": {},
   "source": [
    "## ** Paper 6:Classification of Acute Leukemia Based on DNA Microarray Gene Expressions Using Partial Least Squares **\n",
    "\n",
    "<img src=\"paper6.png\">\n",
    "\n",
    "- Data:\n",
    "    - Train: 38*7129 (27ALL/11AML)\n",
    "    - Test: 34*7129 (20ALL/ 14 AML)\n",
    "- Preprocessing:\n",
    "    - Thresholding Algorithm for rescaling, however, we use Golub. one.\n",
    "- Feature Selection:\n",
    "    - Same 50 genes as in Golub. Paper\n",
    "- Dimension Reduction:\n",
    "    - PCA\n",
    "    - PLS\n",
    "- Steps\n",
    "    - Select the same gene as in Golub. Paper\n",
    "    - Perform dimension reduction on the selected gene\n",
    "    - LOOCV on Train data: build LD and QDA model and get the LOOCV accuracy\n",
    "    - Dimension reduction of Test data using loadings of Train, predict by model built on Train data and get the Test Accuracy"
   ]
  },
  {
   "cell_type": "markdown",
   "metadata": {},
   "source": [
    "## ** Paper 9: Comparison of Discrimination Methods for the Classification of Tumors Using Gene Expression Data**\n",
    "\n",
    "<img src=\"paper9.png\">\n",
    "\n",
    "- Data:\n",
    "    - Merge: 72*7129 (42ALL/25AML)\n",
    "- Preprocessing:\n",
    "    - Thresholding\n",
    "    - Filtering\n",
    "    - Transformation\n",
    "    - Normalization\n",
    "- Feature Selection:\n",
    "    - BW\n",
    "- Steps:\n",
    "    - Preprocess on the whole merged data\n",
    "    - Repeat below steps 200 times:\n",
    "        - Split the merged data into Train/Test with ratio 2:1\n",
    "        - Feature selection on and train model on Train data\n",
    "        - Test on Test data using features selected and model built in the previous step \n",
    "        - Get Ave Test accuracy"
   ]
  },
  {
   "cell_type": "markdown",
   "metadata": {},
   "source": [
    "## ** Paper 29:Acute Leukemia Classification using Bayesian Networks **\n",
    "\n",
    "<img src=\"paper29.png\">\n",
    "- Data:\n",
    "    - Train: 38*7129 (27ALL/11AML)\n",
    "    - Test: 34*7129 (20ALL/ 14 AML)\n",
    "- Preprocessing:\n",
    "    - Thresholding\n",
    "    - Filtering\n",
    "    - Transformation\n",
    "    - Normalization\n",
    "- Feature Selection:\n",
    "    - SNR\n",
    "    - Kmeans Clustering\n",
    "- Steps:\n",
    "    - Same preprocessing and feature selection on Train data as Golub. Paper\n",
    "    - Build Bayesian Networks on Train data\n",
    "    - Predict using Networks built on Test data\n",
    "    - Get test accuracy"
   ]
  },
  {
   "cell_type": "code",
   "execution_count": null,
   "metadata": {
    "collapsed": true
   },
   "outputs": [],
   "source": []
  }
 ],
 "metadata": {
  "kernelspec": {
   "display_name": "R",
   "language": "R",
   "name": "ir"
  },
  "language_info": {
   "codemirror_mode": "r",
   "file_extension": ".r",
   "mimetype": "text/x-r-source",
   "name": "R",
   "pygments_lexer": "r",
   "version": "3.3.2"
  }
 },
 "nbformat": 4,
 "nbformat_minor": 0
}
